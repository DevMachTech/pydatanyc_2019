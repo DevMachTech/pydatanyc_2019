{
 "cells": [
  {
   "cell_type": "markdown",
   "metadata": {
    "slideshow": {
     "slide_type": "slide"
    }
   },
   "source": [
    "# Transformer and BERT"
   ]
  },
  {
   "cell_type": "markdown",
   "metadata": {
    "slideshow": {
     "slide_type": "fragment"
    }
   },
   "source": [
    "- <sub>Vaswani et al., [Attention is All you Need.](https://papers.nips.cc/paper/7181-attention-is-all-you-need) NIPS 2017: 5998-6008</sub>\n",
    "- <sub>Devlin et al., [BERT: Pre-training of Deep Bidirectional Transformers for Language Understanding.](https://www.aclweb.org/anthology/N19-1423/) NAACL-HLT (1) 2019: 4171-4186</sub>\n",
    "\n",
    "---\n",
    "\n",
    "- [The Illustrated Transformer](https://jalammar.github.io/illustrated-transformer/)\n",
    "- [The Illustrated BERT, ELMo ...](https://jalammar.github.io/illustrated-bert/)\n",
    "- [The Annotated Transformer](http://nlp.seas.harvard.edu/2018/04/03/attention.html)\n",
    "\n",
    "---"
   ]
  },
  {
   "cell_type": "markdown",
   "metadata": {
    "slideshow": {
     "slide_type": "notes"
    }
   },
   "source": [
    "This last part of the tutorial is about a new network architechture called the Transformer and a specific version of that called BERT. I'm not going to go through the transformer architechture in detail as there are already plenty of resources that do so, some in excruciating detail (see links). Instead, I'm going to cover two specific aspects of the architecture that I found rather unintuitive or was unable to find satisfactory explanations for elsewhere: the specific attention model of BERT and the input encoding that is used.\n",
    "\n",
    "There's going to be some slides and some code examples and right in the end I'll show some real world results from the data from where I work."
   ]
  },
  {
   "cell_type": "markdown",
   "metadata": {
    "slideshow": {
     "slide_type": "subslide"
    }
   },
   "source": []
  },
  {
   "cell_type": "markdown",
   "metadata": {
    "slideshow": {
     "slide_type": "fragment"
    }
   },
   "source": [
    "![24 hours in Finland]()"
   ]
  },
  {
   "cell_type": "markdown",
   "metadata": {
    "slideshow": {
     "slide_type": "notes"
    }
   },
   "source": [
    "But first, please bare with me for a short digression about language. I think it's important to understand what these deep networks are meant to be learning versus what they may or may not be learning.\n",
    "\n",
    "If you find this digression unbearable I hope you'll at least enjoy the pretty pictures - this is 24 hours in Finland during the summer, with about 23 hours of sunlight.\n",
    "\n",
    "\n",
    "Computational linguistics as a field has relatively recently moved drastically away from explicit representation of meaning towards implicit, learned representations. One example of this is word vectors or embeddings that aim to encode distributional similarity and facilitate distributional composition. So for instance, you take embedding for \"red\" and the embedding for \"car\" put them together and you get something that should be similar to say \"ferrari\"."
   ]
  },
  {
   "cell_type": "markdown",
   "metadata": {
    "slideshow": {
     "slide_type": "subslide"
    }
   },
   "source": [
    "![A Ferrari](ferrari-miniature-red-35964.jpg)"
   ]
  },
  {
   "cell_type": "markdown",
   "metadata": {
    "slideshow": {
     "slide_type": "notes"
    }
   },
   "source": [
    "This is extremely convenient as it gives you arithmetic tools to work with \"meaning\", but it's also just single units (words) not larger collections like documents etc. Word vectors are not the only way to represent or encode meaning."
   ]
  },
  {
   "cell_type": "code",
   "execution_count": 132,
   "metadata": {
    "slideshow": {
     "slide_type": "subslide"
    }
   },
   "outputs": [],
   "source": [
    "import spacy\n",
    "nlp = spacy.load('en')"
   ]
  },
  {
   "cell_type": "code",
   "execution_count": 134,
   "metadata": {
    "slideshow": {
     "slide_type": "fragment"
    }
   },
   "outputs": [
    {
     "data": {
      "text/html": [
       "<svg xmlns=\"http://www.w3.org/2000/svg\" xmlns:xlink=\"http://www.w3.org/1999/xlink\" xml:lang=\"en\" id=\"8a5ab0bd4b24478ebf00175b5d1e6442-0\" class=\"displacy\" width=\"925\" height=\"312.0\" direction=\"ltr\" style=\"max-width: none; height: 312.0px; color: #000000; background: #ffffff; font-family: Arial; direction: ltr\">\n",
       "<text class=\"displacy-token\" fill=\"currentColor\" text-anchor=\"middle\" y=\"222.0\">\n",
       "    <tspan class=\"displacy-word\" fill=\"currentColor\" x=\"50\">PyData</tspan>\n",
       "    <tspan class=\"displacy-tag\" dy=\"2em\" fill=\"currentColor\" x=\"50\">PROPN</tspan>\n",
       "</text>\n",
       "\n",
       "<text class=\"displacy-token\" fill=\"currentColor\" text-anchor=\"middle\" y=\"222.0\">\n",
       "    <tspan class=\"displacy-word\" fill=\"currentColor\" x=\"225\">Berlin</tspan>\n",
       "    <tspan class=\"displacy-tag\" dy=\"2em\" fill=\"currentColor\" x=\"225\">PROPN</tspan>\n",
       "</text>\n",
       "\n",
       "<text class=\"displacy-token\" fill=\"currentColor\" text-anchor=\"middle\" y=\"222.0\">\n",
       "    <tspan class=\"displacy-word\" fill=\"currentColor\" x=\"400\">is</tspan>\n",
       "    <tspan class=\"displacy-tag\" dy=\"2em\" fill=\"currentColor\" x=\"400\">AUX</tspan>\n",
       "</text>\n",
       "\n",
       "<text class=\"displacy-token\" fill=\"currentColor\" text-anchor=\"middle\" y=\"222.0\">\n",
       "    <tspan class=\"displacy-word\" fill=\"currentColor\" x=\"575\">lovely</tspan>\n",
       "    <tspan class=\"displacy-tag\" dy=\"2em\" fill=\"currentColor\" x=\"575\">ADJ</tspan>\n",
       "</text>\n",
       "\n",
       "<text class=\"displacy-token\" fill=\"currentColor\" text-anchor=\"middle\" y=\"222.0\">\n",
       "    <tspan class=\"displacy-word\" fill=\"currentColor\" x=\"750\">group.</tspan>\n",
       "    <tspan class=\"displacy-tag\" dy=\"2em\" fill=\"currentColor\" x=\"750\">NOUN</tspan>\n",
       "</text>\n",
       "\n",
       "<g class=\"displacy-arrow\">\n",
       "    <path class=\"displacy-arc\" id=\"arrow-8a5ab0bd4b24478ebf00175b5d1e6442-0-0\" stroke-width=\"2px\" d=\"M70,177.0 C70,89.5 220.0,89.5 220.0,177.0\" fill=\"none\" stroke=\"currentColor\"/>\n",
       "    <text dy=\"1.25em\" style=\"font-size: 0.8em; letter-spacing: 1px\">\n",
       "        <textPath xlink:href=\"#arrow-8a5ab0bd4b24478ebf00175b5d1e6442-0-0\" class=\"displacy-label\" startOffset=\"50%\" side=\"left\" fill=\"currentColor\" text-anchor=\"middle\">compound</textPath>\n",
       "    </text>\n",
       "    <path class=\"displacy-arrowhead\" d=\"M70,179.0 L62,167.0 78,167.0\" fill=\"currentColor\"/>\n",
       "</g>\n",
       "\n",
       "<g class=\"displacy-arrow\">\n",
       "    <path class=\"displacy-arc\" id=\"arrow-8a5ab0bd4b24478ebf00175b5d1e6442-0-1\" stroke-width=\"2px\" d=\"M245,177.0 C245,89.5 395.0,89.5 395.0,177.0\" fill=\"none\" stroke=\"currentColor\"/>\n",
       "    <text dy=\"1.25em\" style=\"font-size: 0.8em; letter-spacing: 1px\">\n",
       "        <textPath xlink:href=\"#arrow-8a5ab0bd4b24478ebf00175b5d1e6442-0-1\" class=\"displacy-label\" startOffset=\"50%\" side=\"left\" fill=\"currentColor\" text-anchor=\"middle\">nsubj</textPath>\n",
       "    </text>\n",
       "    <path class=\"displacy-arrowhead\" d=\"M245,179.0 L237,167.0 253,167.0\" fill=\"currentColor\"/>\n",
       "</g>\n",
       "\n",
       "<g class=\"displacy-arrow\">\n",
       "    <path class=\"displacy-arc\" id=\"arrow-8a5ab0bd4b24478ebf00175b5d1e6442-0-2\" stroke-width=\"2px\" d=\"M595,177.0 C595,89.5 745.0,89.5 745.0,177.0\" fill=\"none\" stroke=\"currentColor\"/>\n",
       "    <text dy=\"1.25em\" style=\"font-size: 0.8em; letter-spacing: 1px\">\n",
       "        <textPath xlink:href=\"#arrow-8a5ab0bd4b24478ebf00175b5d1e6442-0-2\" class=\"displacy-label\" startOffset=\"50%\" side=\"left\" fill=\"currentColor\" text-anchor=\"middle\">amod</textPath>\n",
       "    </text>\n",
       "    <path class=\"displacy-arrowhead\" d=\"M595,179.0 L587,167.0 603,167.0\" fill=\"currentColor\"/>\n",
       "</g>\n",
       "\n",
       "<g class=\"displacy-arrow\">\n",
       "    <path class=\"displacy-arc\" id=\"arrow-8a5ab0bd4b24478ebf00175b5d1e6442-0-3\" stroke-width=\"2px\" d=\"M420,177.0 C420,2.0 750.0,2.0 750.0,177.0\" fill=\"none\" stroke=\"currentColor\"/>\n",
       "    <text dy=\"1.25em\" style=\"font-size: 0.8em; letter-spacing: 1px\">\n",
       "        <textPath xlink:href=\"#arrow-8a5ab0bd4b24478ebf00175b5d1e6442-0-3\" class=\"displacy-label\" startOffset=\"50%\" side=\"left\" fill=\"currentColor\" text-anchor=\"middle\">attr</textPath>\n",
       "    </text>\n",
       "    <path class=\"displacy-arrowhead\" d=\"M750.0,179.0 L758.0,167.0 742.0,167.0\" fill=\"currentColor\"/>\n",
       "</g>\n",
       "</svg>"
      ],
      "text/plain": [
       "<IPython.core.display.HTML object>"
      ]
     },
     "metadata": {},
     "output_type": "display_data"
    }
   ],
   "source": [
    "doc = nlp(\"PyData Berlin is lovely group.\")\n",
    "spacy.displacy.render(doc, style='dep')"
   ]
  },
  {
   "cell_type": "code",
   "execution_count": 94,
   "metadata": {
    "slideshow": {
     "slide_type": "skip"
    }
   },
   "outputs": [],
   "source": [
    "%matplotlib inline\n",
    "\n",
    "import matplotlib as mpl\n",
    "\n",
    "mpl.rc('figure', figsize=(10, 6))"
   ]
  },
  {
   "cell_type": "code",
   "execution_count": null,
   "metadata": {
    "slideshow": {
     "slide_type": "subslide"
    }
   },
   "outputs": [],
   "source": [
    "import networkx as nx\n",
    "import numpy as np\n",
    "import matplotlib.pyplot as plt\n",
    "\n",
    "G = nx.DiGraph()\n",
    "G.add_edges_from([('groups', 'lovely', {'label': 'amod'}),\n",
    "                  ('music', 'lovely', {'label': 'amod'}),\n",
    "                  ('gesture', 'lovely', {'label': 'amod'}),\n",
    "                  ('music', 'blue', {'label': 'amod'}),\n",
    "                  ('music', 'loud', {'label': 'amod'}),\n",
    "                  ('people', 'old', {'label': 'amod'}),\n",
    "                  ('people', 'young', {'label': 'amod'}),\n",
    "                 ])\n",
    "\n",
    "# Need to create a layout when doing\n",
    "# separate calls to draw nodes and edges\n",
    "pos = nx.shell_layout(G, scale=15)\n",
    "\n",
    "edge_labels = dict([((u, v), d['label'])\n",
    "                    for u, v, d in G.edges(data=True)])\n",
    "\n",
    "nx.draw_networkx_labels(G, pos)\n",
    "nx.draw_networkx_edge_labels(G, pos, edge_labels=edge_labels)"
   ]
  },
  {
   "cell_type": "code",
   "execution_count": 123,
   "metadata": {
    "slideshow": {
     "slide_type": "subslide"
    }
   },
   "outputs": [
    {
     "data": {
      "image/png": "[encoded data removed]",
      "text/plain": [
       "<Figure size 720x432 with 1 Axes>"
      ]
     },
     "metadata": {},
     "output_type": "display_data"
    }
   ],
   "source": [
    "nx.draw(G, pos, node_size=2000)\n",
    "plt.show()"
   ]
  },
  {
   "cell_type": "code",
   "execution_count": 125,
   "metadata": {
    "slideshow": {
     "slide_type": "subslide"
    }
   },
   "outputs": [
    {
     "data": {
      "image/png": "[encoded data removed]",
      "text/plain": [
       "<Figure size 720x432 with 1 Axes>"
      ]
     },
     "metadata": {},
     "output_type": "display_data"
    }
   ],
   "source": [
    "val_map = {'lovely': 1.0, 'music': 0.8, 'gesture': 0.8, 'blue': 0.8, 'loud': 0.8,}\n",
    "values = [val_map.get(node, 0.0) for node in G.nodes()]\n",
    "nx.draw_networkx_labels(G, pos)\n",
    "nx.draw_networkx_edge_labels(G, pos, edge_labels=edge_labels)\n",
    "nx.draw(G, pos, node_size=2000, node_color=values)"
   ]
  },
  {
   "cell_type": "markdown",
   "metadata": {
    "slideshow": {
     "slide_type": "fragment"
    }
   },
   "source": [
    "<sub>Weir et al. [Aligning Packed Dependency Trees: A Theory of Composition for Distributional Semantics.](https://www.aclweb.org/anthology/J16-4006/) Computational Linguistics 42(4): 727-761 (2016)</sub>\n",
    "\n",
    "<sub>Kober et al. [Improving Semantic Composition with Offset Inference.](https://aclweb.org/anthology/P17-2069/) ACL (2) 2017: 433-440</sub>"
   ]
  },
  {
   "cell_type": "markdown",
   "metadata": {
    "slideshow": {
     "slide_type": "subslide"
    }
   },
   "source": [
    "![Clever Bert](clever_bert.jpg)\n",
    "- https://thegradient.pub/nlps-clever-hans-moment-has-arrived/\n",
    "- https://thegradient.pub/frontiers-of-generalization-in-natural-language-processing/"
   ]
  },
  {
   "cell_type": "markdown",
   "metadata": {
    "slideshow": {
     "slide_type": "notes"
    }
   },
   "source": [
    "So why am I talking about all of this? Because the way we test models of distributional semantics or distributional composition, like word vectors or APTs, or larger language models are themselves biased and don't account for the totality of language.\n",
    "\n",
    "The exercise then is not about \"understanding\" language as such, but improving performance at some specific end task, maybe that task is machine translation or maybe it's sequence labelling. "
   ]
  },
  {
   "cell_type": "markdown",
   "metadata": {
    "slideshow": {
     "slide_type": "slide"
    }
   },
   "source": [
    "# Transformer and BERT"
   ]
  },
  {
   "cell_type": "markdown",
   "metadata": {
    "slideshow": {
     "slide_type": "subslide"
    }
   },
   "source": [
    "<center>\n",
    "    <img src=transformer_overview.png alt=\"The Transformer\" />\n",
    "</center>\n",
    "\n",
    "<sub>Vaswani et al., Attention is All you Need. NIPS 2017: 5998-6008</sub>"
   ]
  },
  {
   "cell_type": "markdown",
   "metadata": {
    "slideshow": {
     "slide_type": "notes"
    }
   },
   "source": [
    "Sequence models like LSTMs or GRUs have a number of limitations that have become problematic for a number of reasons over the years:\n",
    "\n",
    "- very long sequences can lead to exploding or vanishing gradients and possibly forgetting\n",
    "- the recurrent architecture itself is not particularly well suited to modern hardware making RNNs expensive to train and operate\n",
    "\n",
    "while the former has been addressed to some extent by Bidirectional LSTM networks there is no easy way to solve the second problem.\n",
    "\n",
    "To resolve some of these issues the `Transformer` model was proposed by Vaswani et al. The model exclusively uses attention mechanisms to process sequence data and it is highly parallelisable."
   ]
  },
  {
   "cell_type": "markdown",
   "metadata": {
    "slideshow": {
     "slide_type": "subslide"
    }
   },
   "source": [
    "- _Vaswani et al., [Attention is All you Need.](https://papers.nips.cc/paper/7181-attention-is-all-you-need) NIPS 2017: 5998-6008_\n",
    "- _Devlin et al., [BERT: Pre-training of Deep Bidirectional Transformers for Language Understanding.](https://www.aclweb.org/anthology/N19-1423/) NAACL-HLT (1) 2019: 4171-4186_\n",
    "\n",
    "---\n",
    "\n",
    "- [The Illustrated Transformer](https://jalammar.github.io/illustrated-transformer/)\n",
    "- [The Illustrated BERT, ELMo ...](https://jalammar.github.io/illustrated-bert/)\n",
    "- [The Annotated Transformer](http://nlp.seas.harvard.edu/2018/04/03/attention.html)\n",
    "\n",
    "---"
   ]
  },
  {
   "cell_type": "markdown",
   "metadata": {
    "slideshow": {
     "slide_type": "subslide"
    }
   },
   "source": [
    "<center>\n",
    "    <img src=transformer_input.png alt=\"The Transformer Input Stage\" />\n",
    "</center>"
   ]
  },
  {
   "cell_type": "markdown",
   "metadata": {
    "slideshow": {
     "slide_type": "slide"
    }
   },
   "source": [
    "# Byte Pair Encoding\n",
    "\n",
    "- Sennrich et al., [Neural Machine Translation of Rare Words with Subword Units](https://aclweb.org/anthology/P16-1162/) ACL (1) 2016\n",
    "\n",
    "<sub>\"The main motivation ... is that the translation of some words is transparent ... even if they are novel ... based on translation of known subword units such as morphemes or phonemes.\"</sub>"
   ]
  },
  {
   "cell_type": "markdown",
   "metadata": {
    "slideshow": {
     "slide_type": "subslide"
    }
   },
   "source": [
    "<img src=finnish.jpg height=70% />"
   ]
  },
  {
   "cell_type": "markdown",
   "metadata": {
    "slideshow": {
     "slide_type": "subslide"
    }
   },
   "source": [
    "![Kuusi Palaa](kuusi_palaa.jpg)"
   ]
  },
  {
   "cell_type": "markdown",
   "metadata": {
    "slideshow": {
     "slide_type": "subslide"
    }
   },
   "source": [
    "### hängen = hang, fahren = drive\n",
    "\n",
    "### erhängen = to hang yourself, erfahren = experience\n",
    "\n",
    "### verhängen = impose, fine, verfahren = proceed"
   ]
  },
  {
   "cell_type": "code",
   "execution_count": 127,
   "metadata": {
    "slideshow": {
     "slide_type": "skip"
    }
   },
   "outputs": [],
   "source": [
    "from typing import List\n",
    "from itertools import zip_longest, cycle, chain\n",
    "\n",
    "def align_token_idx(tokens: List[str]) -> str:\n",
    "    idx = (f'{i:^8}' for i, _ in enumerate(tokens))\n",
    "    idx_batches = zip_longest(*[iter(idx)]*8, fillvalue='')\n",
    "    tokens = (f'{s:^8}' for i, s in enumerate(tokens))\n",
    "    token_batches = zip_longest(*[iter(tokens)]*8, fillvalue='')\n",
    "    sep = ''\n",
    "    s = f'\\n{sep:^64}\\n'.join('\\n'.join((''.join(idx), ''.join(toks))) \n",
    "                              for idx, toks in zip(idx_batches, token_batches))\n",
    "    return s"
   ]
  },
  {
   "cell_type": "code",
   "execution_count": 128,
   "metadata": {
    "slideshow": {
     "slide_type": "slide"
    }
   },
   "outputs": [],
   "source": [
    "from transformers import BertTokenizer\n",
    "\n",
    "tokenizer = BertTokenizer.from_pretrained('bert-base-multilingual-cased')"
   ]
  },
  {
   "cell_type": "code",
   "execution_count": 129,
   "metadata": {
    "scrolled": true,
    "slideshow": {
     "slide_type": "fragment"
    }
   },
   "outputs": [
    {
     "name": "stdout",
     "output_type": "stream",
     "text": [
      "   0       1       2       3       4       5       6    \n",
      "  The      BE     ##RT    tok    ##eni   ##zer     .    \n"
     ]
    }
   ],
   "source": [
    "print(align_token_idx(tokenizer.tokenize('The BERT tokenizer.')))"
   ]
  },
  {
   "cell_type": "code",
   "execution_count": 135,
   "metadata": {
    "scrolled": true,
    "slideshow": {
     "slide_type": "fragment"
    }
   },
   "outputs": [
    {
     "name": "stdout",
     "output_type": "stream",
     "text": [
      "   0       1       2       3       4       5       6    \n",
      "  The    Berlin   phi    ##lha   ##rmon  ##ics     .    \n"
     ]
    }
   ],
   "source": [
    "print(align_token_idx(tokenizer.tokenize('The Berlin philharmonics.')))"
   ]
  },
  {
   "cell_type": "code",
   "execution_count": 136,
   "metadata": {
    "scrolled": true,
    "slideshow": {
     "slide_type": "fragment"
    }
   },
   "outputs": [
    {
     "name": "stdout",
     "output_type": "stream",
     "text": [
      "   0       1       2       3       4       5       6       7    \n",
      "  The      BE     ##R   airport   will    open    soon     .    \n"
     ]
    }
   ],
   "source": [
    "print(align_token_idx(tokenizer.tokenize('The BER airport will open soon.')))"
   ]
  },
  {
   "cell_type": "code",
   "execution_count": 131,
   "metadata": {
    "scrolled": true,
    "slideshow": {
     "slide_type": "subslide"
    }
   },
   "outputs": [
    {
     "name": "stdout",
     "output_type": "stream",
     "text": [
      "   0       1       2       3       4       5       6       7    \n",
      "   I     bought    a     coffee    ye    ##ster  ##day     (    \n",
      "                                                                \n",
      "   8       9       10      11      12      13      14      15   \n",
      "   5       .       11      .      2019     )      for      6    \n",
      "                                                                \n",
      "   16      17      18      19   \n",
      "   .       17      $       .    \n"
     ]
    }
   ],
   "source": [
    "print(align_token_idx(tokenizer.tokenize('I bought a coffee yesterday (5.11.2019) for 6.17$.')))"
   ]
  },
  {
   "cell_type": "markdown",
   "metadata": {
    "slideshow": {
     "slide_type": "notes"
    }
   },
   "source": [
    "So let's load the BERT multilingual tokenizer and see what the tokenised text looks like in practice.\n",
    "\n",
    "Notice that BERT is split in two, similar to how BER is split in two.\n",
    "\n",
    "You as a user of this framework need to make a decision what to do with the subwords. Do you ignore them, keep them, downweight them? But, we're getting ahead of ourselves - attention!"
   ]
  },
  {
   "cell_type": "markdown",
   "metadata": {
    "slideshow": {
     "slide_type": "slide"
    }
   },
   "source": [
    "# Attention\n",
    "\n",
    "- [Augmented RNNs](https://distill.pub/2016/augmented-rnns/)\n",
    "- https://www.youtube.com/watch?v=OYygPG4d9H0\n",
    "- Lilian Weng [Attention Attention](https://lilianweng.github.io/lil-log/2018/06/24/attention-attention.html)"
   ]
  },
  {
   "cell_type": "markdown",
   "metadata": {
    "slideshow": {
     "slide_type": "subslide"
    }
   },
   "source": [
    "<center>\n",
    "    <img src=transformer_input.png alt=\"The Transformer Input Stage\" />\n",
    "</center>"
   ]
  },
  {
   "cell_type": "markdown",
   "metadata": {
    "slideshow": {
     "slide_type": "subslide"
    }
   },
   "source": [
    "## BERT's Attention Model (self attention)\n",
    "\n",
    "$$ Attention(Q, V, K) = softmax(\\frac{QK^T}{\\sqrt{d_k}})V $$\n",
    "\n",
    "_\"Self-attention, sometimes called intra-attention is an attention mechanism relating different positions of a single sequence in order to compute a representation of the sequence.\"_ *\n",
    "\n",
    "_\"We call our particular attention \"Scaled Dot-Product Attention ...\"_ *\n",
    "\n",
    "<sub>* Vaswani et al., [Attention is All you Need.](https://papers.nips.cc/paper/7181-attention-is-all-you-need) NIPS 2017: 5998-6008</sub>"
   ]
  }
 ],
 "metadata": {
  "celltoolbar": "Slideshow",
  "kernelspec": {
   "display_name": "Python 3",
   "language": "python",
   "name": "python3"
  },
  "language_info": {
   "codemirror_mode": {
    "name": "ipython",
    "version": 3
   },
   "file_extension": ".py",
   "mimetype": "text/x-python",
   "name": "python",
   "nbconvert_exporter": "python",
   "pygments_lexer": "ipython3",
   "version": "3.7.4"
  },
  "rise": {
   "theme": "white"
  }
 },
 "nbformat": 4,
 "nbformat_minor": 4
}
