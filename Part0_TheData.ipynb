{
 "cells": [
  {
   "cell_type": "markdown",
   "metadata": {},
   "source": [
    "## German word vectors ~1.5Gb"
   ]
  },
  {
   "cell_type": "code",
   "execution_count": 5,
   "metadata": {},
   "outputs": [
    {
     "name": "stdout",
     "output_type": "stream",
     "text": [
      "  % Total    % Received % Xferd  Average Speed   Time    Time     Time  Current\n",
      "                                 Dload  Upload   Total   Spent    Left  Speed\n",
      "100 1218M  100 1218M    0     0  12.2M      0  0:01:39  0:01:39 --:--:-- 13.7MM\n"
     ]
    }
   ],
   "source": [
    "!curl -O https://dl.fbaipublicfiles.com/fasttext/vectors-crawl/cc.de.300.vec.gz"
   ]
  },
  {
   "cell_type": "markdown",
   "metadata": {},
   "source": [
    "## English word vectors ~680Mb"
   ]
  },
  {
   "cell_type": "code",
   "execution_count": 30,
   "metadata": {},
   "outputs": [
    {
     "name": "stdout",
     "output_type": "stream",
     "text": [
      "  % Total    % Received % Xferd  Average Speed   Time    Time     Time  Current\n",
      "                                 Dload  Upload   Total   Spent    Left  Speed\n",
      "100  650M  100  650M    0     0  8269k      0  0:01:20  0:01:20 --:--:-- 8567k0  0:01:25  0:00:46  0:00:39 9500k8163k      0  0:01:21  0:01:10  0:00:11 9749k:20  0:01:15  0:00:05 9429k\n"
     ]
    }
   ],
   "source": [
    "!curl -O https://dl.fbaipublicfiles.com/fasttext/vectors-english/wiki-news-300d-1M.vec.zip"
   ]
  },
  {
   "cell_type": "markdown",
   "metadata": {},
   "source": [
    "## Training Data"
   ]
  },
  {
   "cell_type": "code",
   "execution_count": 1,
   "metadata": {},
   "outputs": [
    {
     "name": "stdout",
     "output_type": "stream",
     "text": [
      "  % Total    % Received % Xferd  Average Speed   Time    Time     Time  Current\n",
      "                                 Dload  Upload   Total   Spent    Left  Speed\n",
      "100 23.2M  100 23.2M    0     0  21.5M      0  0:00:01  0:00:01 --:--:-- 21.5M\n"
     ]
    }
   ],
   "source": [
    "!curl -O https://raw.githubusercontent.com/tblock/10kGNAD/master/train.csv"
   ]
  },
  {
   "cell_type": "code",
   "execution_count": 2,
   "metadata": {},
   "outputs": [
    {
     "name": "stdout",
     "output_type": "stream",
     "text": [
      "Sport;21-Jähriger fällt wohl bis Saisonende aus. Wien – Rapid muss wohl bis Saisonende auf Offensivspieler Thomas Murg verzichten. Der im Winter aus Ried gekommene 21-Jährige erlitt beim 0:4-Heimdebakel gegen Admira Wacker Mödling am Samstag einen Teilriss des Innenbandes im linken Knie, wie eine Magnetresonanz-Untersuchung am Donnerstag ergab. Murg erhielt eine Schiene, muss aber nicht operiert werden. Dennoch steht ihm eine mehrwöchige Pause bevor.\n"
     ]
    }
   ],
   "source": [
    "!head -n 1 train.csv"
   ]
  },
  {
   "cell_type": "markdown",
   "metadata": {},
   "source": [
    "## Test Data"
   ]
  },
  {
   "cell_type": "code",
   "execution_count": 3,
   "metadata": {},
   "outputs": [
    {
     "name": "stdout",
     "output_type": "stream",
     "text": [
      "  % Total    % Received % Xferd  Average Speed   Time    Time     Time  Current\n",
      "                                 Dload  Upload   Total   Spent    Left  Speed\n",
      "100 2690k  100 2690k    0     0  5823k      0 --:--:-- --:--:-- --:--:-- 5823k\n"
     ]
    }
   ],
   "source": [
    "!curl -O https://raw.githubusercontent.com/tblock/10kGNAD/master/test.csv"
   ]
  },
  {
   "cell_type": "code",
   "execution_count": 4,
   "metadata": {},
   "outputs": [
    {
     "name": "stdout",
     "output_type": "stream",
     "text": [
      "Wirtschaft;'Die Gewerkschaft GPA-djp lanciert den \"All-in-Rechner\" und findet, dass die Vertragsform auf die Führungsebene beschränkt gehört. Wien – Die Gewerkschaft GPA-djp sieht Handlungsbedarf bei sogenannten All-in-Verträgen. Für mehr Transparenz haben die Gewerkschaft nun unter www.allinrechner.at ein Online-Werkzeug lanciert, das Arbeitnehmern mit solchen Verträgen helfen soll, sich einen Überblick zu verschaffen. Es geht darum, ob die Differenz zum Grundgehalt nicht womöglich eine zu geringe ist. Schließlich sei ein All-in-Gehalt oft nur auf den ersten Blick von Vorteil, gab GPA-djp-Chef Wolfgang Katzian (SPÖ) am Montag bei einer Pressekonferenz in Wien zu bedenken. Allzu oft sei bei der All-in-Entlohnung nur schwer nachvollziehbar, wie viele Überstunden und Mehrleistungen damit tatsächlich abgegolten werden. Ein erster guter Schritt aus gewerkschaftlicher Sicht ist Katzian zufolge zwar eine seit Ende Vorjahr gültige Gesetzesänderung, die besagt, dass das Grundgehalt bei All-in-Verträgen in Ziffern auszuweisen ist. So werden über die Normalarbeitszeit hinausgehende Pauschalabgeltungen und andere Mehrleistungen sichtbar. Das ist der Gewerkschaft aber zu wenig, denn die ursprünglich für Führungskräfte gedachte Pauschalabgeltung sei längst in allen Branchen in allen Ebenen von den Führungsebenen abwärts zu Angestellten und Arbeitern eingezogen. So hätten bereits 18 Prozent der Arbeiter einen All-in-Vertrag, laut Arbeitsklimaindex der AK Oberösterreich. Im Bauwesen liege der Anteil bei 27 Prozent. Der allinrechner.at mache aber auch bestehende Verträge transparenter. Einige anonyme Angaben zur Beschäftigungssituation reichen, um das Grundgehalt – und vor allem etwaige Gehaltsverluste – zu ermitteln. Unklarheiten sollen Betroffene dann bei ihrem Betriebsrat oder bei GPA-djp-Experten abklären. Katzian nannte für seine Gewerkschaft eine Vielzahl von Forderungen zu All-in-Verträgen. Vor allem sollen sich All-in-Verträge wie ursprünglich vorgesehen wieder auf Mitarbeiter mit Führungsverantwortung beschränken. Überlegt werde auch – das ist eine Forderung an uns selbst – künftig bei KV-Verhandlungen Muster für All-in-Verträge mitzuverhandlen. All-in-Verträge solle es auch nur mit einer wesentlichen Überzahlung zum branchenüblichen Grundgehalt geben; dazu gehörten auch regelmäßige Valorisierungen einhergehend mit KV-Erhöhungen. Mitarbeiter sollen zudem jederzeit die Möglichkeit haben, wieder aus All-in auszusteigen. All-in-Regelungen sollten laut dem GPA-djp-Chef nur betriebsübliche Arbeitszeiten und -leistungen abdecken. Darüber hinausgehende Leistungen des Arbeitnehmers wie Sonntagsdienste sollen gesondert abgegolten werden. Bleiben müsse den Arbeitnehmern vor allem auch die freie Wahl zwischen Entlohnung auf Einzelstundenbasis oder All-in.'\n"
     ]
    }
   ],
   "source": [
    "!head -n 1 test.csv"
   ]
  },
  {
   "cell_type": "markdown",
   "metadata": {},
   "source": [
    "## Spacy German model\n",
    "\n",
    "### mainly for tokenisation"
   ]
  },
  {
   "cell_type": "code",
   "execution_count": 21,
   "metadata": {},
   "outputs": [
    {
     "name": "stdout",
     "output_type": "stream",
     "text": [
      "usage: spacy download [-h] [-d] model [pip_args [pip_args ...]]\n",
      "\n",
      "    Download compatible model from default download path using pip. Model\n",
      "    can be shortcut, model name or, if --direct flag is set, full model name\n",
      "    with version. For direct downloads, the compatibility check will be skipped.\n",
      "    \n",
      "\n",
      "positional arguments:\n",
      "  model         Model to download (shortcut or name)\n",
      "  pip_args      Additional arguments to be passed to `pip install` on model\n",
      "                install\n",
      "\n",
      "optional arguments:\n",
      "  -h, --help    show this help message and exit\n",
      "  -d, --direct  Force direct download of name + version\n"
     ]
    }
   ],
   "source": [
    "!python -m spacy download de_core_news_sm"
   ]
  }
 ],
 "metadata": {
  "kernelspec": {
   "display_name": "Python 3",
   "language": "python",
   "name": "python3"
  },
  "language_info": {
   "codemirror_mode": {
    "name": "ipython",
    "version": 3
   },
   "file_extension": ".py",
   "mimetype": "text/x-python",
   "name": "python",
   "nbconvert_exporter": "python",
   "pygments_lexer": "ipython3",
   "version": "3.7.4"
  }
 },
 "nbformat": 4,
 "nbformat_minor": 4
}
