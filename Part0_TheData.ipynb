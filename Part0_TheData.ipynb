{
 "cells": [
  {
   "cell_type": "code",
   "execution_count": 1,
   "metadata": {},
   "outputs": [],
   "source": [
    "import time"
   ]
  },
  {
   "cell_type": "code",
   "execution_count": 2,
   "metadata": {},
   "outputs": [],
   "source": [
    "start_time = time.time()"
   ]
  },
  {
   "cell_type": "code",
   "execution_count": 13,
   "metadata": {},
   "outputs": [
    {
     "data": {
      "text/plain": [
       "'08:09'"
      ]
     },
     "execution_count": 13,
     "metadata": {},
     "output_type": "execute_result"
    }
   ],
   "source": [
    "from datetime import datetime\n",
    "f'{datetime.fromtimestamp(time.time() - start_time):%M:%S}'"
   ]
  },
  {
   "cell_type": "markdown",
   "metadata": {},
   "source": [
    "## German word vectors ~1.5Gb"
   ]
  },
  {
   "cell_type": "code",
   "execution_count": 5,
   "metadata": {},
   "outputs": [
    {
     "name": "stdout",
     "output_type": "stream",
     "text": [
      "  % Total    % Received % Xferd  Average Speed   Time    Time     Time  Current\n",
      "                                 Dload  Upload   Total   Spent    Left  Speed\n",
      "100 1218M  100 1218M    0     0  12.2M      0  0:01:39  0:01:39 --:--:-- 13.7MM\n"
     ]
    }
   ],
   "source": [
    "!curl -O https://dl.fbaipublicfiles.com/fasttext/vectors-crawl/cc.de.300.vec.gz"
   ]
  },
  {
   "cell_type": "markdown",
   "metadata": {},
   "source": [
    "## English word vectors ~680Mb"
   ]
  },
  {
   "cell_type": "code",
   "execution_count": 30,
   "metadata": {},
   "outputs": [
    {
     "name": "stdout",
     "output_type": "stream",
     "text": [
      "  % Total    % Received % Xferd  Average Speed   Time    Time     Time  Current\n",
      "                                 Dload  Upload   Total   Spent    Left  Speed\n",
      "100  650M  100  650M    0     0  8269k      0  0:01:20  0:01:20 --:--:-- 8567k0  0:01:25  0:00:46  0:00:39 9500k8163k      0  0:01:21  0:01:10  0:00:11 9749k:20  0:01:15  0:00:05 9429k\n"
     ]
    }
   ],
   "source": [
    "!curl -O https://dl.fbaipublicfiles.com/fasttext/vectors-english/wiki-news-300d-1M.vec.zip"
   ]
  },
  {
   "cell_type": "markdown",
   "metadata": {},
   "source": [
    "## Training Data"
   ]
  },
  {
   "cell_type": "code",
   "execution_count": 1,
   "metadata": {},
   "outputs": [
    {
     "name": "stdout",
     "output_type": "stream",
     "text": [
      "  % Total    % Received % Xferd  Average Speed   Time    Time     Time  Current\n",
      "                                 Dload  Upload   Total   Spent    Left  Speed\n",
      "100 23.2M  100 23.2M    0     0  21.5M      0  0:00:01  0:00:01 --:--:-- 21.5M\n"
     ]
    }
   ],
   "source": [
    "!curl -O https://raw.githubusercontent.com/tblock/10kGNAD/master/train.csv"
   ]
  },
  {
   "cell_type": "code",
   "execution_count": 2,
   "metadata": {},
   "outputs": [
    {
     "name": "stdout",
     "output_type": "stream",
     "text": [
      "Sport;21-Jähriger fällt wohl bis Saisonende aus. Wien – Rapid muss wohl bis Saisonende auf Offensivspieler Thomas Murg verzichten. Der im Winter aus Ried gekommene 21-Jährige erlitt beim 0:4-Heimdebakel gegen Admira Wacker Mödling am Samstag einen Teilriss des Innenbandes im linken Knie, wie eine Magnetresonanz-Untersuchung am Donnerstag ergab. Murg erhielt eine Schiene, muss aber nicht operiert werden. Dennoch steht ihm eine mehrwöchige Pause bevor.\n"
     ]
    }
   ],
   "source": [
    "!head -n 1 train.csv"
   ]
  },
  {
   "cell_type": "markdown",
   "metadata": {},
   "source": [
    "## Test Data"
   ]
  },
  {
   "cell_type": "code",
   "execution_count": 3,
   "metadata": {},
   "outputs": [
    {
     "name": "stdout",
     "output_type": "stream",
     "text": [
      "  % Total    % Received % Xferd  Average Speed   Time    Time     Time  Current\n",
      "                                 Dload  Upload   Total   Spent    Left  Speed\n",
      "100 2690k  100 2690k    0     0  5823k      0 --:--:-- --:--:-- --:--:-- 5823k\n"
     ]
    }
   ],
   "source": [
    "!curl -O https://raw.githubusercontent.com/tblock/10kGNAD/master/test.csv"
   ]
  },
  {
   "cell_type": "code",
   "execution_count": 4,
   "metadata": {},
   "outputs": [
    {
     "name": "stdout",
     "output_type": "stream",
     "text": [
      "Wirtschaft;'Die Gewerkschaft GPA-djp lanciert den \"All-in-Rechner\" und findet, dass die Vertragsform auf die Führungsebene beschränkt gehört. Wien – Die Gewerkschaft GPA-djp sieht Handlungsbedarf bei sogenannten All-in-Verträgen. Für mehr Transparenz haben die Gewerkschaft nun unter www.allinrechner.at ein Online-Werkzeug lanciert, das Arbeitnehmern mit solchen Verträgen helfen soll, sich einen Überblick zu verschaffen. Es geht darum, ob die Differenz zum Grundgehalt nicht womöglich eine zu geringe ist. Schließlich sei ein All-in-Gehalt oft nur auf den ersten Blick von Vorteil, gab GPA-djp-Chef Wolfgang Katzian (SPÖ) am Montag bei einer Pressekonferenz in Wien zu bedenken. Allzu oft sei bei der All-in-Entlohnung nur schwer nachvollziehbar, wie viele Überstunden und Mehrleistungen damit tatsächlich abgegolten werden. Ein erster guter Schritt aus gewerkschaftlicher Sicht ist Katzian zufolge zwar eine seit Ende Vorjahr gültige Gesetzesänderung, die besagt, dass das Grundgehalt bei All-in-Verträgen in Ziffern auszuweisen ist. So werden über die Normalarbeitszeit hinausgehende Pauschalabgeltungen und andere Mehrleistungen sichtbar. Das ist der Gewerkschaft aber zu wenig, denn die ursprünglich für Führungskräfte gedachte Pauschalabgeltung sei längst in allen Branchen in allen Ebenen von den Führungsebenen abwärts zu Angestellten und Arbeitern eingezogen. So hätten bereits 18 Prozent der Arbeiter einen All-in-Vertrag, laut Arbeitsklimaindex der AK Oberösterreich. Im Bauwesen liege der Anteil bei 27 Prozent. Der allinrechner.at mache aber auch bestehende Verträge transparenter. Einige anonyme Angaben zur Beschäftigungssituation reichen, um das Grundgehalt – und vor allem etwaige Gehaltsverluste – zu ermitteln. Unklarheiten sollen Betroffene dann bei ihrem Betriebsrat oder bei GPA-djp-Experten abklären. Katzian nannte für seine Gewerkschaft eine Vielzahl von Forderungen zu All-in-Verträgen. Vor allem sollen sich All-in-Verträge wie ursprünglich vorgesehen wieder auf Mitarbeiter mit Führungsverantwortung beschränken. Überlegt werde auch – das ist eine Forderung an uns selbst – künftig bei KV-Verhandlungen Muster für All-in-Verträge mitzuverhandlen. All-in-Verträge solle es auch nur mit einer wesentlichen Überzahlung zum branchenüblichen Grundgehalt geben; dazu gehörten auch regelmäßige Valorisierungen einhergehend mit KV-Erhöhungen. Mitarbeiter sollen zudem jederzeit die Möglichkeit haben, wieder aus All-in auszusteigen. All-in-Regelungen sollten laut dem GPA-djp-Chef nur betriebsübliche Arbeitszeiten und -leistungen abdecken. Darüber hinausgehende Leistungen des Arbeitnehmers wie Sonntagsdienste sollen gesondert abgegolten werden. Bleiben müsse den Arbeitnehmern vor allem auch die freie Wahl zwischen Entlohnung auf Einzelstundenbasis oder All-in.'\n"
     ]
    }
   ],
   "source": [
    "!head -n 1 test.csv"
   ]
  },
  {
   "cell_type": "markdown",
   "metadata": {},
   "source": [
    "## Spacy German model\n",
    "\n",
    "### mainly for tokenisation"
   ]
  },
  {
   "cell_type": "code",
   "execution_count": 21,
   "metadata": {},
   "outputs": [
    {
     "name": "stdout",
     "output_type": "stream",
     "text": [
      "usage: spacy download [-h] [-d] model [pip_args [pip_args ...]]\n",
      "\n",
      "    Download compatible model from default download path using pip. Model\n",
      "    can be shortcut, model name or, if --direct flag is set, full model name\n",
      "    with version. For direct downloads, the compatibility check will be skipped.\n",
      "    \n",
      "\n",
      "positional arguments:\n",
      "  model         Model to download (shortcut or name)\n",
      "  pip_args      Additional arguments to be passed to `pip install` on model\n",
      "                install\n",
      "\n",
      "optional arguments:\n",
      "  -h, --help    show this help message and exit\n",
      "  -d, --direct  Force direct download of name + version\n"
     ]
    }
   ],
   "source": [
    "!python -m spacy download de_core_news_sm"
   ]
  },
  {
   "cell_type": "markdown",
   "metadata": {},
   "source": [
    "# download datasets from S3 (or Kaggle)"
   ]
  },
  {
   "cell_type": "code",
   "execution_count": 1,
   "metadata": {},
   "outputs": [
    {
     "name": "stdout",
     "output_type": "stream",
     "text": [
      "total 840184\n",
      "-rw-r--r--@  1 mattilyra  staff   42290090 Oct 24 10:29 10kgnad.zip\n",
      "drwxr-xr-x  22 mattilyra  staff        704 Mar 18  2003 \u001b[1m\u001b[36m20news-bydate-test\u001b[m\u001b[m\n",
      "drwxr-xr-x  22 mattilyra  staff        704 Mar 18  2003 \u001b[1m\u001b[36m20news-bydate-train\u001b[m\u001b[m\n",
      "-rw-r--r--   1 mattilyra  staff   15343770 Sep  2 21:31 20news-bydate_py3.pkz\n",
      "-rwxr-xr-x@  1 mattilyra  staff    1220776 Oct  2 08:53 \u001b[31mEntity Recognition in Resumes.json\u001b[m\u001b[m\n",
      "-rw-rw-rw-@  1 mattilyra  staff     504418 Oct 22 18:23 homer_life_hard.gif\n",
      "-rw-r--r--@  1 mattilyra  staff     330445 Oct 24 10:29 resume-entities-for-ner.zip\n",
      "drwx------@  4 mattilyra  staff        128 Oct 24 10:39 \u001b[1m\u001b[36mreviews-with-conditions\u001b[m\u001b[m\n",
      "-rw-r--r--@  1 mattilyra  staff  354987126 Oct 24 10:29 reviews-with-conditions.zip\n"
     ]
    }
   ],
   "source": [
    "!ls -l data"
   ]
  },
  {
   "cell_type": "code",
   "execution_count": 7,
   "metadata": {
    "collapsed": true,
    "jupyter": {
     "outputs_hidden": true
    }
   },
   "outputs": [
    {
     "name": "stdout",
     "output_type": "stream",
     "text": [
      "Etat;Die ARD-Tochter Degeto hat sich verpflichtet, ab August einer Quotenregelung zu folgen, die für die Gleichstellung von Regisseurinnen sorgen soll. In mindestens 20 Prozent der Filme, die die ARD-Tochter Degeto produziert oder mitfinanziert, sollen ab Mitte August Frauen Regie führen. Degeto-Chefin Christine Strobl folgt mit dieser Selbstverpflichtung der Forderung von Pro Quote Regie. Die Vereinigung von Regisseurinnen hatte im vergangenen Jahr eine Quotenregelung gefordert, um den weiblichen Filmschaffenden mehr Gehör und ökonomische Gleichstellung zu verschaffen. Pro Quote Regie kritisiert, dass, während rund 50 Prozent der Regie-Studierenden weiblich seien, der Anteil der Regisseurinnen bei Fernsehfilmen nur bei 13 bis 15 Prozent liege. In Österreich sieht die Situation ähnlich aus, auch hier wird von unterschiedlichen Seiten Handlungsbedarf angemahnt. Aber wie soll dieser aussehen? Ist die Einführung der Quotenregelung auch für die österreichische Film- und Fernsehlandschaft sinnvoll? Diskutieren Sie im Forum.\n",
      "Etat;App sei nicht so angenommen worden wie geplant. Wegen zu geringer Nutzung schaltet Spiegel Online nach zwei Jahren die Fußball-App aus, die App sei nicht so genutzt worden, wie man sich das vorgestellt habe. Dafür soll der Live-Fußball-Bereich in der News-App ausgebaut werden.\n",
      "Etat;'Zum Welttag der Suizidprävention ist es Zeit, das alte Dogma \"Über Suizide schreibt man nicht\" zu verwerfen. Denn erst Ausnahmen von dieser Regel führen zu Nachahmungen – und wer über Suizidalität dann schweigt, wenn sie nicht sensationell ist, stigmatisiert die Betroffenen weiter. Halbwissen ist oft gefährlicher als Nichtwissen. Werther-Effekt? Ja ja, schon mal gehört: Wird über einen Suizid berichtet, töten sich in der Folge mehr Menschen selbst. So wie damals, als Goethes Briefroman Die Leiden des jungen Werthers erschien. Also: Über Suizide wird nicht berichtet. Stimmt. Fast. Der 10. September ist Welttag der Suizidprävention. Wenn es darum geht, Suizide zu verhinden, müssen auch wir Journalisten unsere Verantwortung wahrnehmen – das bedeutet in diesem Fall, sich vom alten Stehsatz Über Suizide schreibt man nicht zu verabschieden. Das Dogma des Schreibverbots hält sich unter Journalisten. Dabei gibt es drei gute Gründe dafür, es aus den Redaktionen zu verbannen. Eines nach dem anderen. Tatsächlich führen bestimmte Medienberichte über Suizide zu Nachahmungen. Menschen in Krisen befinden sich oft in einer Phase quälender Orientierungslosigkeit, wie es im Leitfaden zur Berichterstattung über Suizid des Wiener Kriseninterventionszentrums heißt. Wenn man über Suizid schreibt, ist allerdings das Wie von weitaus größerer Bedeutung als das Ob. Viele Medienberichte über Suizide haben keinerlei messbare Auswirkung auf die Suizidstatistik. Manche Berichte treiben die Zahl der Suizide in die Höhe – und viele können Suizide verhindern. Vor allem in Wien wird zu diesem Thema seit Jahrzehnten intensiv geforscht. Gut bekannt ist die Studie zu den Wiener U-Bahn-Suiziden: Als sich Anfang der 1980er immer mehr Personen in U-Bahn-Stationen selbst töteten, überzeugten Wiener Wissenschafter die großen Tageszeitungen davon, die Berichterstattung massiv zurückzufahren. Die Folge war ein deutlicher Rückgang der U-Bahn-Suizide. Seitdem hat sich in der Forschung einiges getan: Wiener Wissenschafter (einige davon haben schon in den 80ern an der erwähnten Studie mitgearbeitet) haben 2010 im British Journal of Psychiatry einen Artikel veröffentlicht, in dem sie Medienberichte analysierten und mit der amtlichen Sterbestatistik in Zusammenhang setzten. Das Ergebnis dieser und vieler anderer Studien krempelt das Dogma Über Suizide schreibt man nicht gewaltig um. Die Forscher haben den untersuchten Artikeln Eigenschaften zugewiesen: Wurde die Suizidmethode erwähnt? War der Text mit einem Foto illustriert? Wurde der Suizid vereinfacht begründet (zum Beispiel: Selbstmord wegen Liebeskummer)? Diese Eigenschaften wurden als harmful, schädlich, eingeordnet. Umgekehrt codierten die Autoren auch protective items: Wurde eine Expertin oder ein Experte zitiert? Wurden Hilfsangebote für Menschen in Krisen angeführt? Die Rolle der Journalisten präsentiert sich im Licht aktueller Studien weitaus vielschichtiger, als es der viel zu einfache Stehsatz des Berichtsverbots vermuten ließe: Je nachdem, wie über einen Suizid berichtet wird, können Medien die Zahl der Nachahmungssuizide steigern – oder senken. Jetzt könnte man sagen: Berichten wir am besten gar nicht, dann können wir nichts falsch machen. Dieser Zugang hat nur einen großen Haken. Denn der Stehsatz Über Suizid berichten wir nicht funktioniert nicht lückenlos. Und er filtert genau die falschen Berichte heraus. Etwa drei Personen töten sich jeden Tag in Österreich selbst, über die allerwenigsten liest man in der Zeitung. Zu Recht, im Sinne der Zurückhaltung, allerdings meistens nicht aus Verantwortungsbewusstsein, sondern weil ein so alltäglicher Tod eben keine Geschichte ist. Aber ein Prominenter? Na ja, das können wir doch nicht verschweigen! Und weil wir ja normalerweise nicht über Suizide berichten, wissen wir jetzt nicht, wie wirs richtig machen. Dann wird im Boulevard über mehrere Tage im Detail ausgeschlachtet, wie Robin Williams gestorben ist. Oder wie genau Ludwig Hirsch starb, nacherzählt aus seiner Perspektive. Das Bitter-Ironische: In der Statistik messbare Nachahmungen sind hauptsächlich bei Prominenten feststellbar – wohl, weil sich die Menschen gerne mit ihnen identifizieren. Wird der Suizid einer unbekannten Person nicht gerade pathetisch und detailreich nacherzählt, ist die Identifikationsgefahr gering. Wir müssen – als Gesellschaft – über Suizid sprechen. Jedes Jahr töten sich in Österreich 1.200 bis 1.300 Menschen selbst. Suizid ist kein Thema, über das man schweigen kann. Jeder dieser Menschen hatte Freunde, Familie, Kollegen. Das sind viele tausend neue Betroffene, jedes Jahr. Weil die Selbsttötung ein Tabu ist, leiden sie noch stärker. Und wer an Suizid denkt, ist umso gehemmter, darüber zu sprechen. Dabei wäre genau das ein so wichtiger erster Schritt in der Prävention. Wie also berichten? Detaillierte Empfehlungen finden sich im erwähnten Leitfaden. Kernpunkt bleibt: Zurückhaltung. Richtige Suizidberichterstattung ist nicht einfach: Einerseits soll der Tod nicht vereinfacht erklärt werden – ein Suizid ist immer die Folge einer Vielzahl komplex zusammenspielender Probleme –, andererseits soll die individuelle Situation nachvollziehbar sein. Schnellschüsse wie Selbstmord wegen Geldnot! fallen also durch. Genauso soll der Suizid nicht moralisch verurteilt werden. Das passiert in vielen Fällen ganz unbewusst. Dauernd Suizid zu schreiben ist kein schöner Stil und widerspricht der reinen Schule gegen die Wortwiederholung. Der Begriff Selbstmord aber macht Betroffene zu Tätern und verstärkt das Stigma, unter dem auch die Angehörigen von Verstorbenen leiden. Umgekehrt suggeriert das Wort Freitod eine Freiheit, die in den allermeisten Fällen nicht vorherrscht: Suizidale Menschen sind alles andere als frei; sie sind gefangen in einer Abwärtsspirale, aus der sie meist nur mit fremder Hilfe ausbrechen können. Wie oben erwähnt können Medien Nachahmungssuizide auch verhindern. Etwa indem auf Kontaktstellen für Hilfesuchende aufmerksam gemacht wird. Oder indem Mythen über Suizide bewusst angesprochen und widerlegt werden. Nein, wer ankündigt, sich selbst zu töten, bettelt nicht nur um Aufmerksamkeit, sondern ist tatsächlich in akuter Gefahr. Circa 80 Prozent jener Personen, die Suizid begehen, haben das vorher angekündigt. Apropos Mythen: Die Suizidwelle nach dem Erscheinen des Werthers konnte letztlich nie nachgewiesen werden. Gut erforscht ist hingegen, dass nach sensationsträchtigen Berichten in Massenmedien die Suizidzahlen steigen – und das Aufzeigen von Alternativen viele Menschen davon abhält, sich selbst zu töten. Schreiben wir also über Suizid und über Suizidalität. Schreiben wir über eine der häufigsten Todesursachen weltweit, aber schlachten wir nicht die Details von Einzelfällen aus. Berichten wir – das hat sich in der aktuellen Forschung als besonders wirkungsvoll in der Verhütung von Selbsttötungen erwiesen – über Menschen, die eine Krise überwunden haben. Verzichten wir auf sensationelle Berichte, und üben wir uns in Zurückhaltung bei Details. Wir erreichen täglich Millionen Menschen, also nehmen wir unsere Verantwortung wahr.'\n",
      "Etat;Mitarbeiter überreichten Eigentümervertretern Petition gegen Personalabbau. Wien – Mehrere hundert APA-Mitarbeiter haben laut dem Betriebsrat eine Resolution unterschrieben, die am Mittwoch den Eigentümervertretern übergeben wurde. Inhalt ist ein deutlicher Protest gegen den geplanten Personalabbau (DER STANDARD berichtete) und für eine Gleichstellung der Mitarbeiter von APA-Tochterunternehmen bei automatischen Gehaltsanpassungen. Ich lehne erneute Personalkürzungen oder gar Kündigungen, wie sie derzeit insbesondere in der Redaktion geplant sind, ab und unterstütze die Forderung nach einer verpflichtenden Weitergabe der jährlichen Ist-Erhöhung der Gehälter für alle MitarbeiterInnen der APA-Gruppe, heißt es in der Resolution. Sie wurde den Teilnehmern von Aufsichtsrats- und Vorstandssitzung von denen der zeitgleich stattfindenden Betriebsversammlung übergeben. Hauptkritikpunkt der Belegschaft ist, dass Sparmaßnahmen angekündigt würden, obwohl die APA seit Jahren Gewinne schreibe. Die als Genossenschaft organisierte Agentur gehört zu 45 Prozent dem ORF, den Rest teilen sich 13 Tageszeitungen. Ihnen wirft der Betriebsrat vor, Gewinne einzustreifen und gleichzeitig Sparprogramme zu verordnen. Peter Kropsch, Vorsitzender der APA-Geschäftsführung, versteht die Aufregung nicht vollends. Die APA sei ein gewinnorientiertes Unternehmen, das auch in Zukunft stabil aufgestellt sein müsse, sagt er zum STANDARD. Der Betriebsrat glaubt, dass man die Kosten einfach unbegrenzt weiterlaufen lassen kann, so Kropsch. Für 2016 steige das Personalbudget sogar, allerdings würden automatische Gehaltserhöhungen die Kosten für den einzelnen Mitarbeiter steigen lassen. Ob die APA die Qualität auch mit weniger Mitarbeitern aufrechterhalten könne? Na klar, sagt Kropsch – unter vergleichbaren Agenturen in Europa sei man am breitesten aufgestellt, da habe ich keine Angst. Persönlich habe er außerdem nur eine geringe Beteiligung an der Betriebsversammlung wahrgenommen.\n",
      "Etat;Service: Jobwechsel in der Kommunikationsbranche im Überblick. Hier liefert derStandard.at/Etat Jobwechsel in der Kommunikationsbranche im Überblick. Grob sortiert nach Kalenderwochen, in denen die Infos einlangten. Quellen: Presse- und eigene Infos, andere Branchendienste wie Horizont.at und medianet.at. Wenn Sie Infos für uns haben, bitte ein Mail an etat@derstandard.at schicken. Woche 15 / 2017 Woche 14 / 2017 Woche 13 / 2017 Woche 12 / 2017 Woche 9 / 2017 Woche 8 / 2017 Woche 7 / 2017 Spannende neue Aufgaben voraus: ich mach ab Februar die Nachrichten auf @kurierat. Ich freu mich auch. https://t.co/0zC6EsrXe3 Woche 2 / 2017 Freu mich: Die ausgezeichnete Journalistin Münire Inam vom #ORFreport moderiert (alternierend mit Martina Rupp) ab 23.1. heute konkret! Wie es im kommenden Jahr weitergeht, lasse ich euch bald wissen. Es warten spannende neue Herausforderungen. Woche 45 / 2016 Stefan Huber wechselt von Media in Progress zu content garden technologies und übernimmt den Ausbau der Content Management Unit. Mich interessieren vor allem die Möglichkeiten, die sich aus der Kombination von Content und Technologie ergeben, sagt er.  Woche 43 / 2016 Woche 41 / 2016 Woche 38 / 2016 Woche 37 / 2016 Woche 33 / 2016  Woche 31 / 2016 Woche 30 / 2016 Krone-Anzeigenvermarktung: Thomas Kreuzer leitet die Branchenvermarktung Special Account, Thomas Grojer übernimmt die Regionalleitung Wien und Stammausgabe. Sie folgen in ihren neuen Funktionen Friedrich Dungl nach, der als Geschäftsführer in das Niederösterreichische Pressehaus wechselt. Woche 18 /2016 Vielen Dank! Ich verspreche auch, nicht über die Alpenrepublik und das Schnitzelland zu schreiben. https://t.co/zqj0HXZ7dD Andreas Csar wechselt vom Verband Österreichischer Zeitungen (VÖZ) als Leiter der Presse- und Öffentlichkeitsarbeit zur Stelle des Pressesprechers bei ecoplus (Wirtschaftsagentur des Landes Niederösterreichs). Woche 11 / 2016 Woche 6 / 2016 Woche 5 / 2016 Woche 4 / 2016 Die ÖBB holen Sven Pusswald von der OMV als Leiter der Konzernkommunikation & Public Affairs.\n",
      "Etat;Was Sie über diese Woche wissen sollten - und was Sie gleich wieder vergessen können. Wien - Was hat sich diese Woche getan in der Medienwelt? Ist Ihnen da  nichts entgangen? Besser noch einmal durchchecken – im  Etat.at-Wochenquiz. Wir wünschen viel Spaß beim Mitmachen! Und für alle, die vorige Woche nicht so viel Zeit hatten, Medien-Nachrichten zu lesen: ein nützlicher Link.\n",
      "Etat;Was Sie über diese Woche wissen sollten – und was Sie gleich wieder vergessen können. Wien – Was hat sich diese Woche getan in der Medienwelt? Ist Ihnen da  nichts entgangen? Besser noch einmal durchchecken – im  Etat.at-Wochenquiz. Wir wünschen viel Spaß beim Mitmachen! Und für alle, die vorige Woche nicht so viel Zeit hatten, Medien-Nachrichten zu lesen: ein nützlicher Link.\n",
      "Etat;Medienjournalist möchte eine eigene Plattform aufbauen, die von Lesern unterstützt wird. Wieder irgendwas mit Medien: Es ist noch recht vage, was Stefan Niggemeier plant. Fix ist jedenfalls, dass der deutsche Medienjournalist das Onlinemagazin Krautreporter verlässt. Niggemeier, auch Herausgeber und Initiator des kritischen Bild-Blogs, kündigt eine neue Plattform für Medienkritik an – unter Einbeziehung der Leser. Auf seinem Blog schreibt Niggemeier, dass er zwar das Projekt Krautreporter richtig findet, die Umsetzung aber nicht nach seinen Vorstellungen verlief: Der größte einzelne Fehler war meiner Meinung nach, eine eigene Software  programmieren zu lassen, was viel Zeit, Geld und Nerven gekostet hat —  und teilweise auch jetzt noch nicht richtig funktioniert. Das zentrale Problem verortet er im redaktionellen Bereich. Der rote Faden habe gefehlt: Uns trieb die Lust an, ein neues Geschäftsmodell auszuprobieren, aber  nicht unbedingt eine gemeinsame redaktionelle Idee. Wir taten uns schwer  damit, zu definieren, worüber wir berichten wollen und wie. Mit Niggemeier verliert Krautreporter einen der bekanntesten Journalisten. Das Portal wurde vor einem Jahr nach erfolgreichem Crowdfunding aus der Taufe gehoben. Die Finanzierung gelang, nachdem über 15.000 Mitglieder ein Jahresabo um 60 Euro abschlossen. Wie es mit den Krautreportern weitergeht, wird sich nächste Woche zeigen. Von den 15.000 Mitgliedern müssen nämlich 6.000 ihr Abo verlängern, um ins zweite Jahr gehen zu können.\n",
      "Etat;Autorenkollektiv soll als feste Redaktion zusammenarbeiten. Umwandlung in eine Genossenschaft steht kurz bevor. Berlin/Wien – Die selbst angesagte Revolution des Onlinejournalismus wird in veränderter Form fortgesetzt: Die Krautreporter werden von einer Kapitalgesellschaft in eine Genossenschaft umgewandelt. Nun müssen 400 Genossenschafter gefunden werden, die sich mit einer Einlage von zumindest 250 Euro beteiligen. Erst wenn diese Zahl erreicht wird, kann die Genossenschaft in das Genossenschaftsregister eingetragen werden. Sollte man daran scheitern, wird die Plattform wie bisher als Gesellschaft mit beschränkter Haftung weitergeführt. Die Mitglieder haften in Höhe ihrer Einlagen – eine Nachschusspflicht besteht nicht. Unabhängig von der Einlagenhöhe wird jedes Mitglied eine Stimme bei der Generalversammlung erhalten. Die so eingenommen 100.000 Euro sollen unter anderem dazu verwendet werden, das bestehende Portal um eine Journalismus-Crowdfunding-Plattform zu erweitern. Mit dem ersten Jahr des Bestehens ist man bei den Krautreportern nicht uneingeschränkt zufrieden. 500 Texte sind bisher erschienen – weniger als anfänglich geplant. Stefan Niggermeier kritisierte bei seinem Austritt aus dem Kollektiv  eine fehlende redaktionelle Linie. Die soll nun geschaffen werden, in dem man als feste Redaktion zusammenarbeitet. Auch die Vorteile einer Mitgliedschaft abseits der Genossenschaft sollen ausgebaut werden: In Planung ist beispielsweise eine Mitglieder-App. 18.000 Mitgliedschaften laufen bis Oktober aus. Davon, hat man sich als Ziel gesetzt, sollen zumindest 6.500 verlängert werden. Nach eigenen Angaben benötigt die Plattform mindestens 6.000 Unterstützer, um fortgeführt werden zu können.\n",
      "Etat;Nachrichten-App nach drei Jahren an Finanzierung gescheitert. New York – Die News-App Circa, die Berichterstattung speziell für Smartphones machen wollte, ist nach drei Jahren am Ende. Dem Team sei das Geld ausgegangen, der Betrieb werde bis auf weiteres eingestellt, erklärte Mitgründer Matt Galligan am Mittwoch. Das Konzept von Circa war, das Nachrichtengeschehen in kleine Häppchen runterzubrechen, die gut auf den Smartphone-Bildschirm passen, und die Nutzer mit Updates über aktuelle Entwicklungen auf dem Laufenden zu halten. Mit der Idee hatten die Macher laut Medienberichten rund fünf Millionen Dollar bei Investoren eingesammelt und mehrere etablierte Journalisten angeworben. Circa sei es nicht gelungen, ein weiteres Investment einzufädeln, bevor die Ressourcen knapp geworden seien, schrieb Galligan auf der Blog-Plattform Medium. Man hätte zwar auch versuchen können, mit Werbung oder einer Abo-Gebühr über die Runden zu kommen, räumte er ein. Aber dies hätte der Vision hinter dem Dienst widersprochen und wohl auch nicht genug eingebracht, sagte Galligan. Circa hatte bereits seit Montag nichts mehr veröffentlicht.\n"
     ]
    }
   ],
   "source": [
    "!head ./data/10kgnad/articles.csv"
   ]
  },
  {
   "cell_type": "code",
   "execution_count": 9,
   "metadata": {},
   "outputs": [],
   "source": [
    "import pandas as pd\n",
    "\n",
    "with open('./data/10kgnad/articles.csv', 'r') as fh:\n",
    "    data = (line.split(';', 1) for line in fh)\n",
    "    gnad = pd.DataFrame.from_records(data, columns=['category', 'text'])"
   ]
  },
  {
   "cell_type": "code",
   "execution_count": 13,
   "metadata": {},
   "outputs": [
    {
     "data": {
      "text/plain": [
       "Panorama         1678\n",
       "Web              1677\n",
       "International    1511\n",
       "Wirtschaft       1411\n",
       "Sport            1201\n",
       "Inland           1015\n",
       "Etat              668\n",
       "Wissenschaft      573\n",
       "Kultur            539\n",
       "Name: category, dtype: int64"
      ]
     },
     "execution_count": 13,
     "metadata": {},
     "output_type": "execute_result"
    }
   ],
   "source": [
    "gnad.category.value_counts()"
   ]
  },
  {
   "cell_type": "code",
   "execution_count": 15,
   "metadata": {},
   "outputs": [
    {
     "data": {
      "text/html": [
       "<div>\n",
       "<style scoped>\n",
       "    .dataframe tbody tr th:only-of-type {\n",
       "        vertical-align: middle;\n",
       "    }\n",
       "\n",
       "    .dataframe tbody tr th {\n",
       "        vertical-align: top;\n",
       "    }\n",
       "\n",
       "    .dataframe thead th {\n",
       "        text-align: right;\n",
       "    }\n",
       "</style>\n",
       "<table border=\"1\" class=\"dataframe\">\n",
       "  <thead>\n",
       "    <tr style=\"text-align: right;\">\n",
       "      <th></th>\n",
       "      <th>category</th>\n",
       "      <th>text</th>\n",
       "    </tr>\n",
       "  </thead>\n",
       "  <tbody>\n",
       "    <tr>\n",
       "      <td>0</td>\n",
       "      <td>Etat</td>\n",
       "      <td>Die ARD-Tochter Degeto hat sich verpflichtet, ...</td>\n",
       "    </tr>\n",
       "    <tr>\n",
       "      <td>1</td>\n",
       "      <td>Etat</td>\n",
       "      <td>App sei nicht so angenommen worden wie geplant...</td>\n",
       "    </tr>\n",
       "    <tr>\n",
       "      <td>2</td>\n",
       "      <td>Etat</td>\n",
       "      <td>'Zum Welttag der Suizidprävention ist es Zeit,...</td>\n",
       "    </tr>\n",
       "    <tr>\n",
       "      <td>3</td>\n",
       "      <td>Etat</td>\n",
       "      <td>Mitarbeiter überreichten Eigentümervertretern ...</td>\n",
       "    </tr>\n",
       "    <tr>\n",
       "      <td>4</td>\n",
       "      <td>Etat</td>\n",
       "      <td>Service: Jobwechsel in der Kommunikationsbranc...</td>\n",
       "    </tr>\n",
       "    <tr>\n",
       "      <td>5</td>\n",
       "      <td>Etat</td>\n",
       "      <td>Was Sie über diese Woche wissen sollten - und ...</td>\n",
       "    </tr>\n",
       "    <tr>\n",
       "      <td>6</td>\n",
       "      <td>Etat</td>\n",
       "      <td>Was Sie über diese Woche wissen sollten – und ...</td>\n",
       "    </tr>\n",
       "    <tr>\n",
       "      <td>7</td>\n",
       "      <td>Etat</td>\n",
       "      <td>Medienjournalist möchte eine eigene Plattform ...</td>\n",
       "    </tr>\n",
       "    <tr>\n",
       "      <td>8</td>\n",
       "      <td>Etat</td>\n",
       "      <td>Autorenkollektiv soll als feste Redaktion zusa...</td>\n",
       "    </tr>\n",
       "    <tr>\n",
       "      <td>9</td>\n",
       "      <td>Etat</td>\n",
       "      <td>Nachrichten-App nach drei Jahren an Finanzieru...</td>\n",
       "    </tr>\n",
       "    <tr>\n",
       "      <td>10</td>\n",
       "      <td>Etat</td>\n",
       "      <td>News werden nach Interessen der Leser ausgelie...</td>\n",
       "    </tr>\n",
       "    <tr>\n",
       "      <td>11</td>\n",
       "      <td>Etat</td>\n",
       "      <td>Kabarettist und Moderator rechnet mit Kommenta...</td>\n",
       "    </tr>\n",
       "    <tr>\n",
       "      <td>12</td>\n",
       "      <td>Etat</td>\n",
       "      <td>'Werbung im Wert von 22 Milliarden Euro weltwe...</td>\n",
       "    </tr>\n",
       "    <tr>\n",
       "      <td>13</td>\n",
       "      <td>Etat</td>\n",
       "      <td>Nun besteht die Möglichkeit Werbung nach Nativ...</td>\n",
       "    </tr>\n",
       "    <tr>\n",
       "      <td>14</td>\n",
       "      <td>Etat</td>\n",
       "      <td>Plattform verspricht \"die besten Geschichten v...</td>\n",
       "    </tr>\n",
       "    <tr>\n",
       "      <td>15</td>\n",
       "      <td>Etat</td>\n",
       "      <td>Von Helmut Schmidt, über Häupl und Faymann, Pe...</td>\n",
       "    </tr>\n",
       "    <tr>\n",
       "      <td>16</td>\n",
       "      <td>Etat</td>\n",
       "      <td>Chinesische Online-Handelsplattform kauft 112 ...</td>\n",
       "    </tr>\n",
       "    <tr>\n",
       "      <td>17</td>\n",
       "      <td>Etat</td>\n",
       "      <td>Seite will Abonnements für 3,99 Euro im Monat ...</td>\n",
       "    </tr>\n",
       "    <tr>\n",
       "      <td>18</td>\n",
       "      <td>Etat</td>\n",
       "      <td>Debatte über die Zukunft des Fernsehens bei Di...</td>\n",
       "    </tr>\n",
       "    <tr>\n",
       "      <td>19</td>\n",
       "      <td>Etat</td>\n",
       "      <td>Für die in der Kritik stehende Yahoo-Chefin Ma...</td>\n",
       "    </tr>\n",
       "    <tr>\n",
       "      <td>20</td>\n",
       "      <td>Etat</td>\n",
       "      <td>Stadler gewinnt in Kategorie Medienmacher, wei...</td>\n",
       "    </tr>\n",
       "    <tr>\n",
       "      <td>21</td>\n",
       "      <td>Etat</td>\n",
       "      <td>Mitte Juni findet die GEN-Summit mit mehr als ...</td>\n",
       "    </tr>\n",
       "    <tr>\n",
       "      <td>22</td>\n",
       "      <td>Etat</td>\n",
       "      <td>Posting \"stammt sicher nicht von uns. Das hat ...</td>\n",
       "    </tr>\n",
       "    <tr>\n",
       "      <td>23</td>\n",
       "      <td>Etat</td>\n",
       "      <td>55 Prozent des Umsatzes – Zunächst Test. Menlo...</td>\n",
       "    </tr>\n",
       "    <tr>\n",
       "      <td>24</td>\n",
       "      <td>Etat</td>\n",
       "      <td>Bald soll die Social Media Plattform wieder ve...</td>\n",
       "    </tr>\n",
       "  </tbody>\n",
       "</table>\n",
       "</div>"
      ],
      "text/plain": [
       "   category                                               text\n",
       "0      Etat  Die ARD-Tochter Degeto hat sich verpflichtet, ...\n",
       "1      Etat  App sei nicht so angenommen worden wie geplant...\n",
       "2      Etat  'Zum Welttag der Suizidprävention ist es Zeit,...\n",
       "3      Etat  Mitarbeiter überreichten Eigentümervertretern ...\n",
       "4      Etat  Service: Jobwechsel in der Kommunikationsbranc...\n",
       "5      Etat  Was Sie über diese Woche wissen sollten - und ...\n",
       "6      Etat  Was Sie über diese Woche wissen sollten – und ...\n",
       "7      Etat  Medienjournalist möchte eine eigene Plattform ...\n",
       "8      Etat  Autorenkollektiv soll als feste Redaktion zusa...\n",
       "9      Etat  Nachrichten-App nach drei Jahren an Finanzieru...\n",
       "10     Etat  News werden nach Interessen der Leser ausgelie...\n",
       "11     Etat  Kabarettist und Moderator rechnet mit Kommenta...\n",
       "12     Etat  'Werbung im Wert von 22 Milliarden Euro weltwe...\n",
       "13     Etat  Nun besteht die Möglichkeit Werbung nach Nativ...\n",
       "14     Etat  Plattform verspricht \"die besten Geschichten v...\n",
       "15     Etat  Von Helmut Schmidt, über Häupl und Faymann, Pe...\n",
       "16     Etat  Chinesische Online-Handelsplattform kauft 112 ...\n",
       "17     Etat  Seite will Abonnements für 3,99 Euro im Monat ...\n",
       "18     Etat  Debatte über die Zukunft des Fernsehens bei Di...\n",
       "19     Etat  Für die in der Kritik stehende Yahoo-Chefin Ma...\n",
       "20     Etat  Stadler gewinnt in Kategorie Medienmacher, wei...\n",
       "21     Etat  Mitte Juni findet die GEN-Summit mit mehr als ...\n",
       "22     Etat  Posting \"stammt sicher nicht von uns. Das hat ...\n",
       "23     Etat  55 Prozent des Umsatzes – Zunächst Test. Menlo...\n",
       "24     Etat  Bald soll die Social Media Plattform wieder ve..."
      ]
     },
     "execution_count": 15,
     "metadata": {},
     "output_type": "execute_result"
    }
   ],
   "source": [
    "gnad.head(n=25)"
   ]
  },
  {
   "cell_type": "code",
   "execution_count": 20,
   "metadata": {},
   "outputs": [],
   "source": [
    "import spacy\n",
    "\n",
    "spc = spacy.load('de_core_news_sm')"
   ]
  },
  {
   "cell_type": "code",
   "execution_count": 19,
   "metadata": {},
   "outputs": [
    {
     "data": {
      "text/plain": [
       "Die"
      ]
     },
     "execution_count": 19,
     "metadata": {},
     "output_type": "execute_result"
    }
   ],
   "source": [
    "spc.tokenizer(gnad.iloc[0].text)"
   ]
  }
 ],
 "metadata": {
  "kernelspec": {
   "display_name": "Python 3",
   "language": "python",
   "name": "python3"
  },
  "language_info": {
   "codemirror_mode": {
    "name": "ipython",
    "version": 3
   },
   "file_extension": ".py",
   "mimetype": "text/x-python",
   "name": "python",
   "nbconvert_exporter": "python",
   "pygments_lexer": "ipython3",
   "version": "3.7.4"
  }
 },
 "nbformat": 4,
 "nbformat_minor": 4
}
