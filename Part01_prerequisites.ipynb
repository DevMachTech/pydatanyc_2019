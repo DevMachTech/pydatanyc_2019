{
 "cells": [
  {
   "cell_type": "markdown",
   "metadata": {},
   "source": [
    "# 0. Foreword\n",
    "\n",
    "<center><a href=\"https://twitter.com/emilymbender/status/1067108757488848896?ref_src=twsrc%5Etfw\"><img src=\"img/bender.png\" /></a></blockquote></center>\n",
    "\n",
    "\n",
    "### 1. All datasets are in German\n",
    "### 2. All links are to open access journals _only_"
   ]
  },
  {
   "cell_type": "markdown",
   "metadata": {},
   "source": [
    "---"
   ]
  },
  {
   "cell_type": "markdown",
   "metadata": {},
   "source": [
    "# 1. Prerequisites\n",
    "\n",
    "Neural networks have four building blocks that define how the network operates and how it is trained. As the network architectures have become increasingly complex the details of how the networks are trained have similarly increased, how large the mini batches are, what optimizer to use etc. For instance, see [_RoBERTa: A Robustly Optimized BERT Pretraining Approach_](https://arxiv.org/abs/1907.11692).\n",
    "\n",
    "The four main components of a trained neural network are\n",
    "\n",
    "- the network architecture\n",
    "    - feed forward, recurrent, transformer?\n",
    "    - how many layers?\n",
    "    - how wide are the layers?\n",
    "- the optimizer\n",
    "    - SGD\n",
    "    - Adam\n",
    "    - AdamW\n",
    "- the scheduler\n",
    "    - constant\n",
    "    - slanted learning rates\n",
    "- the learning objective and loss function\n",
    "    - this is problem dependent\n",
    "    - masked language model (MLM)\n",
    "    - causal language model (CLM)\n",
    "    - translation language model (TLM)\n",
    "    - classification\n",
    "\n",
    "https://pytorch.org/tutorials/beginner/deep_learning_nlp_tutorial.html\n",
    "\n",
    "\n",
    "## 1.1 Network Architecture\n",
    "\n",
    "The networks architecture is perhaps the most visible part of the four. It defines how the individual (artificial) neurons work and how they connect together. At its simplest the network is a fully connected feed forward network with sigmoid as the activation function for the neurons."
   ]
  },
  {
   "cell_type": "code",
   "execution_count": 8,
   "metadata": {},
   "outputs": [
    {
     "data": {
      "text/plain": [
       "array([[0.49201864, 0.50798136],\n",
       "       [0.4932044 , 0.50679564],\n",
       "       [0.49051538, 0.5094846 ],\n",
       "       [0.49539065, 0.50460935],\n",
       "       [0.4970286 , 0.5029715 ],\n",
       "       [0.5063873 , 0.4936127 ],\n",
       "       [0.4970608 , 0.5029392 ],\n",
       "       [0.4944676 , 0.50553244],\n",
       "       [0.50102276, 0.49897727],\n",
       "       [0.49211037, 0.50788957]], dtype=float32)"
      ]
     },
     "execution_count": 8,
     "metadata": {},
     "output_type": "execute_result"
    }
   ],
   "source": [
    "import torch\n",
    "from torch import nn\n",
    "from torch.nn import functional as F\n",
    "\n",
    "class FeedForward(nn.Module):\n",
    "    def __init__(self, layers, *args, **kwargs):\n",
    "        super().__init__(*args, **kwargs)\n",
    "        \n",
    "        # create feed forward layers\n",
    "        self.layers = nn.ModuleList([nn.Linear(in_features=in_features, out_features=out_features)\n",
    "                                     for (in_features, out_features) in layers])\n",
    "        \n",
    "        # TODO: initialise weights\n",
    "        \n",
    "        # create activation functions for each layer\n",
    "        self.activation = torch.nn.Sigmoid()\n",
    "\n",
    "    def forward(self, X, labels=None):\n",
    "        output = None\n",
    "        for i_layer, layer in enumerate(self.layers):\n",
    "            if output is None:\n",
    "                output = self.activation(layer(X))\n",
    "            else:\n",
    "                output = self.activation(layer(output))\n",
    "        # do softmax\n",
    "        prob = F.log_softmax(output, dim=1).exp()\n",
    "        return prob\n",
    "\n",
    "\n",
    "n_classes = 2\n",
    "n_features = 50\n",
    "layer_spec = [(n_features, 25), (25, n_classes)]\n",
    "ff = FeedForward(layers=layer_spec)\n",
    "\n",
    "inputs = torch.randn((10, n_features), dtype=torch.float32)\n",
    "ff(inputs).detach().numpy()"
   ]
  },
  {
   "cell_type": "markdown",
   "metadata": {},
   "source": [
    "## 1.2 Optimizer and Scheduler\n",
    "\n",
    "- http://ruder.io/optimizing-gradient-descent/\n",
    "- http://cs231n.github.io/optimization-1/\n",
    "\n",
    "## 1.3 Training the Network"
   ]
  },
  {
   "cell_type": "code",
   "execution_count": 9,
   "metadata": {},
   "outputs": [],
   "source": [
    "from sklearn.model_selection import train_test_split\n",
    "from sklearn.datasets import make_blobs\n",
    "from sklearn.preprocessing import OneHotEncoder\n",
    "from torch.optim.lr_scheduler import LambdaLR\n",
    "from torch.utils.data import TensorDataset, RandomSampler, DataLoader\n",
    "\n",
    "X, y = make_blobs(n_samples=500, n_features=n_features, centers=2)\n",
    "X_train, X_test, y_train, y_test = train_test_split(X, y)\n",
    "\n",
    "train_dataset = TensorDataset(torch.FloatTensor(X_train), torch.LongTensor(y_train))\n",
    "test_dataset = TensorDataset(torch.FloatTensor(X_test), torch.LongTensor(y_test))\n",
    "sampler = RandomSampler(train_dataset)\n",
    "\n",
    "# Utilize the data loader from pytorch to create batches of data \n",
    "train_data = DataLoader(train_dataset, sampler=sampler, batch_size=8)"
   ]
  },
  {
   "cell_type": "markdown",
   "metadata": {},
   "source": [
    "### 1.3.1 A Learning Function\n",
    "Define a training function that loops through the training data some number of times and updates the model weights as well as the learning rate schedule.\n",
    "\n",
    "__Note__ that each iteration over the inner for loop takes _one batch_ of data from the `pytorch` data loader class. The batch size determines how much data is used to compute the gradient. ___This will become important later!___\n"
   ]
  },
  {
   "cell_type": "code",
   "execution_count": 32,
   "metadata": {},
   "outputs": [],
   "source": [
    "def train_model(model: nn.Module,\n",
    "                data: DataLoader,\n",
    "                criterion: nn.modules.loss._Loss,\n",
    "                optimizer: torch.optim.Optimizer,\n",
    "                scheduler: torch.optim.lr_scheduler._LRScheduler,\n",
    "                n_epochs: int = 1):\n",
    "    model.train()\n",
    "    losses = []\n",
    "    # for each epoch\n",
    "    for i_epoch in range(n_epochs):\n",
    "        optimizer.zero_grad()\n",
    "        # go through the training data one batch at a time\n",
    "        for x_, y_ in data:\n",
    "            # Forward pass\n",
    "            y_pred = model(x_)\n",
    "\n",
    "            # Compute Loss\n",
    "            loss = criterion(y_pred.squeeze(), y_)\n",
    "            losses.append(loss)\n",
    "            \n",
    "            # Backprop loss\n",
    "            loss.backward()\n",
    "            \n",
    "            # Update weights\n",
    "            optimizer.step()\n",
    "            \n",
    "            # Update learning rate schedule\n",
    "            scheduler.step()\n",
    "    return model, losses"
   ]
  },
  {
   "cell_type": "code",
   "execution_count": 36,
   "metadata": {},
   "outputs": [],
   "source": [
    "from matplotlib import pyplot as plt\n",
    "import seaborn as sns\n",
    "\n",
    "model = FeedForward(layer_spec)\n",
    "criterion = torch.nn.NLLLoss()\n",
    "optimizer = torch.optim.SGD(model.parameters(), lr = 0.01)\n",
    "scheduler = LambdaLR(optimizer, lambda epoch: 1e-3)\n",
    "\n",
    "trained_model, losses_sgd = train_model(model, train_data, criterion, optimizer, scheduler, n_epochs=15)\n",
    "\n",
    "optimizer = torch.optim.Adam(model.parameters(), lr = 0.01)\n",
    "trained_model, losses_adam = train_model(model, train_data, criterion, optimizer, scheduler, n_epochs=15)"
   ]
  },
  {
   "cell_type": "markdown",
   "metadata": {},
   "source": [
    "The choice of optimizer makes quite a difference. As the network becomes larger (more parameters) and the problme more complex the optimizer becomes increasingly important."
   ]
  },
  {
   "cell_type": "code",
   "execution_count": 37,
   "metadata": {},
   "outputs": [
    {
     "data": {
      "image/png": "[encoded data removed]",
      "text/plain": [
       "<Figure size 432x288 with 1 Axes>"
      ]
     },
     "metadata": {
      "needs_background": "light"
     },
     "output_type": "display_data"
    }
   ],
   "source": [
    "%matplotlib inline\n",
    "\n",
    "plt.plot(losses_sgd, label='SGD');\n",
    "plt.legend();"
   ]
  },
  {
   "cell_type": "code",
   "execution_count": 38,
   "metadata": {},
   "outputs": [
    {
     "data": {
      "image/png": "[encoded data removed]",
      "text/plain": [
       "<Figure size 432x288 with 1 Axes>"
      ]
     },
     "metadata": {
      "needs_background": "light"
     },
     "output_type": "display_data"
    }
   ],
   "source": [
    "plt.plot(losses_adam, label='Adam');\n",
    "plt.legend();"
   ]
  },
  {
   "cell_type": "markdown",
   "metadata": {},
   "source": [
    "---\n",
    "\n",
    "# 1.4 Natural Language (text) to Linear Algebra\n",
    "\n",
    "The dummy data set we used in the previous section was already vectors so that no work was required to transform the data into something (a vector) a neural network can consume. Natural langauge text, or `python` source code for that matter, does not come in this readily available form so some amount of preprocessing is required.\n",
    "\n",
    "The great promise of artificial neural networks for NLP is that a lot of the feature engineering work that has in the past been done by arduous PhD students can be offloaded to the combination of neural network machinery, gradient descent and the loss function to be minimised. Optimising a loss function given some training data may lead to problems down the line in the networks ability to [generalise to other kinds of data](https://thegradient.pub/frontiers-of-generalization-in-natural-language-processing/), but we'll forego that concern here.\n",
    "\n",
    "## 1.4.1 Representing Natural Language - a Computer Science Perspective\n",
    "\n",
    "Natural languages are ambiguous, complex and highly expressive ways of encoding information, not just semantics but also a lot of cultural details like class hierarchies and history. The Viking conquests are present in the everyday usage of english. We grow _cows_ _pigs_ and _lamb_ but eat _beef_ _pork_ and _mutton_, at least the non-vegetarians do. In finnish _vasta_ and _vihta_ refer to a collection of young leafy birch branches used when bathing (sauna), however _vihta_ is only ever used in western Finland and _vasta_ only in eastern Finland. Whether or not these etymological tidbits and subtle differences in the semantics of the words are necessary or even helpful in solving some task remains debatable.\n",
    "\n",
    "Word vectors, also known as _embeddings_, aim to create word representations that capture distributional similarity between words as vectors. Specifically, the word vectors should act in such a way that algebraic modifications maintain the semantic coherence. By capturing distributional similarity they end up capturing semantic information about words and their relations and thus allow for a somewhat coherent way of encoding natural language text into vectors.\n",
    "\n",
    "These vectors can be used to encode documents for neural networks.\n",
    "\n",
    "## 1.4.2 A Text Classifier with Embeddings\n",
    "\n",
    "Below, we'll use the fastText word embeddings to create a document classifier for the \"_10k German News Articles Dataset_\" (GNAD) data set."
   ]
  },
  {
   "cell_type": "code",
   "execution_count": 19,
   "metadata": {},
   "outputs": [
    {
     "name": "stdout",
     "output_type": "stream",
     "text": [
      "  % Total    % Received % Xferd  Average Speed   Time    Time     Time  Current\n",
      "                                 Dload  Upload   Total   Spent    Left  Speed\n",
      "100 1218M  100 1218M    0     0  7814k      0  0:02:39  0:02:39 --:--:-- 7518k 0:02:25  0:01:52  0:00:33 8636k\n"
     ]
    }
   ],
   "source": [
    "!curl -O https://dl.fbaipublicfiles.com/fasttext/vectors-crawl/cc.de.300.vec.gz"
   ]
  },
  {
   "cell_type": "code",
   "execution_count": 24,
   "metadata": {},
   "outputs": [
    {
     "name": "stdout",
     "output_type": "stream",
     "text": [
      "  % Total    % Received % Xferd  Average Speed   Time    Time     Time  Current\n",
      "                                 Dload  Upload   Total   Spent    Left  Speed\n",
      "100   131  100   131    0     0    627      0 --:--:-- --:--:-- --:--:--   629\n"
     ]
    }
   ],
   "source": [
    "!curl -O https://github.com/tblock/10kGNAD/raw/master/train.csv"
   ]
  },
  {
   "cell_type": "code",
   "execution_count": 25,
   "metadata": {},
   "outputs": [
    {
     "name": "stdout",
     "output_type": "stream",
     "text": [
      "  % Total    % Received % Xferd  Average Speed   Time    Time     Time  Current\n",
      "                                 Dload  Upload   Total   Spent    Left  Speed\n",
      "100   130  100   130    0     0    167      0 --:--:-- --:--:-- --:--:--   167\n"
     ]
    }
   ],
   "source": [
    "!curl -O https://github.com/tblock/10kGNAD/raw/master/test.csv"
   ]
  },
  {
   "cell_type": "code",
   "execution_count": 53,
   "metadata": {},
   "outputs": [
    {
     "name": "stdout",
     "output_type": "stream",
     "text": [
      "Collecting de_core_news_sm==2.2.0 from https://github.com/explosion/spacy-models/releases/download/de_core_news_sm-2.2.0/de_core_news_sm-2.2.0.tar.gz#egg=de_core_news_sm==2.2.0\n",
      "\u001b[?25l  Downloading https://github.com/explosion/spacy-models/releases/download/de_core_news_sm-2.2.0/de_core_news_sm-2.2.0.tar.gz (14.9MB)\n",
      "\u001b[K     |████████████████████████████████| 14.9MB 3.1MB/s eta 0:00:01\n",
      "\u001b[?25hRequirement already satisfied: spacy>=2.2.0 in /Users/mattilyra/.local/share/virtualenvs/pydatanyc_2019-b2AkOBOU/lib/python3.7/site-packages (from de_core_news_sm==2.2.0) (2.2.1)\n",
      "Requirement already satisfied: thinc<7.2.0,>=7.1.1 in /Users/mattilyra/.local/share/virtualenvs/pydatanyc_2019-b2AkOBOU/lib/python3.7/site-packages (from spacy>=2.2.0->de_core_news_sm==2.2.0) (7.1.1)\n",
      "Requirement already satisfied: plac<1.0.0,>=0.9.6 in /Users/mattilyra/.local/share/virtualenvs/pydatanyc_2019-b2AkOBOU/lib/python3.7/site-packages (from spacy>=2.2.0->de_core_news_sm==2.2.0) (0.9.6)\n",
      "Requirement already satisfied: srsly<1.1.0,>=0.1.0 in /Users/mattilyra/.local/share/virtualenvs/pydatanyc_2019-b2AkOBOU/lib/python3.7/site-packages (from spacy>=2.2.0->de_core_news_sm==2.2.0) (0.1.0)\n",
      "Requirement already satisfied: cymem<2.1.0,>=2.0.2 in /Users/mattilyra/.local/share/virtualenvs/pydatanyc_2019-b2AkOBOU/lib/python3.7/site-packages (from spacy>=2.2.0->de_core_news_sm==2.2.0) (2.0.2)\n",
      "Requirement already satisfied: murmurhash<1.1.0,>=0.28.0 in /Users/mattilyra/.local/share/virtualenvs/pydatanyc_2019-b2AkOBOU/lib/python3.7/site-packages (from spacy>=2.2.0->de_core_news_sm==2.2.0) (1.0.2)\n",
      "Requirement already satisfied: blis<0.5.0,>=0.4.0 in /Users/mattilyra/.local/share/virtualenvs/pydatanyc_2019-b2AkOBOU/lib/python3.7/site-packages (from spacy>=2.2.0->de_core_news_sm==2.2.0) (0.4.1)\n",
      "Requirement already satisfied: numpy>=1.15.0 in /Users/mattilyra/.local/share/virtualenvs/pydatanyc_2019-b2AkOBOU/lib/python3.7/site-packages (from spacy>=2.2.0->de_core_news_sm==2.2.0) (1.17.3)\n",
      "Requirement already satisfied: preshed<3.1.0,>=3.0.2 in /Users/mattilyra/.local/share/virtualenvs/pydatanyc_2019-b2AkOBOU/lib/python3.7/site-packages (from spacy>=2.2.0->de_core_news_sm==2.2.0) (3.0.2)\n",
      "Requirement already satisfied: requests<3.0.0,>=2.13.0 in /Users/mattilyra/.local/share/virtualenvs/pydatanyc_2019-b2AkOBOU/lib/python3.7/site-packages (from spacy>=2.2.0->de_core_news_sm==2.2.0) (2.22.0)\n",
      "Requirement already satisfied: wasabi<1.1.0,>=0.2.0 in /Users/mattilyra/.local/share/virtualenvs/pydatanyc_2019-b2AkOBOU/lib/python3.7/site-packages (from spacy>=2.2.0->de_core_news_sm==2.2.0) (0.3.0)\n",
      "Requirement already satisfied: tqdm<5.0.0,>=4.10.0 in /Users/mattilyra/.local/share/virtualenvs/pydatanyc_2019-b2AkOBOU/lib/python3.7/site-packages (from thinc<7.2.0,>=7.1.1->spacy>=2.2.0->de_core_news_sm==2.2.0) (4.36.1)\n",
      "Requirement already satisfied: urllib3!=1.25.0,!=1.25.1,<1.26,>=1.21.1 in /Users/mattilyra/.local/share/virtualenvs/pydatanyc_2019-b2AkOBOU/lib/python3.7/site-packages (from requests<3.0.0,>=2.13.0->spacy>=2.2.0->de_core_news_sm==2.2.0) (1.25.6)\n",
      "Requirement already satisfied: certifi>=2017.4.17 in /Users/mattilyra/.local/share/virtualenvs/pydatanyc_2019-b2AkOBOU/lib/python3.7/site-packages (from requests<3.0.0,>=2.13.0->spacy>=2.2.0->de_core_news_sm==2.2.0) (2019.9.11)\n",
      "Requirement already satisfied: idna<2.9,>=2.5 in /Users/mattilyra/.local/share/virtualenvs/pydatanyc_2019-b2AkOBOU/lib/python3.7/site-packages (from requests<3.0.0,>=2.13.0->spacy>=2.2.0->de_core_news_sm==2.2.0) (2.8)\n",
      "Requirement already satisfied: chardet<3.1.0,>=3.0.2 in /Users/mattilyra/.local/share/virtualenvs/pydatanyc_2019-b2AkOBOU/lib/python3.7/site-packages (from requests<3.0.0,>=2.13.0->spacy>=2.2.0->de_core_news_sm==2.2.0) (3.0.4)\n",
      "Building wheels for collected packages: de-core-news-sm\n",
      "  Building wheel for de-core-news-sm (setup.py) ... \u001b[?25ldone\n",
      "\u001b[?25h  Created wheel for de-core-news-sm: filename=de_core_news_sm-2.2.0-cp37-none-any.whl size=14912286 sha256=5de6ce5f915611662cf498cdfe4f0ccd43ff647bc3068abb6902928b045e5686\n",
      "  Stored in directory: /private/var/folders/v0/zh1ybpwd1xgb9mrkp8mw1zsr0000gn/T/pip-ephem-wheel-cache-fztoq3uc/wheels/71/3d/6c/0e841e5195cedb751569abff1815e5d890f2c44e72849d3da8\n",
      "Successfully built de-core-news-sm\n",
      "Installing collected packages: de-core-news-sm\n",
      "Successfully installed de-core-news-sm-2.2.0\n",
      "\u001b[38;5;2m✔ Download and installation successful\u001b[0m\n",
      "You can now load the model via spacy.load('de_core_news_sm')\n"
     ]
    }
   ],
   "source": [
    "!python -m spacy download de_core_news_sm"
   ]
  },
  {
   "cell_type": "markdown",
   "metadata": {},
   "source": [
    "---"
   ]
  },
  {
   "cell_type": "markdown",
   "metadata": {},
   "source": [
    "# Word Vectors"
   ]
  },
  {
   "cell_type": "code",
   "execution_count": null,
   "metadata": {},
   "outputs": [],
   "source": [
    "from gensim.models import KeyedVectors\n",
    "ft_vec = KeyedVectors.load_word2vec_format('cc.de.300.vec')"
   ]
  },
  {
   "cell_type": "markdown",
   "metadata": {},
   "source": [
    "Much has been said about word vectors, and as a result I won't go into a lot of detail here, but instead simply refer to the existing excellent resources that are already available.\n",
    "\n",
    "- Noah Smith: [Contextual Word Representations: A Contextual Introduction](https://arxiv.org/abs/1902.06006)\n",
    "\n",
    "\n",
    "- Mikolov et al.: [_Efficient Estimation of Word Representations in Vector Space._](http://arxiv.org/abs/1301.3781) ICLR (Workshop Poster) 2013\n",
    "\n",
    "  > \"_We propose two novel model architectures for computing continuous vector representations of words from very large data sets. The quality of these representations is measured in a word similarity task, and the results are compared to the previously best performing techniques based on different types of neural networks. We observe large improvements in accuracy at much lower computational cost, i.e. it takes less than a day to learn high quality word vectors from a 1.6 billion words data set. Furthermore, we show that these vectors provide state-of-the-art performance on our test set for measuring syntactic and semantic word similarities._\"\n",
    "\n",
    "- Mikolov et al. [_Distributed Representations of Words and Phrases and their Compositionality._](http://papers.nips.cc/paper/5021-distributed-representations-of-words-and-phrases-and-their-compositionality) NIPS 2013: 3111-3119\n",
    "\n",
    "- Le et al. [_Distributed Representations of Sentences and Documents._](http://proceedings.mlr.press/v32/le14.html) ICML 2014: 1188-1196\n",
    "\n",
    "\n",
    "- Chris Olah [Deep Learning, NLP, and Representations](https://colah.github.io/posts/2014-07-NLP-RNNs-Representations/) (July 7, 2014)\n",
    "\n",
    "- Arora et al. [_A Latent Variable Model Approach to PMI-based Word Embeddings._](https://transacl.org/ojs/index.php/tacl/article/view/742) TACL 4: 385-399 (2016)\n",
    "  > Semantic word embeddings represent the meaning of a word via a vector, and are created by diverse methods. Many use nonlinear operations on co-occurrence statistics, and have hand-tuned hyperparameters and reweighting methods.\n",
    "\n",
    "  > This paper proposes a new generative model, a dynamic version of the log-linear topic model of Mnih and Hinton (2007). The methodological novelty is to use the prior to compute closed form expressions for word statistics. This provides a theoretical justification for nonlinear models like PMI, word2vec, and GloVe, as well as some hyperparameter choices. It also helps explain why low-dimensional semantic embeddings contain linear algebraic structure that allows solution of word analogies, as shown by Mikolov et al. (2013a) and many subsequent papers.\n",
    "\n",
    "  - Sanjeev Arora [Semantic Word Embeddings](http://www.offconvex.org/2015/12/12/word-embeddings-1/) (Dec 12, 2015)\n",
    "  - Sanjeev Arora [Word Embeddings: Explaining their properties](https://www.offconvex.org/2016/02/14/word-embeddings-2/) (February 14, 2016)\n",
    "\n",
    "---\n",
    "\n",
    "![word2vec](./img/word2vec.png)\n",
    "\n",
    "<sub>From: Mikolov et al.: [_Efficient Estimation of Word Representations in Vector Space._](http://arxiv.org/abs/1301.3781) ICLR (Workshop Poster) 2013</sub>\n",
    "\n",
    "In short word vectors are a way of capturing and representing information about distributional semantics in a way that is convenient for computers to deal with. More to the point, they allow arithmetic operations that are, at least to an extent, semantically coherent."
   ]
  },
  {
   "cell_type": "code",
   "execution_count": 29,
   "metadata": {},
   "outputs": [
    {
     "data": {
      "text/plain": [
       "[('Potsdam', 0.7689189314842224),\n",
       " ('Berlin-Mitte', 0.7297649383544922),\n",
       " ('Charlottenburg', 0.7252569794654846),\n",
       " ('Neukölln', 0.7029827833175659),\n",
       " ('Hamburg', 0.7024208903312683),\n",
       " ('Brandenburg', 0.7002496719360352),\n",
       " ('Wilmersdorf', 0.6893421411514282),\n",
       " ('Spandau', 0.683754563331604),\n",
       " ('BerlinIn', 0.6804291009902954),\n",
       " ('Schöneberg', 0.6698859930038452)]"
      ]
     },
     "execution_count": 29,
     "metadata": {},
     "output_type": "execute_result"
    }
   ],
   "source": [
    "ft_vec.most_similar('Berlin')"
   ]
  },
  {
   "cell_type": "code",
   "execution_count": 31,
   "metadata": {},
   "outputs": [],
   "source": [
    "ft_vec_en = KeyedVectors.load_word2vec_format('wiki-news-300d-1M.vec')"
   ]
  },
  {
   "cell_type": "code",
   "execution_count": 35,
   "metadata": {},
   "outputs": [
    {
     "data": {
      "text/plain": [
       "[('Hamburg', 0.7192949056625366),\n",
       " ('Leipzig', 0.7079555988311768),\n",
       " ('Germany', 0.7065216302871704),\n",
       " ('Bonn', 0.6962816715240479),\n",
       " ('Frankfurt', 0.6828957796096802),\n",
       " ('Munich', 0.6818758249282837),\n",
       " ('Dresden', 0.6666932106018066),\n",
       " ('Charlottenburg', 0.6547130346298218),\n",
       " ('Cologne', 0.6527722477912903),\n",
       " ('Potsdam', 0.6491367220878601)]"
      ]
     },
     "execution_count": 35,
     "metadata": {},
     "output_type": "execute_result"
    }
   ],
   "source": [
    "ft_vec_en.most_similar('Berlin')"
   ]
  },
  {
   "cell_type": "code",
   "execution_count": 30,
   "metadata": {},
   "outputs": [
    {
     "data": {
      "text/plain": [
       "[('python', 0.6976648569107056),\n",
       " ('Python-', 0.6554610729217529),\n",
       " ('wxPython', 0.6542694568634033),\n",
       " ('IronPython', 0.6238301396369934),\n",
       " ('Pythons', 0.6180740594863892),\n",
       " ('Jython', 0.6156101226806641),\n",
       " ('Monthy', 0.6128896474838257),\n",
       " ('Cython', 0.6123481392860413),\n",
       " ('Python-Programm', 0.6106103658676147),\n",
       " ('CPython', 0.5990972518920898)]"
      ]
     },
     "execution_count": 30,
     "metadata": {},
     "output_type": "execute_result"
    }
   ],
   "source": [
    "ft_vec.most_similar('Python')"
   ]
  },
  {
   "cell_type": "code",
   "execution_count": 37,
   "metadata": {},
   "outputs": [
    {
     "data": {
      "text/plain": [
       "[('python', 0.7034494876861572),\n",
       " ('Pythons', 0.7013207674026489),\n",
       " ('molurus', 0.6848306655883789),\n",
       " ('Stackless', 0.6760033369064331),\n",
       " ('Pygame', 0.66436767578125),\n",
       " ('Monthy', 0.6636004447937012),\n",
       " ('PyGTK', 0.635582447052002),\n",
       " ('NumPy', 0.6299797296524048),\n",
       " ('sebae', 0.628106415271759),\n",
       " ('CPython', 0.6107180118560791)]"
      ]
     },
     "execution_count": 37,
     "metadata": {},
     "output_type": "execute_result"
    }
   ],
   "source": [
    "ft_vec_en.most_similar('Python')"
   ]
  },
  {
   "cell_type": "code",
   "execution_count": 42,
   "metadata": {},
   "outputs": [],
   "source": [
    "mystery = ft_vec['Berlin'] - ft_vec['Germany'] + ft_vec['France']"
   ]
  },
  {
   "cell_type": "code",
   "execution_count": 43,
   "metadata": {},
   "outputs": [
    {
     "data": {
      "text/plain": [
       "[('France', 0.7478695511817932),\n",
       " ('Paris', 0.6620789766311646),\n",
       " ('Berlin', 0.5965796709060669),\n",
       " ('Marseille', 0.5772451162338257),\n",
       " ('Paris-Brüssel', 0.57389235496521),\n",
       " ('Toulouse', 0.5723322033882141),\n",
       " ('Lyon', 0.5629856586456299),\n",
       " ('Marseille-Provence', 0.561870276927948),\n",
       " ('Chartre', 0.5531403422355652),\n",
       " ('Paris-Lyon', 0.5527874231338501)]"
      ]
     },
     "execution_count": 43,
     "metadata": {},
     "output_type": "execute_result"
    }
   ],
   "source": [
    "ft_vec.most_similar([mystery])"
   ]
  },
  {
   "cell_type": "code",
   "execution_count": 46,
   "metadata": {},
   "outputs": [],
   "source": [
    "mystery = ft_vec_en['Berlin'] - ft_vec_en['Germany'] + ft_vec_en['France']"
   ]
  },
  {
   "cell_type": "code",
   "execution_count": 48,
   "metadata": {},
   "outputs": [
    {
     "data": {
      "text/plain": [
       "[('Paris', 0.8141087293624878),\n",
       " ('Berlin', 0.7963954210281372),\n",
       " ('France', 0.7063857913017273),\n",
       " ('Brussels', 0.635625958442688),\n",
       " ('Cannes', 0.6236768960952759),\n",
       " ('Toulouse', 0.6210619807243347),\n",
       " ('Moscow', 0.6173150539398193),\n",
       " ('Marseille', 0.6148085594177246),\n",
       " ('Parisian', 0.6095399856567383),\n",
       " ('London', 0.6034213304519653)]"
      ]
     },
     "execution_count": 48,
     "metadata": {},
     "output_type": "execute_result"
    }
   ],
   "source": [
    "ft_vec_en.most_similar([mystery])"
   ]
  },
  {
   "cell_type": "markdown",
   "metadata": {},
   "source": [
    "---"
   ]
  },
  {
   "cell_type": "markdown",
   "metadata": {},
   "source": [
    "### Cut down the size of the embedding matrix to make loading the vectors a little easier\n",
    "\n",
    "- Can you think of a downside to this approach?"
   ]
  },
  {
   "cell_type": "code",
   "execution_count": 17,
   "metadata": {},
   "outputs": [],
   "source": [
    "import utils\n",
    "\n",
    "gnad_train, gnad_test = utils.load_gnad()"
   ]
  },
  {
   "cell_type": "markdown",
   "metadata": {},
   "source": [
    "    !python -m spacy download de_core_news_sm"
   ]
  },
  {
   "cell_type": "code",
   "execution_count": 1,
   "metadata": {},
   "outputs": [],
   "source": [
    "import spacy\n",
    "\n",
    "spc = spacy.load('de_core_news_sm')"
   ]
  },
  {
   "cell_type": "code",
   "execution_count": 18,
   "metadata": {},
   "outputs": [],
   "source": [
    "active_vocab = set(token.text for text in gnad_train.text for token in spc.tokenizer(text) if token.text in ft_vec)\n",
    "active_vocab = active_vocab | set(token.text for text in gnad_test.text for token in spc.tokenizer(text) if token.text in ft_vec)"
   ]
  },
  {
   "cell_type": "code",
   "execution_count": 19,
   "metadata": {},
   "outputs": [
    {
     "data": {
      "text/plain": [
       "175121"
      ]
     },
     "execution_count": 19,
     "metadata": {},
     "output_type": "execute_result"
    }
   ],
   "source": [
    "len(active_vocab)"
   ]
  },
  {
   "cell_type": "code",
   "execution_count": 37,
   "metadata": {},
   "outputs": [
    {
     "name": "stdout",
     "output_type": "stream",
     "text": [
      "2000000 300\n",
      ", -0.0354 -0.0088 -0.0180 0.0160 -0.0152 0.0560 0.0079 0.0567 -0.0614 -0.1713 0.0450 -0.0251 -0.1888 -0.0495 -0.0025 -0.0287 -0.1078 -0.0978 0.0220 0.2466 0.0199 -0.0657 -0.0058 0.0561 -0.1126 0.0272 -0.0957 -0.0187 -0.0424 0.2044 0.3801 -0.0560 -0.0257 0.0537 0.1034 0.0380 -0.0044 -0.1712 -0.0480 0.1109 -0.0271 0.0272 -0.0983 0.0479 0.0011 -0.1056 -0.0040 0.0161 -0.0501 -0.1308 -0.0694 0.0367 -0.0100 -0.0618 -0.0011 -0.0166 0.0058 0.0276 -0.0076 -0.1025 -0.0248 0.0318 -0.1475 0.0365 0.0396 0.0253 -0.0647 -0.0085 0.0012 -0.0321 -0.0545 0.2657 0.0860 0.0243 -0.0705 -0.0145 0.0237 -0.0478 -0.0031 -0.0084 0.0618 -0.0030 0.0060 0.1196 0.1298 0.0500 0.0181 -0.0286 -0.0655 -0.0006 0.1899 -0.2675 0.0189 0.0274 -0.0886 -0.0716 0.0348 -0.2869 -0.0287 -0.0350 0.0047 -0.0182 0.0868 0.1080 0.0842 -0.1328 0.0148 -0.0586 -0.0322 -0.0326 -0.0491 -0.0112 -0.0650 0.0060 -0.1827 0.0720 0.0571 -0.0769 0.0478 -0.0087 0.2527 0.0112 -0.0003 0.0226 0.0196 -0.0313 0.0401 -0.0268 -0.0404 0.0393 -0.0621 0.1305 -0.0126 0.0768 0.0251 0.0495 0.2509 -0.2401 0.0598 0.0598 0.0168 -1.4784 0.0797 -0.0936 0.0419 0.0961 -0.0930 -0.0723 -0.0206 0.0514 0.0337 0.2034 -0.0211 0.0063 -0.0493 -0.0322 0.0339 -0.1839 0.0375 0.2527 0.0133 -0.0317 0.0544 0.0337 0.0055 0.1082 0.0129 0.0060 0.1246 0.0102 0.0321 -0.0204 -0.0555 0.0842 -0.0364 -0.0203 0.0033 -0.0592 0.1161 0.0302 -0.0880 -0.0089 0.0241 -0.0647 -0.0738 -0.2447 -0.0563 -0.0493 -0.0403 0.0310 -0.0633 -0.0592 -0.0763 -0.0319 -0.0433 -0.0263 0.1970 0.0658 -0.0294 -0.1093 -0.0389 -0.1006 -0.0144 -0.0381 -0.0363 0.0437 0.0165 0.0631 0.0676 0.1051 0.0344 0.0239 0.0608 0.1226 0.0358 0.0535 -0.0295 -0.0570 0.0161 0.0457 0.0075 0.0442 -0.0038 0.0378 0.0409 0.0052 -0.0542 0.0323 0.0297 0.0014 0.1969 0.0701 -0.0134 -0.0416 0.1082 0.0061 0.0236 0.0552 -0.3050 0.0180 0.0734 -0.0328 0.4229 -0.1109 0.0459 0.0135 0.1276 0.0025 0.0621 0.2011 0.0811 -0.0688 0.2001 -0.0067 -0.0706 0.0256 0.0133 0.0162 0.0217 -0.0717 -0.0691 -0.0270 0.0982 0.0005 0.0262 0.0499 0.0591 -0.0780 0.2796 0.1134 0.0670 0.0038 0.1318 0.0780 -0.0176 0.0297 0.5797 0.0077 0.0837 0.0966 0.2333 -0.0155 0.3322 -0.0258 0.0062 0.0377 -0.0123 0.0433 0.0372 -0.0361 0.0181 -0.0157 -0.0535 -0.0330 0.1214 -0.0217 -0.0086 -0.0606 -0.1096 0.0739\n"
     ]
    }
   ],
   "source": [
    "!head -n 2 ./cc.de.300.vec"
   ]
  },
  {
   "cell_type": "code",
   "execution_count": 46,
   "metadata": {},
   "outputs": [
    {
     "data": {
      "text/plain": [
       "2000000"
      ]
     },
     "execution_count": 46,
     "metadata": {},
     "output_type": "execute_result"
    }
   ],
   "source": [
    "len(ft_vec.vectors)"
   ]
  },
  {
   "cell_type": "code",
   "execution_count": 49,
   "metadata": {},
   "outputs": [],
   "source": [
    "!gzip ./cc.de.300.vec"
   ]
  },
  {
   "cell_type": "code",
   "execution_count": 53,
   "metadata": {
    "collapsed": true,
    "jupyter": {
     "outputs_hidden": true
    }
   },
   "outputs": [
    {
     "name": "stdout",
     "output_type": "stream",
     "text": [
      "['2000000', '300']\n",
      "[',', '-0.0354', '-0.0088', '-0.0180', '0.0160', '-0.0152', '0.0560', '0.0079', '0.0567', '-0.0614', '-0.1713', '0.0450', '-0.0251', '-0.1888', '-0.0495', '-0.0025', '-0.0287', '-0.1078', '-0.0978', '0.0220', '0.2466', '0.0199', '-0.0657', '-0.0058', '0.0561', '-0.1126', '0.0272', '-0.0957', '-0.0187', '-0.0424', '0.2044', '0.3801', '-0.0560', '-0.0257', '0.0537', '0.1034', '0.0380', '-0.0044', '-0.1712', '-0.0480', '0.1109', '-0.0271', '0.0272', '-0.0983', '0.0479', '0.0011', '-0.1056', '-0.0040', '0.0161', '-0.0501', '-0.1308', '-0.0694', '0.0367', '-0.0100', '-0.0618', '-0.0011', '-0.0166', '0.0058', '0.0276', '-0.0076', '-0.1025', '-0.0248', '0.0318', '-0.1475', '0.0365', '0.0396', '0.0253', '-0.0647', '-0.0085', '0.0012', '-0.0321', '-0.0545', '0.2657', '0.0860', '0.0243', '-0.0705', '-0.0145', '0.0237', '-0.0478', '-0.0031', '-0.0084', '0.0618', '-0.0030', '0.0060', '0.1196', '0.1298', '0.0500', '0.0181', '-0.0286', '-0.0655', '-0.0006', '0.1899', '-0.2675', '0.0189', '0.0274', '-0.0886', '-0.0716', '0.0348', '-0.2869', '-0.0287', '-0.0350', '0.0047', '-0.0182', '0.0868', '0.1080', '0.0842', '-0.1328', '0.0148', '-0.0586', '-0.0322', '-0.0326', '-0.0491', '-0.0112', '-0.0650', '0.0060', '-0.1827', '0.0720', '0.0571', '-0.0769', '0.0478', '-0.0087', '0.2527', '0.0112', '-0.0003', '0.0226', '0.0196', '-0.0313', '0.0401', '-0.0268', '-0.0404', '0.0393', '-0.0621', '0.1305', '-0.0126', '0.0768', '0.0251', '0.0495', '0.2509', '-0.2401', '0.0598', '0.0598', '0.0168', '-1.4784', '0.0797', '-0.0936', '0.0419', '0.0961', '-0.0930', '-0.0723', '-0.0206', '0.0514', '0.0337', '0.2034', '-0.0211', '0.0063', '-0.0493', '-0.0322', '0.0339', '-0.1839', '0.0375', '0.2527', '0.0133', '-0.0317', '0.0544', '0.0337', '0.0055', '0.1082', '0.0129', '0.0060', '0.1246', '0.0102', '0.0321', '-0.0204', '-0.0555', '0.0842', '-0.0364', '-0.0203', '0.0033', '-0.0592', '0.1161', '0.0302', '-0.0880', '-0.0089', '0.0241', '-0.0647', '-0.0738', '-0.2447', '-0.0563', '-0.0493', '-0.0403', '0.0310', '-0.0633', '-0.0592', '-0.0763', '-0.0319', '-0.0433', '-0.0263', '0.1970', '0.0658', '-0.0294', '-0.1093', '-0.0389', '-0.1006', '-0.0144', '-0.0381', '-0.0363', '0.0437', '0.0165', '0.0631', '0.0676', '0.1051', '0.0344', '0.0239', '0.0608', '0.1226', '0.0358', '0.0535', '-0.0295', '-0.0570', '0.0161', '0.0457', '0.0075', '0.0442', '-0.0038', '0.0378', '0.0409', '0.0052', '-0.0542', '0.0323', '0.0297', '0.0014', '0.1969', '0.0701', '-0.0134', '-0.0416', '0.1082', '0.0061', '0.0236', '0.0552', '-0.3050', '0.0180', '0.0734', '-0.0328', '0.4229', '-0.1109', '0.0459', '0.0135', '0.1276', '0.0025', '0.0621', '0.2011', '0.0811', '-0.0688', '0.2001', '-0.0067', '-0.0706', '0.0256', '0.0133', '0.0162', '0.0217', '-0.0717', '-0.0691', '-0.0270', '0.0982', '0.0005', '0.0262', '0.0499', '0.0591', '-0.0780', '0.2796', '0.1134', '0.0670', '0.0038', '0.1318', '0.0780', '-0.0176', '0.0297', '0.5797', '0.0077', '0.0837', '0.0966', '0.2333', '-0.0155', '0.3322', '-0.0258', '0.0062', '0.0377', '-0.0123', '0.0433', '0.0372', '-0.0361', '0.0181', '-0.0157', '-0.0535', '-0.0330', '0.1214', '-0.0217', '-0.0086', '-0.0606', '-0.1096', '0.0739']\n",
      "['.', '-0.0257', '0.0093', '-0.0562', '-0.0464', '-0.0113', '-0.0215', '-0.0403', '0.0917', '-0.0192', '-0.1132', '0.0313', '-0.0240', '-0.3250', '0.0260', '-0.0175', '0.0009', '-0.2245', '-0.0489', '-0.0176', '-0.1190', '0.0138', '-0.0558', '-0.0369', '0.0717', '-0.1730', '-0.0270', '-0.0865', '0.0107', '-0.0887', '0.0217', '-0.0038', '-0.0781', '-0.0086', '0.0035', '0.0213', '0.0338', '-0.0534', '-0.1024', '-0.7544', '-0.3169', '0.0230', '0.0272', '0.0958', '0.0102', '-0.0341', '-0.0685', '0.0366', '-0.0165', '0.0657', '0.1475', '-0.0129', '-0.0409', '0.0179', '-0.0316', '0.0229', '-0.0958', '-0.0198', '-0.0019', '0.0071', '-0.4372', '-0.0396', '0.0295', '-0.1341', '-0.0441', '-0.0068', '-0.0455', '-0.1462', '0.1193', '-0.0026', '0.0582', '-0.0465', '0.0199', '0.0637', '0.0126', '0.0060', '0.0226', '0.0135', '0.0074', '-0.0844', '0.0696', '0.0074', '-0.0103', '-0.1021', '-0.0708', '-0.1286', '-0.0377', '-0.0363', '-0.0546', '-0.0501', '0.0563', '0.2338', '-0.4164', '-0.0452', '0.0764', '-0.1293', '-0.1070', '0.0658', '-0.0873', '-0.0465', '-0.0393', '-0.0366', '0.0091', '-0.0158', '0.0835', '-0.1021', '-0.0724', '0.0454', '0.0513', '0.0417', '0.0304', '0.0049', '-0.0455', '0.0749', '0.0711', '-0.0359', '0.0809', '-0.0415', '-0.0937', '-0.0267', '0.0218', '0.2319', '-0.0086', '0.0136', '-0.0151', '0.0271', '-0.0365', '0.0266', '0.0749', '-0.1532', '0.0128', '0.1715', '0.0766', '-0.0169', '0.0391', '0.0005', '0.0693', '-0.2092', '-0.0123', '-0.1145', '-0.0106', '0.0465', '-1.3823', '0.0723', '0.0895', '-0.0413', '0.0059', '-0.0635', '-0.0118', '0.0596', '0.1098', '0.0203', '0.1045', '0.0392', '-0.0543', '-0.1200', '-0.2033', '-0.0168', '-0.2086', '-0.1041', '0.4930', '0.0397', '0.0195', '-0.0206', '-0.0888', '-0.0464', '0.1280', '0.0196', '0.0083', '0.4939', '-0.0528', '-0.0615', '-0.0409', '0.0299', '-0.0969', '0.0066', '0.1038', '0.0090', '0.0505', '0.2883', '-0.0016', '0.0102', '-0.0774', '0.0103', '-0.0217', '0.0471', '-0.2707', '-0.0705', '-0.0519', '-0.0887', '0.0412', '-0.0739', '-0.0503', '-0.1271', '0.0205', '-0.0047', '-0.1598', '-0.0000', '0.0525', '0.0224', '-0.0768', '-0.1202', '-0.0384', '-0.0381', '-0.0044', '-0.0040', '-0.0391', '-0.0163', '-0.0065', '-0.0112', '0.0487', '0.0324', '0.0030', '0.0445', '-0.0165', '-0.0974', '0.0131', '0.0438', '0.0260', '0.0575', '0.0363', '0.0438', '-0.0428', '-0.0165', '0.0527', '-0.1299', '-0.0243', '-0.0607', '0.0096', '0.0918', '-0.0870', '-0.0692', '-0.0493', '0.0291', '0.0029', '0.1926', '-0.0014', '0.0492', '0.0262', '-0.3673', '-0.0536', '-0.0036', '0.0294', '-0.0531', '-0.3508', '-0.0190', '-0.0384', '0.0522', '-0.0386', '0.0294', '-0.2429', '0.0783', '0.0010', '0.1199', '-0.0546', '-0.0119', '-0.0676', '0.0197', '0.0084', '0.0469', '-0.0121', '-0.0052', '-0.0197', '-0.0234', '-0.0779', '0.1184', '-0.0144', '0.0832', '0.0120', '-0.1504', '0.0874', '0.0453', '-0.0377', '0.0233', '0.0299', '0.0821', '0.0699', '0.7157', '-0.0120', '0.0859', '0.0811', '0.3156', '0.1684', '0.8140', '0.0021', '0.0095', '-0.0293', '0.0640', '-0.0707', '0.0342', '-0.0977', '0.0285', '-0.0730', '-0.0512', '-0.1066', '-0.0717', '-0.0040', '0.0471', '0.0404', '-0.0495', '-0.0133']\n",
      "['</s>', '-0.0668', '-0.2122', '-0.2325', '-0.0733', '0.0092', '0.1659', '-0.0287', '-0.0430', '-0.0489', '-0.2975', '-0.1703', '-0.0143', '-0.4966', '0.0629', '-0.1116', '-0.0609', '-0.3640', '-0.0955', '-0.0644', '-0.0719', '-0.0158', '0.0281', '-0.0888', '0.0510', '-0.1517', '0.0289', '0.0315', '-0.0045', '-0.1007', '-0.0566', '0.1944', '-0.0132', '0.0488', '-0.0265', '-0.0497', '0.0097', '0.0039', '-0.2686', '-0.5113', '0.0939', '0.0334', '-0.0322', '0.0519', '0.0114', '0.0277', '-0.0636', '0.0129', '-0.0246', '0.0806', '0.1738', '-0.0497', '-0.0915', '0.0298', '-0.0337', '0.0535', '-0.1553', '-0.0413', '-0.0089', '-0.0238', '-0.4373', '-0.1409', '-0.0419', '-0.0671', '-0.0906', '0.0468', '0.0535', '-1.0696', '0.1396', '0.0072', '0.0750', '-0.0413', '0.2151', '0.0442', '-0.1342', '-0.0082', '-0.0115', '0.0262', '-0.0856', '-0.0369', '0.0071', '0.0206', '-0.1053', '0.0473', '-0.5439', '-0.2100', '0.1156', '-0.0088', '0.0176', '-0.0134', '0.0639', '0.2344', '-0.4076', '-0.0289', '-0.0945', '-0.0745', '0.0164', '0.0912', '-0.0600', '-0.0491', '-0.0509', '-0.0072', '0.0577', '0.0684', '0.0563', '-0.1688', '-0.1378', '-0.0738', '-0.0909', '0.0659', '0.0296', '0.0474', '-0.0740', '0.0709', '0.0722', '-0.0286', '-0.0060', '-0.0316', '0.0340', '-0.0646', '-0.1665', '0.4629', '0.0552', '-0.0213', '-0.0102', '0.0845', '-0.0448', '0.1592', '0.0312', '-0.0132', '0.0942', '0.2342', '-0.1261', '0.0199', '0.0962', '-0.0029', '-0.0012', '-0.0601', '-0.3025', '0.0005', '0.0069', '-0.0129', '-1.8111', '-0.0798', '0.0100', '-0.0133', '0.0084', '0.0004', '-0.1082', '-0.0803', '-0.0353', '-0.0633', '0.0592', '0.0352', '-0.0078', '0.0293', '-0.2693', '0.0311', '-0.4148', '0.0241', '0.2427', '-0.0338', '0.0374', '-0.0272', '0.0106', '-0.0017', '0.3320', '0.0162', '0.0199', '0.2508', '0.0566', '0.0080', '0.0080', '0.0407', '-0.0000', '0.0353', '0.0935', '0.0561', '0.0470', '0.1876', '-0.0102', '-0.0808', '-0.0267', '0.1112', '-0.0668', '0.1999', '-0.5382', '-0.0029', '-0.0334', '-0.1221', '0.0212', '-0.0120', '0.0081', '-0.0384', '0.0110', '0.0441', '-0.2519', '-0.3734', '0.0614', '-0.0607', '-0.0390', '-0.1294', '0.0154', '0.0712', '0.0424', '0.0174', '0.0564', '-0.0385', '-0.0158', '0.1061', '0.0079', '-0.0390', '-0.0283', '-0.0290', '-0.0799', '-0.0614', '0.0762', '0.1376', '0.0208', '0.0004', '-0.0255', '0.0461', '-0.0532', '-0.0611', '0.0144', '-0.0920', '-0.0112', '-0.0950', '0.0526', '0.0473', '-0.0045', '0.1451', '0.0284', '-0.0103', '-0.0574', '0.1513', '0.0175', '0.0396', '0.0250', '-0.1961', '0.0211', '-0.0268', '0.0242', '0.0346', '-0.3371', '-0.0000', '-0.1163', '0.2738', '0.0671', '0.0520', '0.0197', '0.3653', '-0.0475', '0.3523', '0.0383', '-0.0371', '-0.0137', '-0.0370', '0.0329', '0.0416', '0.0804', '-0.0188', '0.0870', '-0.0256', '-0.0519', '-0.0084', '-0.0278', '0.0556', '0.0653', '-0.0218', '0.0723', '-0.0336', '-0.0297', '-0.8277', '-0.1405', '-0.0017', '0.2645', '1.1159', '0.0324', '0.1174', '0.1102', '0.4196', '0.1441', '0.8478', '-0.0395', '0.0131', '0.0380', '-0.0258', '-0.0238', '0.0156', '-0.0004', '-0.0747', '0.0584', '-0.0295', '0.0261', '-0.0026', '0.0090', '0.0132', '-0.1163', '0.1194', '0.0202']\n",
      "['und', '-0.0715', '0.0249', '0.0993', '0.0060', '-0.0224', '-0.1758', '0.0039', '-0.0076', '0.0220', '-0.0541', '0.0860', '-0.0187', '-0.0846', '-0.0407', '0.0035', '-0.0192', '0.0918', '-0.0448', '-0.0400', '0.0550', '-0.0000', '-0.0708', '-0.0106', '0.0640', '-0.0519', '-0.0115', '-0.1030', '-0.0153', '-0.0053', '-0.0965', '0.0331', '-0.0345', '-0.0223', '-0.0709', '-0.0174', '0.0016', '-0.0142', '-0.0135', '0.1382', '-0.1077', '0.0022', '-0.0242', '-0.0301', '-0.0198', '-0.0389', '0.0848', '0.0087', '0.0274', '0.0028', '-0.1183', '-0.0088', '0.0337', '0.0312', '0.0157', '-0.0889', '0.0660', '0.0046', '0.0257', '-0.0418', '-0.0889', '-0.0387', '0.0281', '-0.0497', '0.0687', '-0.0072', '-0.0496', '0.0884', '-0.1751', '0.0436', '-0.0693', '0.0707', '0.0473', '0.0078', '0.0269', '0.0074', '0.0065', '-0.0261', '-0.0289', '-0.0114', '-0.0269', '0.0136', '-0.0119', '0.0160', '0.1015', '0.0022', '0.0819', '-0.0392', '-0.0556', '-0.0522', '0.0272', '0.1321', '0.1205', '0.0026', '0.0352', '-0.0453', '0.0443', '-0.0218', '-0.0461', '0.0923', '0.0141', '-0.0143', '0.0161', '0.0000', '0.0088', '0.0358', '-0.0453', '0.0413', '0.0337', '-0.0259', '0.0027', '0.0154', '0.0029', '0.0105', '0.0214', '-0.0297', '-0.0941', '-0.0119', '0.0204', '0.0827', '-0.1459', '-0.1000', '0.0044', '0.0259', '-0.0308', '-0.0156', '0.0118', '-0.0998', '-0.0041', '-0.0634', '-0.0550', '0.0205', '0.1600', '0.0024', '-0.0493', '0.0429', '0.0333', '0.0423', '-0.1632', '0.0524', '-0.0395', '0.0689', '-0.7409', '0.0481', '-0.0107', '0.0198', '0.0016', '-0.0289', '0.0619', '0.0150', '0.0938', '0.0233', '0.0592', '-0.0028', '-0.0997', '-0.0345', '0.0921', '-0.0423', '-0.0116', '-0.0373', '0.0381', '0.0131', '-0.0051', '-0.0159', '0.0048', '-0.0011', '0.0171', '0.0302', '0.0261', '-0.0416', '-0.0528', '-0.0173', '-0.0154', '0.0297', '-0.0318', '-0.0149', '0.0811', '0.0228', '0.0374', '0.0421', '-0.0172', '0.0205', '0.0303', '-0.0336', '-0.1165', '-0.0138', '0.0083', '0.0087', '0.0243', '0.0204', '0.0296', '-0.0343', '0.0422', '0.0064', '-0.0133', '-0.0246', '0.1057', '0.0739', '0.0570', '-0.0068', '0.0833', '0.0663', '0.0321', '-0.0394', '-0.0114', '-0.0264', '-0.0467', '0.0258', '0.0261', '-0.0519', '0.0054', '0.0150', '-0.0107', '0.0189', '0.0668', '-0.1150', '-0.0354', '-0.0396', '-0.0044', '0.0403', '-0.0301', '-0.0185', '-0.0019', '0.0057', '0.0089', '0.0540', '0.0123', '0.0273', '-0.0040', '0.0103', '-0.0226', '0.1346', '-0.0219', '-0.0234', '0.0155', '0.0674', '-0.0314', '-0.0194', '0.0139', '0.0425', '-0.0221', '0.0434', '0.0144', '0.0398', '-0.0533', '-0.0263', '0.0481', '-0.0129', '-0.0861', '-0.0162', '-0.0816', '0.0489', '0.0170', '-0.0317', '-0.0003', '0.0207', '0.0041', '-0.0982', '-0.0376', '-0.0408', '-0.0445', '0.0520', '-0.0007', '-0.0265', '0.0039', '-0.0042', '0.0029', '0.0192', '-0.0222', '0.1393', '0.0165', '0.0106', '-0.0413', '-0.2357', '0.0515', '0.0114', '-0.0679', '0.1245', '0.0395', '-0.1555', '-0.1216', '-0.0460', '-0.1452', '0.0507', '0.0145', '-0.0506', '0.0130', '0.0161', '-0.0820', '-0.0077', '-0.0035', '0.0191', '-0.0097', '-0.0342', '-0.0630', '0.1677', '-0.0496', '0.0199', '-0.0050', '0.0839', '-0.0595']\n",
      "['der', '0.0159', '0.0473', '0.1034', '0.0016', '0.0154', '0.3112', '-0.0258', '0.0002', '0.0087', '-0.1292', '0.0798', '-0.0009', '-0.1121', '-0.0276', '-0.0069', '-0.0009', '0.0887', '-0.0265', '-0.0015', '-0.1117', '-0.0010', '-0.0110', '-0.0098', '0.0381', '-0.0681', '-0.0184', '-0.0364', '-0.0150', '0.0005', '-0.0499', '-0.3041', '-0.0093', '-0.0279', '-0.0485', '-0.0252', '0.0031', '0.0072', '0.0782', '0.2211', '0.0167', '0.0180', '-0.0102', '0.0140', '-0.0408', '0.0024', '0.0420', '0.0242', '0.0001', '0.0011', '-0.2914', '0.0150', '-0.0485', '0.0509', '-0.0075', '-0.0418', '0.0745', '0.0025', '0.0131', '-0.0190', '0.1075', '-0.0413', '-0.0267', '-0.0562', '0.0214', '-0.0018', '-0.0184', '0.1344', '-0.0644', '0.0428', '0.0080', '0.0367', '0.0154', '-0.0137', '0.0847', '0.0142', '0.0023', '0.0057', '-0.0061', '-0.0475', '0.0316', '-0.0124', '-0.0243', '-0.0300', '0.1056', '-0.0801', '-0.1031', '-0.0342', '-0.0335', '0.0103', '0.0286', '0.3241', '0.1974', '-0.0646', '0.0508', '-0.0406', '0.0100', '0.0155', '0.0692', '0.4002', '0.0535', '0.0248', '0.0071', '-0.0047', '0.0308', '-0.0644', '0.0269', '0.0615', '0.0487', '-0.0218', '0.0331', '-0.0334', '0.0165', '0.0177', '-0.0321', '-0.0071', '0.0317', '-0.0014', '-0.0418', '0.0166', '-0.1210', '-0.0447', '0.0264', '-0.0144', '-0.0404', '-0.0315', '-0.0369', '-0.0145', '-0.0051', '-0.0199', '-0.0584', '-0.0038', '0.0474', '-0.0524', '0.0004', '-0.0024', '0.0488', '0.1671', '0.0934', '0.1182', '-0.0163', '-0.0072', '-0.5129', '-0.0165', '-0.0153', '0.0285', '-0.0175', '-0.0191', '0.0011', '0.0027', '0.0411', '0.0033', '0.1279', '-0.0050', '-0.1996', '-0.0071', '-0.0239', '-0.0528', '0.0061', '-0.0433', '-0.2084', '0.0366', '-0.0147', '-0.0283', '-0.0894', '-0.0145', '-0.0026', '0.0271', '-0.0202', '0.1543', '-0.0428', '0.0071', '-0.0173', '-0.0103', '-0.0345', '0.0157', '0.2463', '-0.0355', '-0.0106', '0.0605', '0.0193', '0.0562', '-0.0232', '-0.0046', '-0.0225', '-0.2013', '-0.0430', '0.0376', '0.0493', '0.0556', '0.0238', '-0.0131', '0.0310', '0.0226', '-0.0019', '0.0023', '-0.2142', '0.1395', '0.0552', '0.0113', '0.0463', '-0.0626', '0.0113', '0.0022', '0.0180', '0.0198', '-0.0029', '0.0417', '-0.0445', '-0.0179', '-0.0145', '0.0257', '-0.0030', '-0.0260', '0.0675', '0.0891', '-0.0184', '-0.1191', '0.0153', '0.0141', '-0.0123', '0.0193', '-0.0058', '0.0003', '-0.0046', '0.0519', '0.0082', '0.0254', '0.0420', '-0.0124', '-0.0225', '-0.0028', '0.0162', '-0.0037', '-0.0702', '0.0803', '0.0517', '-0.0192', '-0.0133', '0.5750', '-0.0044', '0.0518', '0.0110', '0.1352', '-0.1302', '-0.0261', '-0.0083', '-0.1054', '-0.0215', '-0.0449', '-0.0638', '-0.0032', '0.0321', '0.0369', '-0.0336', '0.0197', '-0.0320', '0.0124', '-0.0483', '0.0051', '0.0180', '-0.0127', '0.0190', '-0.0355', '-0.0140', '0.0769', '-0.0324', '0.1669', '-0.0076', '-0.0594', '-0.0866', '0.0059', '-0.0353', '-0.2671', '0.0561', '0.0256', '-0.0129', '0.1679', '-0.0036', '0.0740', '0.1227', '-0.1483', '0.0584', '-0.1894', '0.0304', '-0.0044', '-0.0149', '0.0266', '-0.0307', '0.0149', '0.0428', '-0.0233', '0.0109', '-0.0064', '-0.0161', '0.0467', '-0.0060', '0.0174', '0.0465', '0.0605', '-0.0628']\n",
      "[':', '-0.0392', '-0.1829', '-0.2038', '-0.0265', '0.0237', '0.1201', '0.0804', '-0.0434', '0.0759', '-0.1896', '-0.2453', '0.0792', '-0.2060', '0.0469', '-0.1609', '0.0191', '-0.0249', '0.0119', '-0.0246', '0.0350', '0.0230', '0.1952', '0.0631', '-0.0504', '-0.0399', '-0.0024', '-0.1692', '-0.0068', '-0.0316', '-0.0392', '0.2713', '0.0044', '0.0460', '-0.2637', '0.0636', '-0.0874', '-0.0409', '-0.1328', '-0.2966', '-0.1664', '0.0006', '-0.0571', '0.1406', '-0.0749', '-0.0347', '-0.2824', '0.0362', '-0.0799', '0.0761', '0.4295', '0.0482', '0.0083', '-0.1066', '-0.0011', '0.0635', '0.0363', '0.0230', '-0.0516', '0.0007', '-0.0386', '-0.0399', '-0.0598', '0.0739', '-0.0340', '0.0691', '0.0727', '0.1525', '-0.0140', '0.0504', '-0.1557', '0.0255', '0.1518', '0.0334', '-0.1257', '0.0089', '0.0361', '0.0708', '-0.0584', '0.0202', '-0.0114', '-0.0990', '-0.0050', '0.0066', '0.0557', '0.0136', '-0.2243', '0.0709', '0.0423', '0.0134', '-0.0123', '0.1629', '-0.3332', '0.0456', '-0.1799', '-0.0129', '0.0164', '-0.0408', '0.1752', '-0.1816', '0.1145', '0.0559', '0.0023', '0.0302', '-0.1041', '-0.3685', '-0.1460', '-0.0514', '-0.1424', '-0.0116', '-0.0862', '-0.0844', '0.0192', '-0.0049', '0.0133', '-0.0073', '0.1201', '0.0009', '-0.0852', '-0.0701', '0.2862', '0.0963', '0.1168', '-0.0282', '0.0837', '0.0855', '0.0227', '0.0645', '0.0537', '0.0017', '0.0274', '-0.0815', '0.1784', '0.1620', '0.1899', '0.0751', '-0.0721', '-0.1824', '0.0914', '-0.0542', '0.0820', '-0.1589', '-1.3505', '-0.0140', '0.0778', '-0.0803', '0.0488', '0.0170', '0.0763', '-0.0642', '-0.1175', '-0.0208', '0.1231', '-0.0523', '0.1940', '0.0277', '-0.1668', '-0.0053', '-0.2197', '0.0832', '0.2361', '-0.0523', '0.0253', '0.0765', '0.0372', '-0.1332', '0.1987', '0.0035', '0.0431', '-0.0830', '-0.0364', '0.0782', '-0.0571', '-0.0262', '-0.0222', '0.0982', '0.0147', '0.1138', '0.0833', '-0.1367', '0.0146', '0.0070', '-0.0487', '0.2477', '-0.1159', '0.0167', '-0.2781', '0.2763', '-0.0323', '-0.0792', '-0.0098', '-0.0536', '-0.1192', '0.0509', '0.0690', '-0.0022', '-0.1827', '0.1290', '0.0458', '0.0786', '-0.0436', '-0.2332', '-0.0099', '0.0030', '-0.0568', '0.0428', '-0.0666', '-0.0966', '-0.0252', '0.1099', '0.0573', '0.0705', '0.0482', '0.0333', '-0.1509', '-0.1470', '0.1688', '0.1024', '0.0055', '0.0196', '-0.0846', '-0.0429', '0.1023', '0.0248', '0.0417', '-0.0790', '-0.0587', '-0.0850', '0.0366', '0.0562', '0.0144', '0.0683', '-0.0243', '-0.0854', '-0.0442', '-0.1732', '-0.0428', '0.0560', '0.0482', '-0.0220', '0.0124', '-0.0745', '0.0203', '0.1661', '-0.1582', '0.0109', '-0.0099', '0.1410', '-0.0193', '0.0189', '-0.3169', '0.1490', '-0.0186', '-0.2045', '-0.0160', '-0.0385', '0.0137', '0.0020', '0.0606', '0.0770', '0.0388', '-0.0567', '-0.0341', '-0.0775', '-0.0102', '0.0586', '-0.0698', '0.0146', '-0.0623', '-0.1224', '0.3707', '-0.0070', '0.0517', '-0.0544', '-0.0722', '-0.1020', '0.2640', '0.6759', '-0.0312', '-0.0816', '0.3125', '0.4243', '-0.2102', '0.2546', '0.0409', '0.0705', '0.0003', '-0.0213', '-0.3155', '0.1156', '0.0275', '-0.0743', '-0.0307', '-0.0281', '0.0546', '-0.1684', '-0.0313', '0.0268', '-0.1611', '-0.1354', '0.0988']\n"
     ]
    }
   ],
   "source": [
    "with gzip.open('./cc.de.300.vec.gz', 'rb') as fh:\n",
    "    for i, line in enumerate(fh):\n",
    "        print(line.decode('utf8').split())\n",
    "        if i > 5: break"
   ]
  },
  {
   "cell_type": "code",
   "execution_count": 58,
   "metadata": {},
   "outputs": [],
   "source": [
    "import gzip\n",
    "with gzip.open('./cc.de.300.vec.SMALL.gz', 'wb') as fh:\n",
    "    fh.write(f'{len(active_vocab)} {300}\\n'.encode('utf8'))\n",
    "    for w in list(active_vocab):\n",
    "        vec = ft_vec[w]\n",
    "        vec_str = ' '.join(f'{itm:.4f}' for itm in vec)\n",
    "        fh.write(f'{w} {vec_str}\\n'.encode('utf8'))"
   ]
  },
  {
   "cell_type": "code",
   "execution_count": null,
   "metadata": {},
   "outputs": [],
   "source": [
    "!gzip -c ./cc.de.300.vec.SMALL"
   ]
  },
  {
   "cell_type": "code",
   "execution_count": 20,
   "metadata": {},
   "outputs": [],
   "source": [
    "word2idx = {w: idx for idx, w in enumerate(ft_vec.index2word)}\n",
    "vectors = ft_vec.vectors"
   ]
  },
  {
   "cell_type": "code",
   "execution_count": 24,
   "metadata": {},
   "outputs": [],
   "source": [
    "import numpy as np\n",
    "\n",
    "active_vocab = list(active_vocab)\n",
    "active_vectors = np.asarray([ft_vec[v] for v in active_vocab])"
   ]
  },
  {
   "cell_type": "code",
   "execution_count": 25,
   "metadata": {},
   "outputs": [],
   "source": [
    "active_vectors.shape\n",
    "index2word = active_vocab"
   ]
  },
  {
   "cell_type": "code",
   "execution_count": 28,
   "metadata": {},
   "outputs": [],
   "source": [
    "ft_vec.vectors = active_vectors\n",
    "ft_vec.index2word = active_vocab\n",
    "ft_vec.index2entity = active_vocab"
   ]
  },
  {
   "cell_type": "code",
   "execution_count": 33,
   "metadata": {},
   "outputs": [
    {
     "name": "stderr",
     "output_type": "stream",
     "text": [
      "/Users/mattilyra/.local/share/virtualenvs/pydatanyc_2019-b2AkOBOU/lib/python3.7/site-packages/ipykernel_launcher.py:1: DeprecationWarning: Call to deprecated `wv` (Attribute will be removed in 4.0.0, use self instead).\n",
      "  \"\"\"Entry point for launching an IPython kernel.\n"
     ]
    },
    {
     "data": {
      "text/plain": [
       "<gensim.models.keyedvectors.Word2VecKeyedVectors at 0x144049410>"
      ]
     },
     "execution_count": 33,
     "metadata": {},
     "output_type": "execute_result"
    }
   ],
   "source": [
    "ft_vec.wv"
   ]
  },
  {
   "cell_type": "code",
   "execution_count": 29,
   "metadata": {},
   "outputs": [
    {
     "data": {
      "text/plain": [
       "[('braunem', 0.698927640914917),\n",
       " ('weißem', 0.6904536485671997),\n",
       " ('bemaltem', 0.6705213785171509),\n",
       " ('gefärbtes', 0.6649290323257446),\n",
       " ('schwarzem', 0.6638764142990112),\n",
       " ('hergestelltem', 0.6627174615859985),\n",
       " ('milchigem', 0.6624775528907776),\n",
       " ('gefärbten', 0.6580451130867004),\n",
       " ('angereichertem', 0.6528030633926392),\n",
       " ('rotem', 0.6521549224853516)]"
      ]
     },
     "execution_count": 29,
     "metadata": {},
     "output_type": "execute_result"
    }
   ],
   "source": [
    "ft_vec.most_similar('Berlin')"
   ]
  },
  {
   "cell_type": "markdown",
   "metadata": {},
   "source": [
    "---\n",
    "\n",
    "# Load some data (20 newsgroups) and turn it into something that can be fed into a network."
   ]
  },
  {
   "cell_type": "code",
   "execution_count": null,
   "metadata": {},
   "outputs": [],
   "source": [
    "from sklearn.datasets import fetch_20newsgroups\n",
    "\n",
    "news_train = fetch_20newsgroups(subset='train', data_home='./data', remove=('headers', 'footers', 'quotes'))"
   ]
  },
  {
   "cell_type": "code",
   "execution_count": null,
   "metadata": {},
   "outputs": [],
   "source": [
    "news.keys()"
   ]
  },
  {
   "cell_type": "code",
   "execution_count": 19,
   "metadata": {},
   "outputs": [
    {
     "data": {
      "text/plain": [
       "(['alt.atheism', 'comp.graphics', 'comp.os.ms-windows.misc'], array([7, 4, 4]))"
      ]
     },
     "execution_count": 19,
     "metadata": {},
     "output_type": "execute_result"
    }
   ],
   "source": [
    "news['target_names'][:3], news['target'][:3]"
   ]
  },
  {
   "cell_type": "markdown",
   "metadata": {},
   "source": [
    "Create an index for fords"
   ]
  },
  {
   "cell_type": "code",
   "execution_count": 18,
   "metadata": {},
   "outputs": [
    {
     "ename": "NameError",
     "evalue": "name 'model' is not defined",
     "output_type": "error",
     "traceback": [
      "\u001b[0;31m---------------------------------------------------------------------------\u001b[0m",
      "\u001b[0;31mNameError\u001b[0m                                 Traceback (most recent call last)",
      "\u001b[0;32m<ipython-input-18-f9003cc24ff1>\u001b[0m in \u001b[0;36m<module>\u001b[0;34m\u001b[0m\n\u001b[0;32m----> 1\u001b[0;31m \u001b[0mword2idx\u001b[0m \u001b[0;34m=\u001b[0m \u001b[0mdict\u001b[0m\u001b[0;34m(\u001b[0m\u001b[0;34m(\u001b[0m\u001b[0mw\u001b[0m\u001b[0;34m,\u001b[0m \u001b[0midx\u001b[0m\u001b[0;34m)\u001b[0m \u001b[0;32mfor\u001b[0m \u001b[0;34m(\u001b[0m\u001b[0midx\u001b[0m\u001b[0;34m,\u001b[0m \u001b[0mw\u001b[0m\u001b[0;34m)\u001b[0m \u001b[0;32min\u001b[0m \u001b[0menumerate\u001b[0m\u001b[0;34m(\u001b[0m\u001b[0mmodel\u001b[0m\u001b[0;34m.\u001b[0m\u001b[0mindex2word\u001b[0m\u001b[0;34m)\u001b[0m\u001b[0;34m)\u001b[0m\u001b[0;34m\u001b[0m\u001b[0;34m\u001b[0m\u001b[0m\n\u001b[0m",
      "\u001b[0;31mNameError\u001b[0m: name 'model' is not defined"
     ]
    }
   ],
   "source": [
    "word2idx = dict((w, idx) for (idx, w) in enumerate(model.index2word))"
   ]
  },
  {
   "cell_type": "code",
   "execution_count": 57,
   "metadata": {},
   "outputs": [
    {
     "data": {
      "text/plain": [
       "2918"
      ]
     },
     "execution_count": 57,
     "metadata": {},
     "output_type": "execute_result"
    }
   ],
   "source": [
    "word2idx['Berlin']"
   ]
  },
  {
   "cell_type": "code",
   "execution_count": 63,
   "metadata": {},
   "outputs": [
    {
     "data": {
      "text/html": [
       "<div>\n",
       "<style scoped>\n",
       "    .dataframe tbody tr th:only-of-type {\n",
       "        vertical-align: middle;\n",
       "    }\n",
       "\n",
       "    .dataframe tbody tr th {\n",
       "        vertical-align: top;\n",
       "    }\n",
       "\n",
       "    .dataframe thead th {\n",
       "        text-align: right;\n",
       "    }\n",
       "</style>\n",
       "<table border=\"1\" class=\"dataframe\">\n",
       "  <thead>\n",
       "    <tr style=\"text-align: right;\">\n",
       "      <th></th>\n",
       "      <th>word</th>\n",
       "      <th>vector</th>\n",
       "    </tr>\n",
       "    <tr>\n",
       "      <th>idx</th>\n",
       "      <th></th>\n",
       "      <th></th>\n",
       "    </tr>\n",
       "  </thead>\n",
       "  <tbody>\n",
       "    <tr>\n",
       "      <td>0</td>\n",
       "      <td>,</td>\n",
       "      <td>[0.1073, 0.0089, 0.0006, 0.0055, -0.0646, -0.0...</td>\n",
       "    </tr>\n",
       "    <tr>\n",
       "      <td>1</td>\n",
       "      <td>to</td>\n",
       "      <td>[0.0495, 0.0411, 0.0041, 0.0309, -0.0044, -0.1...</td>\n",
       "    </tr>\n",
       "    <tr>\n",
       "      <td>2</td>\n",
       "      <td>)</td>\n",
       "      <td>[-0.0675, 0.0383, -0.0183, 0.0028, -0.0074, -0...</td>\n",
       "    </tr>\n",
       "    <tr>\n",
       "      <td>3</td>\n",
       "      <td>on</td>\n",
       "      <td>[0.0206, 0.0231, -0.0574, 0.0388, -0.1158, -0....</td>\n",
       "    </tr>\n",
       "    <tr>\n",
       "      <td>4</td>\n",
       "      <td>The</td>\n",
       "      <td>[0.0797, -0.0294, 0.0033, 0.0458, 0.0174, -0.0...</td>\n",
       "    </tr>\n",
       "    <tr>\n",
       "      <td>5</td>\n",
       "      <td>by</td>\n",
       "      <td>[0.0242, -0.0265, 0.0822, -0.0322, 0.0042, -0....</td>\n",
       "    </tr>\n",
       "    <tr>\n",
       "      <td>6</td>\n",
       "      <td>you</td>\n",
       "      <td>[-0.1202, 0.07, 0.103, 0.0568, 0.1457, -0.1787...</td>\n",
       "    </tr>\n",
       "    <tr>\n",
       "      <td>7</td>\n",
       "      <td>-</td>\n",
       "      <td>[-0.0092, -0.0478, -0.038, 0.0125, 0.0175, -0....</td>\n",
       "    </tr>\n",
       "    <tr>\n",
       "      <td>8</td>\n",
       "      <td>;</td>\n",
       "      <td>[0.125, -0.0241, -0.0904, 0.0432, 0.1913, -0.0...</td>\n",
       "    </tr>\n",
       "    <tr>\n",
       "      <td>9</td>\n",
       "      <td>their</td>\n",
       "      <td>[0.0145, -0.0674, -0.0034, 0.0964, -0.0182, 0....</td>\n",
       "    </tr>\n",
       "    <tr>\n",
       "      <td>10</td>\n",
       "      <td>said</td>\n",
       "      <td>[0.0552, -0.0181, -0.0561, 0.0086, -0.0203, -0...</td>\n",
       "    </tr>\n",
       "    <tr>\n",
       "      <td>11</td>\n",
       "      <td>will</td>\n",
       "      <td>[-0.0368, 0.0231, -0.1271, -0.1208, -0.033, -0...</td>\n",
       "    </tr>\n",
       "    <tr>\n",
       "      <td>12</td>\n",
       "      <td>also</td>\n",
       "      <td>[-0.0764, 0.0451, -0.0883, 0.0223, -0.2671, 0....</td>\n",
       "    </tr>\n",
       "    <tr>\n",
       "      <td>13</td>\n",
       "      <td>people</td>\n",
       "      <td>[0.0104, 0.1101, -0.0982, -0.0106, -0.0696, 0....</td>\n",
       "    </tr>\n",
       "    <tr>\n",
       "      <td>14</td>\n",
       "      <td>they</td>\n",
       "      <td>[0.0793, 0.0045, 0.0034, 0.0801, -0.0688, -0.1...</td>\n",
       "    </tr>\n",
       "    <tr>\n",
       "      <td>15</td>\n",
       "      <td>#</td>\n",
       "      <td>[-0.0133, 0.0093, -0.023, 0.0666, 0.0421, 0.16...</td>\n",
       "    </tr>\n",
       "  </tbody>\n",
       "</table>\n",
       "</div>"
      ],
      "text/plain": [
       "       word                                             vector\n",
       "idx                                                           \n",
       "0         ,  [0.1073, 0.0089, 0.0006, 0.0055, -0.0646, -0.0...\n",
       "1        to  [0.0495, 0.0411, 0.0041, 0.0309, -0.0044, -0.1...\n",
       "2         )  [-0.0675, 0.0383, -0.0183, 0.0028, -0.0074, -0...\n",
       "3        on  [0.0206, 0.0231, -0.0574, 0.0388, -0.1158, -0....\n",
       "4       The  [0.0797, -0.0294, 0.0033, 0.0458, 0.0174, -0.0...\n",
       "5        by  [0.0242, -0.0265, 0.0822, -0.0322, 0.0042, -0....\n",
       "6       you  [-0.1202, 0.07, 0.103, 0.0568, 0.1457, -0.1787...\n",
       "7         -  [-0.0092, -0.0478, -0.038, 0.0125, 0.0175, -0....\n",
       "8         ;  [0.125, -0.0241, -0.0904, 0.0432, 0.1913, -0.0...\n",
       "9     their  [0.0145, -0.0674, -0.0034, 0.0964, -0.0182, 0....\n",
       "10     said  [0.0552, -0.0181, -0.0561, 0.0086, -0.0203, -0...\n",
       "11     will  [-0.0368, 0.0231, -0.1271, -0.1208, -0.033, -0...\n",
       "12     also  [-0.0764, 0.0451, -0.0883, 0.0223, -0.2671, 0....\n",
       "13   people  [0.0104, 0.1101, -0.0982, -0.0106, -0.0696, 0....\n",
       "14     they  [0.0793, 0.0045, 0.0034, 0.0801, -0.0688, -0.1...\n",
       "15        #  [-0.0133, 0.0093, -0.023, 0.0666, 0.0421, 0.16..."
      ]
     },
     "execution_count": 63,
     "metadata": {},
     "output_type": "execute_result"
    }
   ],
   "source": [
    "import pandas as pd\n",
    "\n",
    "pd.DataFrame([(idx, word, ft_vec[word])\n",
    "              for idx, word in enumerate(ft_vec.index2word[:80:5])],\n",
    "             columns=['idx', 'word', 'vector']).set_index('idx')"
   ]
  },
  {
   "cell_type": "markdown",
   "metadata": {},
   "source": [
    "we set the vector for out-of-vocabulary words to the mean of all other vectors"
   ]
  },
  {
   "cell_type": "code",
   "execution_count": 50,
   "metadata": {},
   "outputs": [],
   "source": [
    "UNK_vector = model.vectors.mean(axis=0)"
   ]
  },
  {
   "cell_type": "markdown",
   "metadata": {},
   "source": [
    "---"
   ]
  },
  {
   "cell_type": "markdown",
   "metadata": {},
   "source": [
    "# Extend the feed forward network from before by adding an embedding layer\n",
    "\n",
    "The embedding layer is just a lookup table that maps a word index to a vector. The embeddings can be pre-trained embeddings, like fastText or word2vec or glove, or you can learn them from scratch."
   ]
  },
  {
   "cell_type": "code",
   "execution_count": 2,
   "metadata": {},
   "outputs": [],
   "source": [
    "from torch import nn\n",
    "\n",
    "\n",
    "class FeedForwardWithEmbeddings(nn.Module):\n",
    "    def __init__(self, layers, pretrained_embeddings=None,\n",
    "                 num_embeddings=None, embedding_dim=50,\n",
    "                 *args, **kwargs):\n",
    "        super().__init__(*args, **kwargs)\n",
    "        \n",
    "        if pretrained_embeddings:\n",
    "            self.embedding = nn.Embedding.from_pretrained(pretrained_embeddings)\n",
    "            self.embedding_dim = embedding.size(1)\n",
    "            self.num_embeddings = embedding.size(0)\n",
    "        elif num_embeddings is not None and num_embeddings > 0 and embedding_dim > 0:\n",
    "            self.embedding = nn.Embedding(num_embeddings, embedding_dim)\n",
    "        else:\n",
    "            raise Exception('You must either define pretrained embeddings or both the number and dimensionality of embeddings.')\n",
    "       \n",
    "        \n",
    "        # create feed forward layers\n",
    "        self.layers = nn.ModuleList([nn.Linear(in_features=in_features, out_features=out_features)\n",
    "                                     for (in_features, out_features) in layers])\n",
    "        \n",
    "        # TODO: initialise weights\n",
    "        \n",
    "        # create activation functions for each layer\n",
    "        self.activation = torch.nn.Sigmoid()\n",
    "\n",
    "    def forward(self, X, labels=None):\n",
    "        output = None\n",
    "        X = self.embedding(X)\n",
    "        for i_layer, layer in enumerate(self.layers):\n",
    "            if output is None:\n",
    "                output = self.activation(layer(X))\n",
    "            else:\n",
    "                output = self.activation(layer(output))\n",
    "        # do softmax\n",
    "        prob = F.log_softmax(output, dim=1).exp()\n",
    "        return prob "
   ]
  },
  {
   "cell_type": "code",
   "execution_count": 64,
   "metadata": {},
   "outputs": [
    {
     "ename": "NameError",
     "evalue": "name 'news' is not defined",
     "output_type": "error",
     "traceback": [
      "\u001b[0;31m---------------------------------------------------------------------------\u001b[0m",
      "\u001b[0;31mNameError\u001b[0m                                 Traceback (most recent call last)",
      "\u001b[0;32m<ipython-input-64-00e737533b92>\u001b[0m in \u001b[0;36m<module>\u001b[0;34m\u001b[0m\n\u001b[1;32m     10\u001b[0m     \u001b[0;32mreturn\u001b[0m \u001b[0mnews\u001b[0m\u001b[0;34m[\u001b[0m\u001b[0;34m'target_names'\u001b[0m\u001b[0;34m]\u001b[0m\u001b[0;34m[\u001b[0m\u001b[0mlabel_idx\u001b[0m\u001b[0;34m]\u001b[0m\u001b[0;34m.\u001b[0m\u001b[0msplit\u001b[0m\u001b[0;34m(\u001b[0m\u001b[0;34m'.'\u001b[0m\u001b[0;34m)\u001b[0m\u001b[0;34m[\u001b[0m\u001b[0;36m0\u001b[0m\u001b[0;34m]\u001b[0m\u001b[0;34m\u001b[0m\u001b[0;34m\u001b[0m\u001b[0m\n\u001b[1;32m     11\u001b[0m \u001b[0;34m\u001b[0m\u001b[0m\n\u001b[0;32m---> 12\u001b[0;31m \u001b[0mX\u001b[0m\u001b[0;34m,\u001b[0m \u001b[0my\u001b[0m \u001b[0;34m=\u001b[0m \u001b[0mzip\u001b[0m\u001b[0;34m(\u001b[0m\u001b[0;34m*\u001b[0m\u001b[0;34m[\u001b[0m\u001b[0;34m(\u001b[0m\u001b[0mtokenize\u001b[0m\u001b[0;34m(\u001b[0m\u001b[0mx\u001b[0m\u001b[0;34m)\u001b[0m\u001b[0;34m,\u001b[0m \u001b[0mmap_label\u001b[0m\u001b[0;34m(\u001b[0m\u001b[0my_idx\u001b[0m\u001b[0;34m)\u001b[0m\u001b[0;34m)\u001b[0m \u001b[0;32mfor\u001b[0m \u001b[0mx\u001b[0m\u001b[0;34m,\u001b[0m \u001b[0my_idx\u001b[0m \u001b[0;32min\u001b[0m \u001b[0mzip\u001b[0m\u001b[0;34m(\u001b[0m\u001b[0mnews\u001b[0m\u001b[0;34m[\u001b[0m\u001b[0;34m'data'\u001b[0m\u001b[0;34m]\u001b[0m\u001b[0;34m,\u001b[0m \u001b[0mnews\u001b[0m\u001b[0;34m[\u001b[0m\u001b[0;34m'target'\u001b[0m\u001b[0;34m]\u001b[0m\u001b[0;34m)\u001b[0m\u001b[0;34m]\u001b[0m\u001b[0;34m)\u001b[0m\u001b[0;34m\u001b[0m\u001b[0;34m\u001b[0m\u001b[0m\n\u001b[0m\u001b[1;32m     13\u001b[0m \u001b[0mlabel_map\u001b[0m \u001b[0;34m=\u001b[0m \u001b[0;34m{\u001b[0m\u001b[0mlabel\u001b[0m\u001b[0;34m:\u001b[0m \u001b[0midx\u001b[0m \u001b[0;32mfor\u001b[0m \u001b[0midx\u001b[0m\u001b[0;34m,\u001b[0m \u001b[0mlabel\u001b[0m \u001b[0;32min\u001b[0m \u001b[0menumerate\u001b[0m\u001b[0;34m(\u001b[0m\u001b[0mset\u001b[0m\u001b[0;34m(\u001b[0m\u001b[0my\u001b[0m\u001b[0;34m)\u001b[0m\u001b[0;34m)\u001b[0m\u001b[0;34m}\u001b[0m\u001b[0;34m\u001b[0m\u001b[0;34m\u001b[0m\u001b[0m\n\u001b[1;32m     14\u001b[0m \u001b[0my\u001b[0m \u001b[0;34m=\u001b[0m \u001b[0;34m[\u001b[0m\u001b[0mlabel_map\u001b[0m\u001b[0;34m[\u001b[0m\u001b[0my_\u001b[0m\u001b[0;34m]\u001b[0m \u001b[0;32mfor\u001b[0m \u001b[0my_\u001b[0m \u001b[0;32min\u001b[0m \u001b[0my\u001b[0m\u001b[0;34m]\u001b[0m\u001b[0;34m\u001b[0m\u001b[0;34m\u001b[0m\u001b[0m\n",
      "\u001b[0;31mNameError\u001b[0m: name 'news' is not defined"
     ]
    }
   ],
   "source": [
    "def tokenize(msg):\n",
    "    tokens = re.findall('\\w+', msg)\n",
    "    vectors = [word2idx[t] if t in ft_vec else unk_vector\n",
    "               for t in tokens][:100]\n",
    "    if len(vectors) < 100:\n",
    "        vectors += [unk_vector] * (100 - len(vectors))\n",
    "    return vectors\n",
    "\n",
    "def map_label(label_idx):\n",
    "    return news['target_names'][label_idx].split('.')[0]\n",
    "\n",
    "X, y = zip(*[(tokenize(x), map_label(y_idx)) for x, y_idx in zip(news['data'], news['target'])])\n",
    "label_map = {label: idx for idx, label in enumerate(set(y))}\n",
    "y = [label_map[y_] for y_ in y]"
   ]
  },
  {
   "cell_type": "markdown",
   "metadata": {},
   "source": [
    "__Note__: The precomputed fast text word embeddings contain a lot more entries than those in the 20 newsgroups data set. For practical purposes one _could_ leave only those words that are contained in the training data. This, however, comes at the cost of potentially losing information for future unseen words that _are_ in the pretrained fast text embeddings."
   ]
  },
  {
   "cell_type": "code",
   "execution_count": 67,
   "metadata": {},
   "outputs": [
    {
     "data": {
      "text/plain": [
       "{0, 1, 2, 3, 4, 5, 6}"
      ]
     },
     "execution_count": 67,
     "metadata": {},
     "output_type": "execute_result"
    }
   ],
   "source": [
    "set(y)"
   ]
  },
  {
   "cell_type": "code",
   "execution_count": 74,
   "metadata": {},
   "outputs": [],
   "source": [
    "from torch.utils.data import RandomSampler, DataLoader, TensorDataset\n",
    "\n",
    "X = torch.FloatTensor(X)\n",
    "y = torch.LongTensor(y)\n",
    "data = TensorDataset(X, y)\n",
    "sampler = RandomSampler(data)"
   ]
  },
  {
   "cell_type": "code",
   "execution_count": 3,
   "metadata": {},
   "outputs": [
    {
     "ename": "NameError",
     "evalue": "name 'FeedFor' is not defined",
     "output_type": "error",
     "traceback": [
      "\u001b[0;31m---------------------------------------------------------------------------\u001b[0m",
      "\u001b[0;31mNameError\u001b[0m                                 Traceback (most recent call last)",
      "\u001b[0;32m<ipython-input-3-a55395df370f>\u001b[0m in \u001b[0;36m<module>\u001b[0;34m\u001b[0m\n\u001b[1;32m      2\u001b[0m \u001b[0;32mfrom\u001b[0m \u001b[0mtorch\u001b[0m\u001b[0;34m.\u001b[0m\u001b[0mnn\u001b[0m\u001b[0;34m.\u001b[0m\u001b[0mutils\u001b[0m \u001b[0;32mimport\u001b[0m \u001b[0mclip_grad_norm_\u001b[0m\u001b[0;34m\u001b[0m\u001b[0;34m\u001b[0m\u001b[0m\n\u001b[1;32m      3\u001b[0m \u001b[0;34m\u001b[0m\u001b[0m\n\u001b[0;32m----> 4\u001b[0;31m \u001b[0mffn\u001b[0m \u001b[0;34m=\u001b[0m \u001b[0mFeedFor\u001b[0m\u001b[0;34m\u001b[0m\u001b[0;34m\u001b[0m\u001b[0m\n\u001b[0m\u001b[1;32m      5\u001b[0m \u001b[0;34m\u001b[0m\u001b[0m\n\u001b[1;32m      6\u001b[0m \u001b[0;32mfor\u001b[0m \u001b[0m_\u001b[0m \u001b[0;32min\u001b[0m \u001b[0mtqdmn\u001b[0m\u001b[0;34m(\u001b[0m\u001b[0mrange\u001b[0m\u001b[0;34m(\u001b[0m\u001b[0mnum_epochs\u001b[0m\u001b[0;34m)\u001b[0m\u001b[0;34m,\u001b[0m \u001b[0mtotal\u001b[0m\u001b[0;34m=\u001b[0m\u001b[0mnum_epochs\u001b[0m\u001b[0;34m,\u001b[0m \u001b[0mdesc\u001b[0m\u001b[0;34m=\u001b[0m\u001b[0;34m\"Epoch\"\u001b[0m\u001b[0;34m)\u001b[0m\u001b[0;34m:\u001b[0m\u001b[0;34m\u001b[0m\u001b[0;34m\u001b[0m\u001b[0m\n",
      "\u001b[0;31mNameError\u001b[0m: name 'FeedFor' is not defined"
     ]
    }
   ],
   "source": [
    "from tqdm import tqdm_notebook as tqdmn\n",
    "from torch.nn.utils import clip_grad_norm_\n",
    "\n",
    "ffn = FeedForwardWithEmbeddings(ft_vec.vectors)\n",
    "optimizer = \n",
    "scheduler = \n",
    "\n",
    "for _ in tqdmn(range(num_epochs), total=num_epochs, desc=\"Epoch\"):\n",
    "    steps = tqdmn(train_dataloader,\n",
    "                  total=X.size(0) // (train_dataloader.batch_size + 1),\n",
    "                  desc='Mini-batch')\n",
    "    train_loss = 0\n",
    "    for i_step, batch in enumerate(steps):\n",
    "        batch_X, batch_y = batch\n",
    "        loss, *_ = ffn(batch_X, labels=batch_y)\n",
    "        train_loss += loss.item()\n",
    "        loss.backward()\n",
    "        clip_grad_norm_(bert.parameters(), 1.0)\n",
    "\n",
    "        optimizer.step()\n",
    "        scheduler.step()\n",
    "        optimizer.zero_grad()"
   ]
  },
  {
   "cell_type": "markdown",
   "metadata": {},
   "source": [
    "---\n",
    "\n",
    "### Bag of Tricks for Efficient Text Classification\n",
    "- [Edouard Grave, Tomas Mikolov, Armand Joulin, Piotr Bojanowski: Bag of Tricks for Efficient Text Classification. EACL (2) 2017: 427-431](https://www.aclweb.org/anthology/E17-2068/)\n",
    "\n",
    "\n",
    "| Model | AG | Sogou | DBP | Yelp P. | Yelp F. | Yah. A. | Amz. F. | Amz. P. |\n",
    "| ----- | -- | ----- | --- | ------- | ------- | ------- | ------- | ------- |\n",
    "| BoW (Zhang et al., 2015) | 88.8 | 92.9 | 96.6 | 92.2 | 58.0 | 68.9 | 54.6 | 90.4 |\n",
    "| ngrams (Zhang et al., 2015) | 92.0 | 97.1 | 98.6 | 95.6 | 56.3 | 68.5 | 54.3 | 92.0 |\n",
    "| ngrams TFIDF (Zhang et al., 2015) | 92.4 | 97.2 | 98.7 | 95.4 | 54.8 | 68.5 | 52.4 | 91.5 |\n",
    "| char-CNN (Zhang and LeCun, 2015) | 87.2 | 95.1 | 98.3 | 94.7 | 62.0 | 71.2 | 59.5 | 94.5 |\n",
    "| char-CRNN (Xiao and Cho, 2016) | 91.4 | 95.2 | 98.6 | 94.5 | 61.8 | 71.7 | 59.2 | 94.1 |\n",
    "| VDCNN (Conneau et al., 2016) | 91.3 | 96.8 | 98.7 | 95.7 | 64.7 | 73.4 | 63.0 | 95.7 |\n",
    "| |\n",
    "| fastText, h = 10 | 91.5 | 93.9 | 98.1 | 93.8 | 60.4 | 72.0 | 55.8 | 91.2 |\n",
    "| fastText, h = 10, bigram | 92.5 | 96.8 | 98.6 | 95.7 | 63.9 | 72.3 | 60.2 | 94.6 |"
   ]
  }
 ],
 "metadata": {
  "kernelspec": {
   "display_name": "Python 3",
   "language": "python",
   "name": "python3"
  },
  "language_info": {
   "codemirror_mode": {
    "name": "ipython",
    "version": 3
   },
   "file_extension": ".py",
   "mimetype": "text/x-python",
   "name": "python",
   "nbconvert_exporter": "python",
   "pygments_lexer": "ipython3",
   "version": "3.7.4"
  }
 },
 "nbformat": 4,
 "nbformat_minor": 4
}
