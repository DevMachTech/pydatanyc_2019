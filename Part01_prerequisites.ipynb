{
 "cells": [
  {
   "cell_type": "markdown",
   "metadata": {},
   "source": [
    "# 1. Prerequisites\n",
    "\n",
    "Neural networks have four building blocks that define how the network operates and how it is trained. As the network architectures have become increasingly complex the details of how the networks are trained have similarly increased, how large the mini batches are, what optimizer to use etc. For instance, see `RoBERTa: A Robustly Optimized BERT Pretraining Approach` (https://arxiv.org/abs/1907.11692).\n",
    "\n",
    "The four main components of a trained neural network are\n",
    "\n",
    "- the network architecture\n",
    "    - feed forward, recurrent, transformer?\n",
    "    - how many layers?\n",
    "    - how wide are the layers?\n",
    "- the optimizer\n",
    "    - SGD\n",
    "    - Adam\n",
    "    - AdamW\n",
    "- the scheduler\n",
    "    - constant\n",
    "    - slanted learning rates\n",
    "- the learning objective and loss function\n",
    "    - this is problem dependent\n",
    "    - masked language model (MLM)\n",
    "    - causal language model (CLM)\n",
    "    - translation language model (TLM)\n",
    "    - classification\n",
    "\n",
    "https://pytorch.org/tutorials/beginner/deep_learning_nlp_tutorial.html\n",
    "\n",
    "\n",
    "## 1.1 Network Architecture\n",
    "\n",
    "The networks architecture is perhaps the most visible part of the four. It defines how the individual (artificial) neurons work and how they connect together. At its simplest the network is a fully connected feed forward network with sigmoid as the activation function for the neurons."
   ]
  },
  {
   "cell_type": "code",
   "execution_count": 8,
   "metadata": {},
   "outputs": [
    {
     "data": {
      "text/plain": [
       "array([[0.49201864, 0.50798136],\n",
       "       [0.4932044 , 0.50679564],\n",
       "       [0.49051538, 0.5094846 ],\n",
       "       [0.49539065, 0.50460935],\n",
       "       [0.4970286 , 0.5029715 ],\n",
       "       [0.5063873 , 0.4936127 ],\n",
       "       [0.4970608 , 0.5029392 ],\n",
       "       [0.4944676 , 0.50553244],\n",
       "       [0.50102276, 0.49897727],\n",
       "       [0.49211037, 0.50788957]], dtype=float32)"
      ]
     },
     "execution_count": 8,
     "metadata": {},
     "output_type": "execute_result"
    }
   ],
   "source": [
    "import torch\n",
    "from torch import nn\n",
    "from torch.nn import functional as F\n",
    "\n",
    "class FeedForward(nn.Module):\n",
    "    def __init__(self, layers, *args, **kwargs):\n",
    "        super().__init__(*args, **kwargs)\n",
    "        \n",
    "        # create feed forward layers\n",
    "        self.layers = nn.ModuleList([nn.Linear(in_features=in_features, out_features=out_features)\n",
    "                                     for (in_features, out_features) in layers])\n",
    "        \n",
    "        # TODO: initialise weights\n",
    "        \n",
    "        # create activation functions for each layer\n",
    "        self.activation = torch.nn.Sigmoid()\n",
    "\n",
    "    def forward(self, X, labels=None):\n",
    "        output = None\n",
    "        for i_layer, layer in enumerate(self.layers):\n",
    "            if output is None:\n",
    "                output = self.activation(layer(X))\n",
    "            else:\n",
    "                output = self.activation(layer(output))\n",
    "        # do softmax\n",
    "        prob = F.log_softmax(output, dim=1).exp()\n",
    "        return prob\n",
    "\n",
    "\n",
    "n_classes = 2\n",
    "n_features = 50\n",
    "layer_spec = [(n_features, 25), (25, n_classes)]\n",
    "ff = FeedForward(layers=layer_spec)\n",
    "\n",
    "inputs = torch.randn((10, n_features), dtype=torch.float32)\n",
    "ff(inputs).detach().numpy()"
   ]
  },
  {
   "cell_type": "markdown",
   "metadata": {},
   "source": [
    "## 1.2 Optimizer and Scheduler\n",
    "\n",
    "- http://ruder.io/optimizing-gradient-descent/\n",
    "- http://cs231n.github.io/optimization-1/\n",
    "\n",
    "## 1.3 Training the Network"
   ]
  },
  {
   "cell_type": "code",
   "execution_count": 9,
   "metadata": {},
   "outputs": [],
   "source": [
    "from sklearn.model_selection import train_test_split\n",
    "from sklearn.datasets import make_blobs\n",
    "from sklearn.preprocessing import OneHotEncoder\n",
    "from torch.optim.lr_scheduler import LambdaLR\n",
    "from torch.utils.data import TensorDataset, RandomSampler, DataLoader\n",
    "\n",
    "X, y = make_blobs(n_samples=500, n_features=n_features, centers=2)\n",
    "X_train, X_test, y_train, y_test = train_test_split(X, y)\n",
    "\n",
    "train_dataset = TensorDataset(torch.FloatTensor(X_train), torch.LongTensor(y_train))\n",
    "test_dataset = TensorDataset(torch.FloatTensor(X_test), torch.LongTensor(y_test))\n",
    "sampler = RandomSampler(train_dataset)\n",
    "\n",
    "# Utilize the data loader from pytorch to create batches of data \n",
    "train_data = DataLoader(train_dataset, sampler=sampler, batch_size=8)"
   ]
  },
  {
   "cell_type": "markdown",
   "metadata": {},
   "source": [
    "### 1.3.1 A Learning Function\n",
    "Define a training function that loops through the training data some number of times and updates the model weights as well as the learning rate schedule.\n",
    "\n",
    "__Note__ that each iteration over the inner for loop takes _one batch_ of data from the `pytorch` data loader class. The batch size determines how much data is used to compute the gradient. ___This will become important later!___\n"
   ]
  },
  {
   "cell_type": "code",
   "execution_count": 32,
   "metadata": {},
   "outputs": [],
   "source": [
    "def train_model(model: nn.Module,\n",
    "                data: DataLoader,\n",
    "                criterion: nn.modules.loss._Loss,\n",
    "                optimizer: torch.optim.Optimizer,\n",
    "                scheduler: torch.optim.lr_scheduler._LRScheduler,\n",
    "                n_epochs: int = 1):\n",
    "    model.train()\n",
    "    losses = []\n",
    "    # for each epoch\n",
    "    for i_epoch in range(n_epochs):\n",
    "        optimizer.zero_grad()\n",
    "        # go through the training data one batch at a time\n",
    "        for x_, y_ in data:\n",
    "            # Forward pass\n",
    "            y_pred = model(x_)\n",
    "\n",
    "            # Compute Loss\n",
    "            loss = criterion(y_pred.squeeze(), y_)\n",
    "            losses.append(loss)\n",
    "            \n",
    "            # Backprop loss\n",
    "            loss.backward()\n",
    "            \n",
    "            # Update weights\n",
    "            optimizer.step()\n",
    "            \n",
    "            # Update learning rate schedule\n",
    "            scheduler.step()\n",
    "    return model, losses"
   ]
  },
  {
   "cell_type": "code",
   "execution_count": 36,
   "metadata": {},
   "outputs": [],
   "source": [
    "from matplotlib import pyplot as plt\n",
    "import seaborn as sns\n",
    "\n",
    "model = FeedForward(layer_spec)\n",
    "criterion = torch.nn.NLLLoss()\n",
    "optimizer = torch.optim.SGD(model.parameters(), lr = 0.01)\n",
    "scheduler = LambdaLR(optimizer, lambda epoch: 1e-3)\n",
    "\n",
    "trained_model, losses_sgd = train_model(model, train_data, criterion, optimizer, scheduler, n_epochs=15)\n",
    "\n",
    "optimizer = torch.optim.Adam(model.parameters(), lr = 0.01)\n",
    "trained_model, losses_adam = train_model(model, train_data, criterion, optimizer, scheduler, n_epochs=15)"
   ]
  },
  {
   "cell_type": "markdown",
   "metadata": {},
   "source": [
    "The choice of optimizer makes quite a difference. As the network becomes larger (more parameters) and the problme more complex the optimizer becomes increasingly important."
   ]
  },
  {
   "cell_type": "code",
   "execution_count": 37,
   "metadata": {},
   "outputs": [
    {
     "data": {
      "image/png": "[encoded data removed]",
      "text/plain": [
       "<Figure size 432x288 with 1 Axes>"
      ]
     },
     "metadata": {
      "needs_background": "light"
     },
     "output_type": "display_data"
    }
   ],
   "source": [
    "%matplotlib inline\n",
    "\n",
    "plt.plot(losses_sgd, label='SGD');\n",
    "plt.legend();"
   ]
  },
  {
   "cell_type": "code",
   "execution_count": 38,
   "metadata": {},
   "outputs": [
    {
     "data": {
      "image/png": "[encoded data removed]",
      "text/plain": [
       "<Figure size 432x288 with 1 Axes>"
      ]
     },
     "metadata": {
      "needs_background": "light"
     },
     "output_type": "display_data"
    }
   ],
   "source": [
    "plt.plot(losses_adam, label='Adam');\n",
    "plt.legend();"
   ]
  },
  {
   "cell_type": "markdown",
   "metadata": {},
   "source": [
    "---\n",
    "\n",
    "# 1.4 Natural Language (text) to Linear Algebra\n",
    "\n",
    "The dummy data set we used in the previous section was already vectors so that no work was required to transform the data into something (a vector) a neural network can consume. Natural langauge text, or `python` source code for that matter, does not come in this readily available form so some amount of preprocessing is required.\n",
    "\n",
    "The great promise of artificial neural networks for NLP is that a lot of the feature engineering work that has in the past been done by arduous PhD students can be offloaded to the combination of neural network machinery, gradient descent and the loss function to be minimised. Optimising a loss function given some training data may lead to problems down the line in the networks ability to [generalise to other kinds of data](https://thegradient.pub/frontiers-of-generalization-in-natural-language-processing/), but we'll forego that concern here.\n",
    "\n",
    "## 1.4.1 Representing Natural Language - a Computer Science Perspective\n",
    "\n",
    "Natural languages are ambiguous, complex and highly expressive ways of encoding information, not just semantics but also a lot of cultural details like class hierarchies and history. The Viking conquests are present in the everyday usage of english. We grow _cows_ _pigs_ and _lamb_ but eat _beef_ _pork_ and _mutton_, at least the non-vegetarians do. In finnish _vasta_ and _vihta_ refer to a collection of young leafy birch branches used when bathing (sauna), however _vihta_ is only ever used in western Finland and _vasta_ only in eastern Finland. Whether or not these etymological tidbits and subtle differences in the semantics of the words are necessary or even helpful in solving some task remains debatable.\n",
    "\n",
    "Word vectors, also known as _embeddings_, aim to create word representations that capture distributional similarity between words as vectors. Specifically, the word vectors should act in such a way that algebraic modifications maintain the semantic coherence. By capturing distributional similarity they end up capturing semantic information about words and their relations and thus allow for a somewhat coherent way of encoding natural language text into vectors.\n",
    "\n",
    "These vectors can be used to encode documents for neural networks.\n",
    "\n",
    "## 1.4.2 A Text Classifier with Embeddings\n",
    "\n",
    "Below, we'll use the fastText word embeddings to create a document classifier for the 20 newsgroups data set."
   ]
  },
  {
   "cell_type": "code",
   "execution_count": 39,
   "metadata": {},
   "outputs": [
    {
     "name": "stdout",
     "output_type": "stream",
     "text": [
      "  % Total    % Received % Xferd  Average Speed   Time    Time     Time  Current\n",
      "                                 Dload  Upload   Total   Spent    Left  Speed\n",
      "100  650M  100  650M    0     0  4153k      0  0:02:40  0:02:40 --:--:-- 4412k    0   282k      0  0:39:14  0:00:02  0:39:12  282k8M    0     0  4143k      0  0:02:40  0:01:40  0:01:00 3247k\n"
     ]
    }
   ],
   "source": [
    "!curl -O https://dl.fbaipublicfiles.com/fasttext/vectors-english/wiki-news-300d-1M.vec.zip"
   ]
  },
  {
   "cell_type": "code",
   "execution_count": 40,
   "metadata": {},
   "outputs": [
    {
     "name": "stdout",
     "output_type": "stream",
     "text": [
      "Archive:  wiki-news-300d-1M.vec.zip\n",
      "  inflating: wiki-news-300d-1M.vec   \n"
     ]
    }
   ],
   "source": [
    "!unzip wiki-news-300d-1M.vec.zip"
   ]
  },
  {
   "cell_type": "markdown",
   "metadata": {},
   "source": [
    "# Word vectors (fastText)\n",
    "\n",
    "Much has been said about word vectors, and as a result I won't go into a lot of detail here, but instead simply refer to the existing excellent resources that are already available.\n",
    "\n",
    "- https://colah.github.io/posts/2014-07-NLP-RNNs-Representations/\n",
    "- http://www.offconvex.org/2015/12/12/word-embeddings-1/\n",
    "- https://www.offconvex.org/2016/02/14/word-embeddings-2/\n",
    "- [A Latent Variable Model Approach to PMI-based Word Embeddings](https://arxiv.org/abs/1502.03520)\n",
    "\n",
    "In short word vectors are a way of capturing and representing information about distributional semantics in a way that is convenient for computers to deal with. More to the point, they allow arithmetic operations that are, at least to an extent, semantically coherent."
   ]
  },
  {
   "cell_type": "code",
   "execution_count": 49,
   "metadata": {},
   "outputs": [],
   "source": [
    "from gensim.models import KeyedVectors\n",
    "ft_vec = KeyedVectors.load_word2vec_format('wiki-news-300d-1M.vec')"
   ]
  },
  {
   "cell_type": "code",
   "execution_count": 50,
   "metadata": {},
   "outputs": [
    {
     "data": {
      "text/plain": [
       "[('Hamburg', 0.7192949056625366),\n",
       " ('Leipzig', 0.7079555988311768),\n",
       " ('Germany', 0.7065215706825256),\n",
       " ('Bonn', 0.6962816715240479),\n",
       " ('Frankfurt', 0.6828957796096802),\n",
       " ('Munich', 0.6818759441375732),\n",
       " ('Dresden', 0.6666932106018066),\n",
       " ('Charlottenburg', 0.6547130346298218),\n",
       " ('Cologne', 0.6527723073959351),\n",
       " ('Potsdam', 0.6491366624832153)]"
      ]
     },
     "execution_count": 50,
     "metadata": {},
     "output_type": "execute_result"
    }
   ],
   "source": [
    "ft_vec.most_similar('Berlin')"
   ]
  },
  {
   "cell_type": "code",
   "execution_count": 51,
   "metadata": {},
   "outputs": [
    {
     "data": {
      "text/plain": [
       "[('python', 0.7034494280815125),\n",
       " ('Pythons', 0.7013207674026489),\n",
       " ('molurus', 0.6848306655883789),\n",
       " ('Stackless', 0.6760033369064331),\n",
       " ('Pygame', 0.6643676161766052),\n",
       " ('Monthy', 0.6636004447937012),\n",
       " ('PyGTK', 0.635582447052002),\n",
       " ('NumPy', 0.62997967004776),\n",
       " ('sebae', 0.6281064748764038),\n",
       " ('CPython', 0.6107180118560791)]"
      ]
     },
     "execution_count": 51,
     "metadata": {},
     "output_type": "execute_result"
    }
   ],
   "source": [
    "ft_vec.most_similar('Python')"
   ]
  },
  {
   "cell_type": "markdown",
   "metadata": {},
   "source": [
    "---\n",
    "\n",
    "Load the data and turn it something that can be fed into a network."
   ]
  },
  {
   "cell_type": "code",
   "execution_count": null,
   "metadata": {},
   "outputs": [],
   "source": [
    "from sklearn.datasets import fetch_20newsgroups\n",
    "\n",
    "news = fetch_20newsgroups(data_home='./data', remove=('headers', 'footers', 'quotes'))"
   ]
  },
  {
   "cell_type": "code",
   "execution_count": null,
   "metadata": {},
   "outputs": [],
   "source": [
    "news.keys()"
   ]
  },
  {
   "cell_type": "code",
   "execution_count": 19,
   "metadata": {},
   "outputs": [
    {
     "data": {
      "text/plain": [
       "(['alt.atheism', 'comp.graphics', 'comp.os.ms-windows.misc'], array([7, 4, 4]))"
      ]
     },
     "execution_count": 19,
     "metadata": {},
     "output_type": "execute_result"
    }
   ],
   "source": [
    "news['target_names'][:3], news['target'][:3]"
   ]
  },
  {
   "cell_type": "markdown",
   "metadata": {},
   "source": [
    "Create an index for fords"
   ]
  },
  {
   "cell_type": "code",
   "execution_count": 56,
   "metadata": {},
   "outputs": [],
   "source": [
    "word2idx = dict((w, idx) for (idx, w) in enumerate(model.index2word))"
   ]
  },
  {
   "cell_type": "code",
   "execution_count": 57,
   "metadata": {},
   "outputs": [
    {
     "data": {
      "text/plain": [
       "2918"
      ]
     },
     "execution_count": 57,
     "metadata": {},
     "output_type": "execute_result"
    }
   ],
   "source": [
    "word2idx['Berlin']"
   ]
  },
  {
   "cell_type": "code",
   "execution_count": 63,
   "metadata": {},
   "outputs": [
    {
     "data": {
      "text/html": [
       "<div>\n",
       "<style scoped>\n",
       "    .dataframe tbody tr th:only-of-type {\n",
       "        vertical-align: middle;\n",
       "    }\n",
       "\n",
       "    .dataframe tbody tr th {\n",
       "        vertical-align: top;\n",
       "    }\n",
       "\n",
       "    .dataframe thead th {\n",
       "        text-align: right;\n",
       "    }\n",
       "</style>\n",
       "<table border=\"1\" class=\"dataframe\">\n",
       "  <thead>\n",
       "    <tr style=\"text-align: right;\">\n",
       "      <th></th>\n",
       "      <th>word</th>\n",
       "      <th>vector</th>\n",
       "    </tr>\n",
       "    <tr>\n",
       "      <th>idx</th>\n",
       "      <th></th>\n",
       "      <th></th>\n",
       "    </tr>\n",
       "  </thead>\n",
       "  <tbody>\n",
       "    <tr>\n",
       "      <td>0</td>\n",
       "      <td>,</td>\n",
       "      <td>[0.1073, 0.0089, 0.0006, 0.0055, -0.0646, -0.0...</td>\n",
       "    </tr>\n",
       "    <tr>\n",
       "      <td>1</td>\n",
       "      <td>to</td>\n",
       "      <td>[0.0495, 0.0411, 0.0041, 0.0309, -0.0044, -0.1...</td>\n",
       "    </tr>\n",
       "    <tr>\n",
       "      <td>2</td>\n",
       "      <td>)</td>\n",
       "      <td>[-0.0675, 0.0383, -0.0183, 0.0028, -0.0074, -0...</td>\n",
       "    </tr>\n",
       "    <tr>\n",
       "      <td>3</td>\n",
       "      <td>on</td>\n",
       "      <td>[0.0206, 0.0231, -0.0574, 0.0388, -0.1158, -0....</td>\n",
       "    </tr>\n",
       "    <tr>\n",
       "      <td>4</td>\n",
       "      <td>The</td>\n",
       "      <td>[0.0797, -0.0294, 0.0033, 0.0458, 0.0174, -0.0...</td>\n",
       "    </tr>\n",
       "    <tr>\n",
       "      <td>5</td>\n",
       "      <td>by</td>\n",
       "      <td>[0.0242, -0.0265, 0.0822, -0.0322, 0.0042, -0....</td>\n",
       "    </tr>\n",
       "    <tr>\n",
       "      <td>6</td>\n",
       "      <td>you</td>\n",
       "      <td>[-0.1202, 0.07, 0.103, 0.0568, 0.1457, -0.1787...</td>\n",
       "    </tr>\n",
       "    <tr>\n",
       "      <td>7</td>\n",
       "      <td>-</td>\n",
       "      <td>[-0.0092, -0.0478, -0.038, 0.0125, 0.0175, -0....</td>\n",
       "    </tr>\n",
       "    <tr>\n",
       "      <td>8</td>\n",
       "      <td>;</td>\n",
       "      <td>[0.125, -0.0241, -0.0904, 0.0432, 0.1913, -0.0...</td>\n",
       "    </tr>\n",
       "    <tr>\n",
       "      <td>9</td>\n",
       "      <td>their</td>\n",
       "      <td>[0.0145, -0.0674, -0.0034, 0.0964, -0.0182, 0....</td>\n",
       "    </tr>\n",
       "    <tr>\n",
       "      <td>10</td>\n",
       "      <td>said</td>\n",
       "      <td>[0.0552, -0.0181, -0.0561, 0.0086, -0.0203, -0...</td>\n",
       "    </tr>\n",
       "    <tr>\n",
       "      <td>11</td>\n",
       "      <td>will</td>\n",
       "      <td>[-0.0368, 0.0231, -0.1271, -0.1208, -0.033, -0...</td>\n",
       "    </tr>\n",
       "    <tr>\n",
       "      <td>12</td>\n",
       "      <td>also</td>\n",
       "      <td>[-0.0764, 0.0451, -0.0883, 0.0223, -0.2671, 0....</td>\n",
       "    </tr>\n",
       "    <tr>\n",
       "      <td>13</td>\n",
       "      <td>people</td>\n",
       "      <td>[0.0104, 0.1101, -0.0982, -0.0106, -0.0696, 0....</td>\n",
       "    </tr>\n",
       "    <tr>\n",
       "      <td>14</td>\n",
       "      <td>they</td>\n",
       "      <td>[0.0793, 0.0045, 0.0034, 0.0801, -0.0688, -0.1...</td>\n",
       "    </tr>\n",
       "    <tr>\n",
       "      <td>15</td>\n",
       "      <td>#</td>\n",
       "      <td>[-0.0133, 0.0093, -0.023, 0.0666, 0.0421, 0.16...</td>\n",
       "    </tr>\n",
       "  </tbody>\n",
       "</table>\n",
       "</div>"
      ],
      "text/plain": [
       "       word                                             vector\n",
       "idx                                                           \n",
       "0         ,  [0.1073, 0.0089, 0.0006, 0.0055, -0.0646, -0.0...\n",
       "1        to  [0.0495, 0.0411, 0.0041, 0.0309, -0.0044, -0.1...\n",
       "2         )  [-0.0675, 0.0383, -0.0183, 0.0028, -0.0074, -0...\n",
       "3        on  [0.0206, 0.0231, -0.0574, 0.0388, -0.1158, -0....\n",
       "4       The  [0.0797, -0.0294, 0.0033, 0.0458, 0.0174, -0.0...\n",
       "5        by  [0.0242, -0.0265, 0.0822, -0.0322, 0.0042, -0....\n",
       "6       you  [-0.1202, 0.07, 0.103, 0.0568, 0.1457, -0.1787...\n",
       "7         -  [-0.0092, -0.0478, -0.038, 0.0125, 0.0175, -0....\n",
       "8         ;  [0.125, -0.0241, -0.0904, 0.0432, 0.1913, -0.0...\n",
       "9     their  [0.0145, -0.0674, -0.0034, 0.0964, -0.0182, 0....\n",
       "10     said  [0.0552, -0.0181, -0.0561, 0.0086, -0.0203, -0...\n",
       "11     will  [-0.0368, 0.0231, -0.1271, -0.1208, -0.033, -0...\n",
       "12     also  [-0.0764, 0.0451, -0.0883, 0.0223, -0.2671, 0....\n",
       "13   people  [0.0104, 0.1101, -0.0982, -0.0106, -0.0696, 0....\n",
       "14     they  [0.0793, 0.0045, 0.0034, 0.0801, -0.0688, -0.1...\n",
       "15        #  [-0.0133, 0.0093, -0.023, 0.0666, 0.0421, 0.16..."
      ]
     },
     "execution_count": 63,
     "metadata": {},
     "output_type": "execute_result"
    }
   ],
   "source": [
    "import pandas as pd\n",
    "\n",
    "pd.DataFrame([(idx, word, ft_vec[word])\n",
    "              for idx, word in enumerate(ft_vec.index2word[:80:5])],\n",
    "             columns=['idx', 'word', 'vector']).set_index('idx')"
   ]
  },
  {
   "cell_type": "markdown",
   "metadata": {},
   "source": [
    "we set the vector for out-of-vocabulary words to the mean of all other vectors"
   ]
  },
  {
   "cell_type": "code",
   "execution_count": 50,
   "metadata": {},
   "outputs": [],
   "source": [
    "UNK_vector = model.vectors.mean(axis=0)"
   ]
  },
  {
   "cell_type": "markdown",
   "metadata": {},
   "source": [
    "---"
   ]
  },
  {
   "cell_type": "markdown",
   "metadata": {},
   "source": [
    "Extend the feed forward network by adding an embedding layer."
   ]
  },
  {
   "cell_type": "code",
   "execution_count": 48,
   "metadata": {},
   "outputs": [],
   "source": [
    "class FeedForwardWithEmbeddings(nn.Module):\n",
    "    def __init__(self, layers, pretrained_embeddings=None,\n",
    "                 num_embeddings=None, embedding_dim=50,\n",
    "                 *args, **kwargs):\n",
    "        super().__init__(*args, **kwargs)\n",
    "        \n",
    "        if pretrained_embeddings:\n",
    "            self.embedding = nn.Embedding.from_pretrained(pretrained_embeddings)\n",
    "            self.embedding_dim = embedding.size(1)\n",
    "            self.num_embeddings = embedding.size(0)\n",
    "        elif num_embeddings is not None and num_embeddings > 0 and embedding_dim > 0:\n",
    "            self.embedding = nn.Embedding(num_embeddings, embedding_dim)\n",
    "        else:\n",
    "            raise Exception('You must either define pretrained embeddings or both the number and dimensionality of embeddings.')\n",
    "       \n",
    "        \n",
    "        # create feed forward layers\n",
    "        self.layers = nn.ModuleList([nn.Linear(in_features=in_features, out_features=out_features)\n",
    "                                     for (in_features, out_features) in layers])\n",
    "        \n",
    "        # TODO: initialise weights\n",
    "        \n",
    "        # create activation functions for each layer\n",
    "        self.activation = torch.nn.Sigmoid()\n",
    "\n",
    "    def forward(self, X, labels=None):\n",
    "        output = None\n",
    "        X = self.embedding(X)\n",
    "        for i_layer, layer in enumerate(self.layers):\n",
    "            if output is None:\n",
    "                output = self.activation(layer(X))\n",
    "            else:\n",
    "                output = self.activation(layer(output))\n",
    "        # do softmax\n",
    "        prob = F.log_softmax(output, dim=1).exp()\n",
    "        return prob "
   ]
  },
  {
   "cell_type": "code",
   "execution_count": 64,
   "metadata": {},
   "outputs": [
    {
     "ename": "NameError",
     "evalue": "name 'news' is not defined",
     "output_type": "error",
     "traceback": [
      "\u001b[0;31m---------------------------------------------------------------------------\u001b[0m",
      "\u001b[0;31mNameError\u001b[0m                                 Traceback (most recent call last)",
      "\u001b[0;32m<ipython-input-64-00e737533b92>\u001b[0m in \u001b[0;36m<module>\u001b[0;34m\u001b[0m\n\u001b[1;32m     10\u001b[0m     \u001b[0;32mreturn\u001b[0m \u001b[0mnews\u001b[0m\u001b[0;34m[\u001b[0m\u001b[0;34m'target_names'\u001b[0m\u001b[0;34m]\u001b[0m\u001b[0;34m[\u001b[0m\u001b[0mlabel_idx\u001b[0m\u001b[0;34m]\u001b[0m\u001b[0;34m.\u001b[0m\u001b[0msplit\u001b[0m\u001b[0;34m(\u001b[0m\u001b[0;34m'.'\u001b[0m\u001b[0;34m)\u001b[0m\u001b[0;34m[\u001b[0m\u001b[0;36m0\u001b[0m\u001b[0;34m]\u001b[0m\u001b[0;34m\u001b[0m\u001b[0;34m\u001b[0m\u001b[0m\n\u001b[1;32m     11\u001b[0m \u001b[0;34m\u001b[0m\u001b[0m\n\u001b[0;32m---> 12\u001b[0;31m \u001b[0mX\u001b[0m\u001b[0;34m,\u001b[0m \u001b[0my\u001b[0m \u001b[0;34m=\u001b[0m \u001b[0mzip\u001b[0m\u001b[0;34m(\u001b[0m\u001b[0;34m*\u001b[0m\u001b[0;34m[\u001b[0m\u001b[0;34m(\u001b[0m\u001b[0mtokenize\u001b[0m\u001b[0;34m(\u001b[0m\u001b[0mx\u001b[0m\u001b[0;34m)\u001b[0m\u001b[0;34m,\u001b[0m \u001b[0mmap_label\u001b[0m\u001b[0;34m(\u001b[0m\u001b[0my_idx\u001b[0m\u001b[0;34m)\u001b[0m\u001b[0;34m)\u001b[0m \u001b[0;32mfor\u001b[0m \u001b[0mx\u001b[0m\u001b[0;34m,\u001b[0m \u001b[0my_idx\u001b[0m \u001b[0;32min\u001b[0m \u001b[0mzip\u001b[0m\u001b[0;34m(\u001b[0m\u001b[0mnews\u001b[0m\u001b[0;34m[\u001b[0m\u001b[0;34m'data'\u001b[0m\u001b[0;34m]\u001b[0m\u001b[0;34m,\u001b[0m \u001b[0mnews\u001b[0m\u001b[0;34m[\u001b[0m\u001b[0;34m'target'\u001b[0m\u001b[0;34m]\u001b[0m\u001b[0;34m)\u001b[0m\u001b[0;34m]\u001b[0m\u001b[0;34m)\u001b[0m\u001b[0;34m\u001b[0m\u001b[0;34m\u001b[0m\u001b[0m\n\u001b[0m\u001b[1;32m     13\u001b[0m \u001b[0mlabel_map\u001b[0m \u001b[0;34m=\u001b[0m \u001b[0;34m{\u001b[0m\u001b[0mlabel\u001b[0m\u001b[0;34m:\u001b[0m \u001b[0midx\u001b[0m \u001b[0;32mfor\u001b[0m \u001b[0midx\u001b[0m\u001b[0;34m,\u001b[0m \u001b[0mlabel\u001b[0m \u001b[0;32min\u001b[0m \u001b[0menumerate\u001b[0m\u001b[0;34m(\u001b[0m\u001b[0mset\u001b[0m\u001b[0;34m(\u001b[0m\u001b[0my\u001b[0m\u001b[0;34m)\u001b[0m\u001b[0;34m)\u001b[0m\u001b[0;34m}\u001b[0m\u001b[0;34m\u001b[0m\u001b[0;34m\u001b[0m\u001b[0m\n\u001b[1;32m     14\u001b[0m \u001b[0my\u001b[0m \u001b[0;34m=\u001b[0m \u001b[0;34m[\u001b[0m\u001b[0mlabel_map\u001b[0m\u001b[0;34m[\u001b[0m\u001b[0my_\u001b[0m\u001b[0;34m]\u001b[0m \u001b[0;32mfor\u001b[0m \u001b[0my_\u001b[0m \u001b[0;32min\u001b[0m \u001b[0my\u001b[0m\u001b[0;34m]\u001b[0m\u001b[0;34m\u001b[0m\u001b[0;34m\u001b[0m\u001b[0m\n",
      "\u001b[0;31mNameError\u001b[0m: name 'news' is not defined"
     ]
    }
   ],
   "source": [
    "def tokenize(msg):\n",
    "    tokens = re.findall('\\w+', msg)\n",
    "    vectors = [word2idx[t] if t in ft_vec else unk_vector\n",
    "               for t in tokens][:100]\n",
    "    if len(vectors) < 100:\n",
    "        vectors += [unk_vector] * (100 - len(vectors))\n",
    "    return vectors\n",
    "\n",
    "def map_label(label_idx):\n",
    "    return news['target_names'][label_idx].split('.')[0]\n",
    "\n",
    "X, y = zip(*[(tokenize(x), map_label(y_idx)) for x, y_idx in zip(news['data'], news['target'])])\n",
    "label_map = {label: idx for idx, label in enumerate(set(y))}\n",
    "y = [label_map[y_] for y_ in y]"
   ]
  },
  {
   "cell_type": "markdown",
   "metadata": {},
   "source": [
    "__Note__: The precomputed fast text word embeddings contain a lot more entries than those in the 20 newsgroups data set. For practical purposes one _could_ leave only those words that are contained in the training data. This, however, comes at the cost of potentially losing information for future unseen words that _are_ in the pretrained fast text embeddings."
   ]
  },
  {
   "cell_type": "code",
   "execution_count": 67,
   "metadata": {},
   "outputs": [
    {
     "data": {
      "text/plain": [
       "{0, 1, 2, 3, 4, 5, 6}"
      ]
     },
     "execution_count": 67,
     "metadata": {},
     "output_type": "execute_result"
    }
   ],
   "source": [
    "set(y)"
   ]
  },
  {
   "cell_type": "code",
   "execution_count": 74,
   "metadata": {},
   "outputs": [],
   "source": [
    "from torch.utils.data import RandomSampler, DataLoader, TensorDataset\n",
    "\n",
    "X = torch.FloatTensor(X)\n",
    "y = torch.LongTensor(y)\n",
    "data = TensorDataset(X, y)\n",
    "sampler = RandomSampler(data)"
   ]
  },
  {
   "cell_type": "code",
   "execution_count": 58,
   "metadata": {},
   "outputs": [],
   "source": [
    "from tqdm import tqdm_notebook as tqdmn\n",
    "from torch.nn.utils import clip_grad_norm_\n",
    "\n",
    "for _ in tqdmn(range(num_epochs), total=num_epochs, desc=\"Epoch\"):\n",
    "    steps = tqdmn(train_dataloader,\n",
    "                  total=X.size(0) // (train_dataloader.batch_size + 1),\n",
    "                  desc='Mini-batch')\n",
    "    train_loss = 0\n",
    "    for i_step, batch in enumerate(steps):\n",
    "        batch_X, batch_y = batch\n",
    "        loss, *_ = bert(batch_X, labels=batch_y)\n",
    "        loss = loss / gradient_accumulation_steps\n",
    "        train_loss += loss.item()\n",
    "        loss.backward()\n",
    "        clip_grad_norm_(bert.parameters(), 1.0)\n",
    "        steps.set_postfix_str(f'avg. loss {train_loss / (i_step + 1):.4f}')\n",
    "        if (gradient_accumulation_steps <= 1\n",
    "                or (i_step + 1) % gradient_accumulation_steps == 0):\n",
    "            optimizer.step()\n",
    "            scheduler.step()\n",
    "            optimizer.zero_grad()"
   ]
  },
  {
   "cell_type": "markdown",
   "metadata": {},
   "source": [
    "---\n",
    "\n",
    "### Bag of Tricks for Efficient Text Classification\n",
    "- [Edouard Grave, Tomas Mikolov, Armand Joulin, Piotr Bojanowski: Bag of Tricks for Efficient Text Classification. EACL (2) 2017: 427-431](https://www.aclweb.org/anthology/E17-2068/)\n",
    "\n",
    "\n",
    "| Model | AG | Sogou | DBP | Yelp P. | Yelp F. | Yah. A. | Amz. F. | Amz. P. |\n",
    "| ----- | -- | ----- | --- | ------- | ------- | ------- | ------- | ------- |\n",
    "| BoW (Zhang et al., 2015) | 88.8 | 92.9 | 96.6 | 92.2 | 58.0 | 68.9 | 54.6 | 90.4 |\n",
    "| ngrams (Zhang et al., 2015) | 92.0 | 97.1 | 98.6 | 95.6 | 56.3 | 68.5 | 54.3 | 92.0 |\n",
    "| ngrams TFIDF (Zhang et al., 2015) | 92.4 | 97.2 | 98.7 | 95.4 | 54.8 | 68.5 | 52.4 | 91.5 |\n",
    "| char-CNN (Zhang and LeCun, 2015) | 87.2 | 95.1 | 98.3 | 94.7 | 62.0 | 71.2 | 59.5 | 94.5 |\n",
    "| char-CRNN (Xiao and Cho, 2016) | 91.4 | 95.2 | 98.6 | 94.5 | 61.8 | 71.7 | 59.2 | 94.1 |\n",
    "| VDCNN (Conneau et al., 2016) | 91.3 | 96.8 | 98.7 | 95.7 | 64.7 | 73.4 | 63.0 | 95.7 |\n",
    "| |\n",
    "| fastText, h = 10 | 91.5 | 93.9 | 98.1 | 93.8 | 60.4 | 72.0 | 55.8 | 91.2 |\n",
    "| fastText, h = 10, bigram | 92.5 | 96.8 | 98.6 | 95.7 | 63.9 | 72.3 | 60.2 | 94.6 |"
   ]
  }
 ],
 "metadata": {
  "kernelspec": {
   "display_name": "Python 3",
   "language": "python",
   "name": "python3"
  },
  "language_info": {
   "codemirror_mode": {
    "name": "ipython",
    "version": 3
   },
   "file_extension": ".py",
   "mimetype": "text/x-python",
   "name": "python",
   "nbconvert_exporter": "python",
   "pygments_lexer": "ipython3",
   "version": "3.7.4"
  }
 },
 "nbformat": 4,
 "nbformat_minor": 4
}
