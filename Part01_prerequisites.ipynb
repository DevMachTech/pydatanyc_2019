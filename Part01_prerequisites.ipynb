{
 "cells": [
  {
   "cell_type": "markdown",
   "metadata": {},
   "source": [
    "# Prerequisites\n",
    "\n",
    "Neural networks have four building blocks that define how the network operates and how it is trained. As the network architectures have become increasingly complex the details of how the networks are trained have similarly increased, how large the mini batches are, what optimizer to use etc. For instance, see `RoBERTa: A Robustly Optimized BERT Pretraining Approach` (https://arxiv.org/abs/1907.11692).\n",
    "\n",
    "The four main components of a trained neural network are\n",
    "\n",
    "- the network architecture\n",
    "    - feed forward, recurrent, transformer?\n",
    "    - how many layers?\n",
    "    - how wide are the layers?\n",
    "- the optimizer\n",
    "    - SGD\n",
    "    - Adam\n",
    "    - AdamW\n",
    "- the scheduler\n",
    "    - constant\n",
    "    - slanted learning rates\n",
    "- the learning objective and loss function\n",
    "    - this is problem dependent\n",
    "    - masked language model (MLM)\n",
    "    - causal language model (CLM)\n",
    "    - translation language model (TLM)\n",
    "    - classification\n",
    "\n",
    "\n",
    "https://pytorch.org/tutorials/beginner/deep_learning_nlp_tutorial.html\n",
    "\n",
    "\n",
    "## Network Architecture\n",
    "\n",
    "The networks architecture is perhaps the most visible part of the four. It defines how the individual (artificial) neurons work and how they connect together. At its simplest the network is a fully connected feed forward network with sigmoid as the activation function for the neurons."
   ]
  },
  {
   "cell_type": "code",
   "execution_count": 103,
   "metadata": {},
   "outputs": [
    {
     "data": {
      "text/plain": [
       "array([[0.50876135, 0.49123868],\n",
       "       [0.4975644 , 0.5024356 ],\n",
       "       [0.5102277 , 0.48977232],\n",
       "       [0.5089147 , 0.49108538],\n",
       "       [0.50436974, 0.4956302 ],\n",
       "       [0.49934506, 0.50065494],\n",
       "       [0.49872625, 0.50127375],\n",
       "       [0.5024991 , 0.4975009 ],\n",
       "       [0.4910561 , 0.5089439 ],\n",
       "       [0.50821185, 0.49178815]], dtype=float32)"
      ]
     },
     "execution_count": 103,
     "metadata": {},
     "output_type": "execute_result"
    }
   ],
   "source": [
    "import torch\n",
    "from torch import nn\n",
    "from torch.nn import functional as F\n",
    "\n",
    "class FeedForward(nn.Module):\n",
    "    def __init__(self, layers, *args, **kwargs):\n",
    "        super().__init__(*args, **kwargs)\n",
    "        self.layers = nn.ModuleList([nn.Linear(in_features=in_features, out_features=out_features)\n",
    "                                     for (in_features, out_features) in layers])\n",
    "        self.activations = nn.ModuleList([torch.nn.Sigmoid() for _ in layers])\n",
    "\n",
    "    def forward(self, X, labels=None):\n",
    "        output = None\n",
    "        for i_layer, (layer, act) in enumerate(zip(self.layers, self.activations)):\n",
    "            if output is None:\n",
    "                output = act(layer(X))\n",
    "            else:\n",
    "                output = act(layer(output))\n",
    "        # do softmax\n",
    "        prob = F.log_softmax(output, dim=1).exp()\n",
    "        return prob\n",
    "\n",
    "\n",
    "n_classes = 2\n",
    "n_features = 50\n",
    "layer_spec = [(n_features, 25), (25, n_classes)]\n",
    "ff = FeedForward(layers=layer_spec)\n",
    "\n",
    "inputs = torch.randn((10, n_features), dtype=torch.float32)\n",
    "ff(inputs).detach().numpy()"
   ]
  },
  {
   "cell_type": "markdown",
   "metadata": {},
   "source": [
    "# Let's first load some data"
   ]
  },
  {
   "cell_type": "code",
   "execution_count": 160,
   "metadata": {},
   "outputs": [],
   "source": [
    "from sklearn.model_selection import train_test_split\n",
    "from sklearn.datasets import make_blobs\n",
    "from sklearn.preprocessing import OneHotEncoder\n",
    "from torch.optim.lr_scheduler import LambdaLR\n",
    "from torch.utils.data import TensorDataset, RandomSampler, DataLoader\n",
    "\n",
    "X, y = make_blobs(n_samples=500, n_features=n_features, centers=2)\n",
    "X_train, X_test, y_train, y_test = train_test_split(X, y)\n",
    "\n",
    "train_dataset = TensorDataset(torch.FloatTensor(X_train), torch.LongTensor(y_train))\n",
    "test_dataset = TensorDataset(torch.FloatTensor(X_test), torch.LongTensor(y_test))\n",
    "sampler = RandomSampler(train_dataset)\n",
    "train_data = DataLoader(train_dataset, sampler=sampler, batch_size=8)\n",
    "\n",
    "model = FeedForward(layer_spec)\n",
    "criterion = torch.nn.NLLLoss()\n",
    "optimizer = torch.optim.SGD(model.parameters(), lr = 0.01)\n",
    "# optimizer = torch.optim.Adam(model.parameters(), lr = 0.01)\n",
    "scheduler = LambdaLR(optimizer, lambda epoch: 1e-3)\n",
    "\n",
    "model.train()\n",
    "n_epochs = 150\n",
    "losses = []\n",
    "for i_epoch in range(n_epochs):\n",
    "    optimizer.zero_grad()\n",
    "    for x_, y_ in train_data:\n",
    "        # Forward pass\n",
    "        y_pred = model(x_)\n",
    "    \n",
    "        # Compute Loss\n",
    "        loss = criterion(y_pred.squeeze(), y_)\n",
    "        losses.append(loss)\n",
    "        loss.backward()\n",
    "        optimizer.step()\n",
    "        scheduler.step()\n",
    "    "
   ]
  },
  {
   "cell_type": "code",
   "execution_count": 161,
   "metadata": {},
   "outputs": [
    {
     "data": {
      "text/plain": [
       "[<matplotlib.lines.Line2D at 0x13a65b950>]"
      ]
     },
     "execution_count": 161,
     "metadata": {},
     "output_type": "execute_result"
    },
    {
     "data": {
      "image/png": "[encoded data removed]",
      "text/plain": [
       "<Figure size 432x288 with 1 Axes>"
      ]
     },
     "metadata": {
      "needs_background": "light"
     },
     "output_type": "display_data"
    }
   ],
   "source": [
    "from matplotlib import pyplot as plt\n",
    "import seaborn as sns\n",
    "plt.plot(losses)"
   ]
  },
  {
   "cell_type": "code",
   "execution_count": 4,
   "metadata": {},
   "outputs": [],
   "source": [
    "from sklearn.datasets import fetch_20newsgroups\n",
    "\n",
    "news = fetch_20newsgroups(data_home='./data', remove=('headers', 'footers', 'quotes'))"
   ]
  },
  {
   "cell_type": "code",
   "execution_count": 2,
   "metadata": {},
   "outputs": [
    {
     "data": {
      "text/plain": [
       "dict_keys(['data', 'filenames', 'target_names', 'target', 'DESCR'])"
      ]
     },
     "execution_count": 2,
     "metadata": {},
     "output_type": "execute_result"
    }
   ],
   "source": [
    "news.keys()"
   ]
  },
  {
   "cell_type": "code",
   "execution_count": 24,
   "metadata": {},
   "outputs": [
    {
     "name": "stdout",
     "output_type": "stream",
     "text": [
      "  % Total    % Received % Xferd  Average Speed   Time    Time     Time  Current\n",
      "                                 Dload  Upload   Total   Spent    Left  Speed\n",
      "100  650M  100  650M    0     0   9.8M      0  0:01:05  0:01:05 --:--:-- 12.3M00:59  0:00:18  0:00:41 12.1M01:01  0:00:42  0:00:19 8028k\n"
     ]
    }
   ],
   "source": [
    "!curl -O https://dl.fbaipublicfiles.com/fasttext/vectors-english/wiki-news-300d-1M.vec.zip"
   ]
  },
  {
   "cell_type": "code",
   "execution_count": 25,
   "metadata": {},
   "outputs": [
    {
     "name": "stdout",
     "output_type": "stream",
     "text": [
      "Archive:  wiki-news-300d-1M.vec.zip\n",
      "  inflating: wiki-news-300d-1M.vec   \n"
     ]
    }
   ],
   "source": [
    "!unzip wiki-news-300d-1M.vec.zip"
   ]
  },
  {
   "cell_type": "markdown",
   "metadata": {},
   "source": [
    "# Word vectors (fastText)\n",
    "\n",
    "Much has been said about word vectors, and as a result I won't go into a lot of detail here, but instead simply refer to the existing excellent resources that are already available.\n",
    "\n",
    "LINK HERE ABOUT WORD VECTORS\n",
    "\n",
    "In short word vectors are a way of capturing and representing information about distribution semantics in a way that is convenient for computers to deal with. More to the point, they allow arithmetic operations that are, at least to an extent, semantically coherent."
   ]
  },
  {
   "cell_type": "code",
   "execution_count": 26,
   "metadata": {},
   "outputs": [],
   "source": [
    "from gensim.models import KeyedVectors\n",
    "model = KeyedVectors.load_word2vec_format('wiki-news-300d-1M.vec')"
   ]
  },
  {
   "cell_type": "code",
   "execution_count": 48,
   "metadata": {},
   "outputs": [
    {
     "data": {
      "text/plain": [
       "[('kings', 0.7969564199447632),\n",
       " ('queen', 0.763853907585144),\n",
       " ('monarch', 0.7399972081184387),\n",
       " ('King', 0.7281952500343323),\n",
       " ('prince', 0.7132730484008789),\n",
       " ('kingdom', 0.7014780044555664),\n",
       " ('ruler', 0.6777099967002869),\n",
       " ('royal', 0.6696850061416626),\n",
       " ('emperor', 0.6599918603897095),\n",
       " ('uncrowned', 0.6499435305595398)]"
      ]
     },
     "execution_count": 48,
     "metadata": {},
     "output_type": "execute_result"
    }
   ],
   "source": [
    "model.most_similar('king')"
   ]
  },
  {
   "cell_type": "markdown",
   "metadata": {},
   "source": [
    "---\n",
    "\n",
    "Turn the data into something that can be fed into a network."
   ]
  },
  {
   "cell_type": "code",
   "execution_count": 19,
   "metadata": {},
   "outputs": [
    {
     "data": {
      "text/plain": [
       "(['alt.atheism', 'comp.graphics', 'comp.os.ms-windows.misc'], array([7, 4, 4]))"
      ]
     },
     "execution_count": 19,
     "metadata": {},
     "output_type": "execute_result"
    }
   ],
   "source": [
    "news['target_names'][:3], news['target'][:3]"
   ]
  },
  {
   "cell_type": "markdown",
   "metadata": {},
   "source": [
    "we set the vector for out-of-vocabulary words to the mean of all other vectors"
   ]
  },
  {
   "cell_type": "code",
   "execution_count": 50,
   "metadata": {},
   "outputs": [],
   "source": [
    "unk_vector = model.vectors.mean(axis=0)"
   ]
  },
  {
   "cell_type": "code",
   "execution_count": 72,
   "metadata": {},
   "outputs": [],
   "source": [
    "def tokenize(msg):\n",
    "    tokens = re.findall('\\w+', msg)\n",
    "    vectors = [model[t] if t in model else unk_vector for t in tokens][:100]\n",
    "    if len(vectors) < 100:\n",
    "        vectors += [unk_vector] * (100 - len(vectors))\n",
    "    return vectors\n",
    "\n",
    "def map_label(label_idx):\n",
    "    return news['target_names'][label_idx].split('.')[0]\n",
    "\n",
    "X, y = zip(*[(tokenize(x), map_label(y_idx)) for x, y_idx in zip(news['data'], news['target'])])\n",
    "label_map = {label: idx for idx, label in enumerate(set(y))}\n",
    "y = [label_map[y_] for y_ in y]"
   ]
  },
  {
   "cell_type": "code",
   "execution_count": 67,
   "metadata": {},
   "outputs": [
    {
     "data": {
      "text/plain": [
       "{0, 1, 2, 3, 4, 5, 6}"
      ]
     },
     "execution_count": 67,
     "metadata": {},
     "output_type": "execute_result"
    }
   ],
   "source": [
    "set(y)"
   ]
  },
  {
   "cell_type": "code",
   "execution_count": 74,
   "metadata": {},
   "outputs": [],
   "source": [
    "from torch.utils.data import RandomSampler, DataLoader, TensorDataset\n",
    "\n",
    "X = torch.FloatTensor(X)\n",
    "y = torch.LongTensor(y)\n",
    "data = TensorDataset(X, y)\n",
    "sampler = RandomSampler(data)"
   ]
  },
  {
   "cell_type": "markdown",
   "metadata": {},
   "source": [
    "---"
   ]
  },
  {
   "cell_type": "code",
   "execution_count": 58,
   "metadata": {},
   "outputs": [],
   "source": [
    "import torch\n",
    "from torch import nn\n",
    "\n",
    "n_classes = len(set(y))\n",
    "n_layers = [(3000, 25), (25, 25), (25, n_classes)]\n",
    "linear_layers = nn.ModuleList([nn.Linear(in_features=in_features, out_features=out_features) for (in_features, out_features) in n_layers])\n",
    "\n",
    "def forward():\n",
    "    "
   ]
  }
 ],
 "metadata": {
  "kernelspec": {
   "display_name": "Python 3",
   "language": "python",
   "name": "python3"
  },
  "language_info": {
   "codemirror_mode": {
    "name": "ipython",
    "version": 3
   },
   "file_extension": ".py",
   "mimetype": "text/x-python",
   "name": "python",
   "nbconvert_exporter": "python",
   "pygments_lexer": "ipython3",
   "version": "3.7.4"
  }
 },
 "nbformat": 4,
 "nbformat_minor": 4
}
